{
 "cells": [
  {
   "cell_type": "code",
   "execution_count": 8,
   "metadata": {},
   "outputs": [],
   "source": [
    "import pandas as pd\n",
    "import networkx as nx\n",
    "from textblob import TextBlob\n",
    "import spacy\n",
    "nlp = spacy.load('en_core_web_sm')"
   ]
  },
  {
   "cell_type": "code",
   "execution_count": 10,
   "metadata": {},
   "outputs": [],
   "source": [
    "import en_core_web_sm\n",
    "nlp = en_core_web_sm.load()"
   ]
  },
  {
   "cell_type": "markdown",
   "metadata": {},
   "source": [
    "We would like to understand the relationships between different topics and concepts in the text below. We will combine text analytics and network analytics.\n",
    "\n",
    "- Using sentence segmentation, break the text to sentences.\n",
    "- Using named entity extraction, identify named entities in each sentence.\n",
    "- Create a newtork in which the nodes are named entities and the links are whether the two named entities co-occured in same sentences. Add the frequency of co-occurences as an edge property.\n",
    "- What is the most frequent relation in the data?\n",
    "- What are the top five influential nodes?\n",
    "- Plot the network, any insights?"
   ]
  },
  {
   "cell_type": "code",
   "execution_count": 11,
   "metadata": {},
   "outputs": [],
   "source": [
    "article = \"\"\"Moulton says Biden was wrong to vote in favor of Iraq War resolution in 2002\n",
    "\n",
    "Updated 1:05 PM ET, Sun June 2, 2019\n",
    "Washington (CNN) - Former Vice President Joe Biden was wrong to vote in favor of authorizing the use of military force against Iraq in 2002 when he was a senator, Democratic presidential candidate and Iraq War veteran Seth Moulton said in an interview that aired Sunday.\n",
    "\n",
    "\"It was a mistake. Because we should've been a lot more careful about going into Iraq. We should have questioned the intelligence. We should have made sure that we exhausted every opportunity before we put young American lives in danger,\" Moulton, who represents Massachusetts in the House, told CNN's Jake Tapper on \"State of the Union\" when pressed about Biden's decision to vote in favor of the US going to war in Iraq.\n",
    "\n",
    "Biden, who is also a Democratic presidential candidate, has faced criticism for his support of the war, though he later became a vocal critic of the conflict. In 2002, then a senator from Delaware, Biden voted in favor of the Iraq War resolution, which authorized President George W. Bush to attack Iraq if Saddam Hussein refused to give up weapons of mass destruction as required by UN resolutions. The Senate passed the resolution in a 77-23 vote, with support from both sides of the aisle.\n",
    "\n",
    "The intelligence used by the Bush administration that claimed Iraq possessed weapons of mass destruction has since been discredited, and support for the war has declined in the years since it began.\n",
    "\n",
    "CNN has reached out to the Biden campaign for comment.\n",
    "\n",
    "Moulton is not alone in his criticism of Biden's support for the Iraq War resolution. Vermont Sen. Bernie Sanders, who is also a 2020 presidential candidate, frequently draws a contrast between himself and the former vice president by noting that he voted against the resolution in 2002.\n",
    "\n",
    "Moulton told Tapper that he respects Biden, calling him \"a mentor and a friend,\" but added that he thinks \"it's time for the generation that fought in Iraq and Afghanistan to step in for the generation that sent us there.\" \"\"\""
   ]
  },
  {
   "cell_type": "code",
   "execution_count": 12,
   "metadata": {},
   "outputs": [],
   "source": [
    "blob = TextBlob(article)"
   ]
  },
  {
   "cell_type": "code",
   "execution_count": 15,
   "metadata": {},
   "outputs": [],
   "source": [
    "senetences = [sent.raw for sent in blob.sentences]"
   ]
  },
  {
   "cell_type": "code",
   "execution_count": 23,
   "metadata": {},
   "outputs": [],
   "source": [
    "def get_nes(s):\n",
    "    doc = nlp(s)\n",
    "    return [ent.text for ent in doc.ents]"
   ]
  },
  {
   "cell_type": "code",
   "execution_count": 24,
   "metadata": {},
   "outputs": [],
   "source": [
    "nes = [get_nes(s) for s in senetences]"
   ]
  },
  {
   "cell_type": "code",
   "execution_count": 26,
   "metadata": {},
   "outputs": [],
   "source": [
    "ne = nes[0]"
   ]
  },
  {
   "cell_type": "code",
   "execution_count": 27,
   "metadata": {},
   "outputs": [
    {
     "data": {
      "text/plain": [
       "['Moulton',\n",
       " 'Biden',\n",
       " 'Iraq War',\n",
       " '2002',\n",
       " '1:05 PM ET',\n",
       " 'June 2, 2019',\n",
       " 'Washington',\n",
       " 'CNN',\n",
       " 'Joe Biden',\n",
       " 'Iraq',\n",
       " '2002',\n",
       " 'Democratic',\n",
       " 'Iraq War',\n",
       " 'Seth Moulton',\n",
       " 'Sunday']"
      ]
     },
     "execution_count": 27,
     "metadata": {},
     "output_type": "execute_result"
    }
   ],
   "source": [
    "ne"
   ]
  },
  {
   "cell_type": "code",
   "execution_count": 28,
   "metadata": {},
   "outputs": [],
   "source": [
    "net = nx.Graph()"
   ]
  },
  {
   "cell_type": "code",
   "execution_count": null,
   "metadata": {},
   "outputs": [],
   "source": []
  }
 ],
 "metadata": {
  "kernelspec": {
   "display_name": "Python 3",
   "language": "python",
   "name": "python3"
  },
  "language_info": {
   "codemirror_mode": {
    "name": "ipython",
    "version": 3
   },
   "file_extension": ".py",
   "mimetype": "text/x-python",
   "name": "python",
   "nbconvert_exporter": "python",
   "pygments_lexer": "ipython3",
   "version": "3.7.3"
  }
 },
 "nbformat": 4,
 "nbformat_minor": 2
}
