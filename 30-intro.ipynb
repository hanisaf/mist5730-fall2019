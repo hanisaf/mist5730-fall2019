{
 "cells": [
  {
   "cell_type": "markdown",
   "metadata": {
    "colab_type": "text",
    "id": "YueLLjO8YJLK",
    "slideshow": {
     "slide_type": "slide"
    }
   },
   "source": [
    "# Introduction to Altair\n",
    "\n",
    "[Altair](https://altair-viz.github.io/) is a declarative statistical visualization library for Python. Altair offers a powerful and concise visualization grammar for quickly building a wide range of statistical graphics.\n",
    "\n",
    "By *declarative*, we mean that you can provide a high-level specification of *what* you want the visualization to include, in terms of *data*, *graphical marks*, and *encoding channels*, rather than having to specify *how* to implement the visualization in terms of for-loops, low-level drawing commands, *etc*. The key idea is that you declare links between data fields and visual encoding channels, such as the x-axis, y-axis, color, *etc*. The rest of the plot details are handled automatically. Building on this declarative plotting idea, a surprising range of simple to sophisticated visualizations can be created using a concise grammar."
   ]
  },
  {
   "cell_type": "markdown",
   "metadata": {
    "colab_type": "text",
    "id": "Wy1RJr6YaIWG",
    "slideshow": {
     "slide_type": "slide"
    }
   },
   "source": [
    "## Imports\n",
    "\n",
    "To start, we must import the necessary libraries: Pandas for data frames and Altair for visualization."
   ]
  },
  {
   "cell_type": "code",
   "execution_count": 1,
   "metadata": {
    "colab": {},
    "colab_type": "code",
    "id": "zYMsJwmgJ4R7",
    "slideshow": {
     "slide_type": "slide"
    }
   },
   "outputs": [
    {
     "data": {
      "text/plain": [
       "RendererRegistry.enable('notebook')"
      ]
     },
     "execution_count": 1,
     "metadata": {},
     "output_type": "execute_result"
    }
   ],
   "source": [
    "import pandas as pd\n",
    "import altair as alt\n",
    "# use this line if you are in a Jupyter Notebook (not JupyterLab) environment\n",
    "alt.renderers.enable('notebook')"
   ]
  },
  {
   "cell_type": "markdown",
   "metadata": {
    "colab_type": "text",
    "id": "lTWpkCvO8sjI",
    "slideshow": {
     "slide_type": "slide"
    }
   },
   "source": [
    "### Weather Data\n",
    "\n",
    "Statistical visualization in Altair begins with [\"tidy\"](http://vita.had.co.nz/papers/tidy-data.html) data frames. Here, we'll start by creating a simple data frame (`df`) containing the average precipitation (`precip`) for a given `city` and `month` :"
   ]
  },
  {
   "cell_type": "code",
   "execution_count": 2,
   "metadata": {
    "colab": {
     "base_uri": "https://localhost:8080/",
     "height": 328
    },
    "colab_type": "code",
    "id": "Zad2hV5G72j2",
    "outputId": "27129375-c1a3-429a-e4a4-f8ed2c5e0263",
    "slideshow": {
     "slide_type": "slide"
    }
   },
   "outputs": [
    {
     "data": {
      "text/html": [
       "<div>\n",
       "<style scoped>\n",
       "    .dataframe tbody tr th:only-of-type {\n",
       "        vertical-align: middle;\n",
       "    }\n",
       "\n",
       "    .dataframe tbody tr th {\n",
       "        vertical-align: top;\n",
       "    }\n",
       "\n",
       "    .dataframe thead th {\n",
       "        text-align: right;\n",
       "    }\n",
       "</style>\n",
       "<table border=\"1\" class=\"dataframe\">\n",
       "  <thead>\n",
       "    <tr style=\"text-align: right;\">\n",
       "      <th></th>\n",
       "      <th>city</th>\n",
       "      <th>month</th>\n",
       "      <th>precip</th>\n",
       "    </tr>\n",
       "  </thead>\n",
       "  <tbody>\n",
       "    <tr>\n",
       "      <td>0</td>\n",
       "      <td>Seattle</td>\n",
       "      <td>Apr</td>\n",
       "      <td>2.68</td>\n",
       "    </tr>\n",
       "    <tr>\n",
       "      <td>1</td>\n",
       "      <td>Seattle</td>\n",
       "      <td>Aug</td>\n",
       "      <td>0.87</td>\n",
       "    </tr>\n",
       "    <tr>\n",
       "      <td>2</td>\n",
       "      <td>Seattle</td>\n",
       "      <td>Dec</td>\n",
       "      <td>5.31</td>\n",
       "    </tr>\n",
       "    <tr>\n",
       "      <td>3</td>\n",
       "      <td>New York</td>\n",
       "      <td>Apr</td>\n",
       "      <td>3.94</td>\n",
       "    </tr>\n",
       "    <tr>\n",
       "      <td>4</td>\n",
       "      <td>New York</td>\n",
       "      <td>Aug</td>\n",
       "      <td>4.13</td>\n",
       "    </tr>\n",
       "    <tr>\n",
       "      <td>5</td>\n",
       "      <td>New York</td>\n",
       "      <td>Dec</td>\n",
       "      <td>3.58</td>\n",
       "    </tr>\n",
       "    <tr>\n",
       "      <td>6</td>\n",
       "      <td>Chicago</td>\n",
       "      <td>Apr</td>\n",
       "      <td>3.62</td>\n",
       "    </tr>\n",
       "    <tr>\n",
       "      <td>7</td>\n",
       "      <td>Chicago</td>\n",
       "      <td>Aug</td>\n",
       "      <td>3.98</td>\n",
       "    </tr>\n",
       "    <tr>\n",
       "      <td>8</td>\n",
       "      <td>Chicago</td>\n",
       "      <td>Dec</td>\n",
       "      <td>2.56</td>\n",
       "    </tr>\n",
       "  </tbody>\n",
       "</table>\n",
       "</div>"
      ],
      "text/plain": [
       "       city month  precip\n",
       "0   Seattle   Apr    2.68\n",
       "1   Seattle   Aug    0.87\n",
       "2   Seattle   Dec    5.31\n",
       "3  New York   Apr    3.94\n",
       "4  New York   Aug    4.13\n",
       "5  New York   Dec    3.58\n",
       "6   Chicago   Apr    3.62\n",
       "7   Chicago   Aug    3.98\n",
       "8   Chicago   Dec    2.56"
      ]
     },
     "execution_count": 2,
     "metadata": {},
     "output_type": "execute_result"
    }
   ],
   "source": [
    "df = pd.DataFrame({\n",
    "    'city': ['Seattle', 'Seattle', 'Seattle', 'New York', 'New York', 'New York', 'Chicago', 'Chicago', 'Chicago'],\n",
    "    'month': ['Apr', 'Aug', 'Dec', 'Apr', 'Aug', 'Dec', 'Apr', 'Aug', 'Dec'],\n",
    "    'precip': [2.68, 0.87, 5.31, 3.94, 4.13, 3.58, 3.62, 3.98, 2.56]\n",
    "})\n",
    "\n",
    "df"
   ]
  },
  {
   "cell_type": "markdown",
   "metadata": {
    "colab_type": "text",
    "id": "ac427IWdb7xx",
    "slideshow": {
     "slide_type": "slide"
    }
   },
   "source": [
    "## The Chart Object\n",
    "\n",
    "The fundamental object in Altair is the `Chart`, which takes a data frame as a single argument:"
   ]
  },
  {
   "cell_type": "code",
   "execution_count": 3,
   "metadata": {
    "colab": {},
    "colab_type": "code",
    "id": "QqF4GKjDcG4y",
    "slideshow": {
     "slide_type": "slide"
    }
   },
   "outputs": [],
   "source": [
    "chart = alt.Chart(df)"
   ]
  },
  {
   "cell_type": "markdown",
   "metadata": {
    "colab_type": "text",
    "id": "9i5gX1tWcKAu",
    "slideshow": {
     "slide_type": "slide"
    }
   },
   "source": [
    "So far, we have defined the `Chart` object and passed it the simple data frame we generated above. We have not yet told the chart to *do* anything with the data."
   ]
  },
  {
   "cell_type": "markdown",
   "metadata": {
    "colab_type": "text",
    "id": "_z0gVCb8cNgx",
    "slideshow": {
     "slide_type": "slide"
    }
   },
   "source": [
    "## Marks and Encodings\n",
    "\n",
    "With a chart object in hand, we can now specify how we would like the data to be visualized. We first indicate what kind of graphical *mark* (geometric shape) we want to use to represent the data. We can set the `mark` attribute of the chart object using the the `Chart.mark_*` methods.\n",
    "\n",
    "For example, we can show the data as a point using `Chart.mark_point()`:"
   ]
  },
  {
   "cell_type": "code",
   "execution_count": 4,
   "metadata": {
    "colab": {
     "base_uri": "https://localhost:8080/",
     "height": 52
    },
    "colab_type": "code",
    "id": "NmlAmwX4cXzE",
    "outputId": "960ad0d0-ed22-4ebb-eff6-c652068d5b1e",
    "slideshow": {
     "slide_type": "slide"
    }
   },
   "outputs": [
    {
     "data": {
      "application/javascript": [
       "var spec = {\"config\": {\"view\": {\"width\": 400, \"height\": 300}, \"mark\": {\"tooltip\": null}}, \"data\": {\"name\": \"data-fdfbb22e8e0e89f6556d8a3b434b0c97\"}, \"mark\": \"point\", \"$schema\": \"https://vega.github.io/schema/vega-lite/v3.3.0.json\", \"datasets\": {\"data-fdfbb22e8e0e89f6556d8a3b434b0c97\": [{\"city\": \"Seattle\", \"month\": \"Apr\", \"precip\": 2.68}, {\"city\": \"Seattle\", \"month\": \"Aug\", \"precip\": 0.87}, {\"city\": \"Seattle\", \"month\": \"Dec\", \"precip\": 5.31}, {\"city\": \"New York\", \"month\": \"Apr\", \"precip\": 3.94}, {\"city\": \"New York\", \"month\": \"Aug\", \"precip\": 4.13}, {\"city\": \"New York\", \"month\": \"Dec\", \"precip\": 3.58}, {\"city\": \"Chicago\", \"month\": \"Apr\", \"precip\": 3.62}, {\"city\": \"Chicago\", \"month\": \"Aug\", \"precip\": 3.98}, {\"city\": \"Chicago\", \"month\": \"Dec\", \"precip\": 2.56}]}};\n",
       "var opt = {};\n",
       "var type = \"vega-lite\";\n",
       "var id = \"04312e6f-3df4-45af-8860-f9399ce5d963\";\n",
       "\n",
       "var output_area = this;\n",
       "\n",
       "require([\"nbextensions/jupyter-vega/index\"], function(vega) {\n",
       "  var target = document.createElement(\"div\");\n",
       "  target.id = id;\n",
       "  target.className = \"vega-embed\";\n",
       "\n",
       "  var style = document.createElement(\"style\");\n",
       "  style.textContent = [\n",
       "    \".vega-embed .error p {\",\n",
       "    \"  color: firebrick;\",\n",
       "    \"  font-size: 14px;\",\n",
       "    \"}\",\n",
       "  ].join(\"\\\\n\");\n",
       "\n",
       "  // element is a jQuery wrapped DOM element inside the output area\n",
       "  // see http://ipython.readthedocs.io/en/stable/api/generated/\\\n",
       "  // IPython.display.html#IPython.display.Javascript.__init__\n",
       "  element[0].appendChild(target);\n",
       "  element[0].appendChild(style);\n",
       "\n",
       "  vega.render(\"#\" + id, spec, type, opt, output_area);\n",
       "}, function (err) {\n",
       "  if (err.requireType !== \"scripterror\") {\n",
       "    throw(err);\n",
       "  }\n",
       "});\n"
      ],
      "text/plain": [
       "<vega.vegalite.VegaLite at 0x11437afd0>"
      ]
     },
     "metadata": {
      "jupyter-vega": "#04312e6f-3df4-45af-8860-f9399ce5d963"
     },
     "output_type": "display_data"
    },
    {
     "data": {
      "text/plain": []
     },
     "execution_count": 4,
     "metadata": {},
     "output_type": "execute_result"
    },
    {
     "data": {
      "image/png": "[encoded data removed]"
     },
     "metadata": {
      "jupyter-vega": "#04312e6f-3df4-45af-8860-f9399ce5d963"
     },
     "output_type": "display_data"
    }
   ],
   "source": [
    "alt.Chart(df).mark_point()"
   ]
  },
  {
   "cell_type": "markdown",
   "metadata": {
    "colab_type": "text",
    "id": "Gudr0jvVcgAi",
    "slideshow": {
     "slide_type": "slide"
    }
   },
   "source": [
    "Here the rendering consists of one point per row in the dataset, all plotted on top of each other, since we have not yet specified positions for these points.\n",
    "\n",
    "To visually separate the points, we can map various *encoding channels*, or *channels* for short, to fields in the dataset. For example, we could *encode* the field `city` of the data using the `y` channel, which represents the y-axis position of the points. To specify this, use the `encode` method:\n"
   ]
  },
  {
   "cell_type": "code",
   "execution_count": 5,
   "metadata": {
    "colab": {
     "base_uri": "https://localhost:8080/",
     "height": 94
    },
    "colab_type": "code",
    "id": "lEWZ7mWTcrik",
    "outputId": "88da80a6-f46f-4fc6-c27e-f139e372f6ff",
    "slideshow": {
     "slide_type": "slide"
    }
   },
   "outputs": [
    {
     "data": {
      "application/javascript": [
       "var spec = {\"config\": {\"view\": {\"width\": 400, \"height\": 300}, \"mark\": {\"tooltip\": null}}, \"data\": {\"name\": \"data-fdfbb22e8e0e89f6556d8a3b434b0c97\"}, \"mark\": \"point\", \"encoding\": {\"y\": {\"type\": \"nominal\", \"field\": \"city\"}}, \"$schema\": \"https://vega.github.io/schema/vega-lite/v3.3.0.json\", \"datasets\": {\"data-fdfbb22e8e0e89f6556d8a3b434b0c97\": [{\"city\": \"Seattle\", \"month\": \"Apr\", \"precip\": 2.68}, {\"city\": \"Seattle\", \"month\": \"Aug\", \"precip\": 0.87}, {\"city\": \"Seattle\", \"month\": \"Dec\", \"precip\": 5.31}, {\"city\": \"New York\", \"month\": \"Apr\", \"precip\": 3.94}, {\"city\": \"New York\", \"month\": \"Aug\", \"precip\": 4.13}, {\"city\": \"New York\", \"month\": \"Dec\", \"precip\": 3.58}, {\"city\": \"Chicago\", \"month\": \"Apr\", \"precip\": 3.62}, {\"city\": \"Chicago\", \"month\": \"Aug\", \"precip\": 3.98}, {\"city\": \"Chicago\", \"month\": \"Dec\", \"precip\": 2.56}]}};\n",
       "var opt = {};\n",
       "var type = \"vega-lite\";\n",
       "var id = \"f907093d-8018-4347-b293-580cefac7aab\";\n",
       "\n",
       "var output_area = this;\n",
       "\n",
       "require([\"nbextensions/jupyter-vega/index\"], function(vega) {\n",
       "  var target = document.createElement(\"div\");\n",
       "  target.id = id;\n",
       "  target.className = \"vega-embed\";\n",
       "\n",
       "  var style = document.createElement(\"style\");\n",
       "  style.textContent = [\n",
       "    \".vega-embed .error p {\",\n",
       "    \"  color: firebrick;\",\n",
       "    \"  font-size: 14px;\",\n",
       "    \"}\",\n",
       "  ].join(\"\\\\n\");\n",
       "\n",
       "  // element is a jQuery wrapped DOM element inside the output area\n",
       "  // see http://ipython.readthedocs.io/en/stable/api/generated/\\\n",
       "  // IPython.display.html#IPython.display.Javascript.__init__\n",
       "  element[0].appendChild(target);\n",
       "  element[0].appendChild(style);\n",
       "\n",
       "  vega.render(\"#\" + id, spec, type, opt, output_area);\n",
       "}, function (err) {\n",
       "  if (err.requireType !== \"scripterror\") {\n",
       "    throw(err);\n",
       "  }\n",
       "});\n"
      ],
      "text/plain": [
       "<vega.vegalite.VegaLite at 0x11437ae80>"
      ]
     },
     "metadata": {
      "jupyter-vega": "#f907093d-8018-4347-b293-580cefac7aab"
     },
     "output_type": "display_data"
    },
    {
     "data": {
      "text/plain": []
     },
     "execution_count": 5,
     "metadata": {},
     "output_type": "execute_result"
    },
    {
     "data": {
      "image/png": "[encoded data removed]"
     },
     "metadata": {
      "jupyter-vega": "#f907093d-8018-4347-b293-580cefac7aab"
     },
     "output_type": "display_data"
    }
   ],
   "source": [
    "alt.Chart(df).mark_point().encode(\n",
    "  y='city',\n",
    ")"
   ]
  },
  {
   "cell_type": "markdown",
   "metadata": {
    "colab_type": "text",
    "id": "wbHHAt-8czdt",
    "slideshow": {
     "slide_type": "slide"
    }
   },
   "source": [
    "The `encode()` method builds a key-value mapping between encoding channels (such as `x`, `y`, `color`, `shape`, `size`, *etc.*) to fields in the dataset, accessed by field name. For Pandas data frames, Altair automatically determines an appropriate data type for the mapped column, which in this case is the *nominal* type, indicating unordered, categorical values.\n",
    "\n",
    "Though we've now separated the data by one attribute, we still have multiple points overlapping within each category. Let's further separate these by adding an `x` encoding channel, mapped to the `'precip'` field:"
   ]
  },
  {
   "cell_type": "code",
   "execution_count": 12,
   "metadata": {
    "colab": {
     "base_uri": "https://localhost:8080/",
     "height": 129
    },
    "colab_type": "code",
    "id": "gVbE3h7zdDsL",
    "outputId": "ec3f1aa3-b6e0-41c1-ee00-06f3a587613a",
    "slideshow": {
     "slide_type": "slide"
    }
   },
   "outputs": [
    {
     "data": {
      "application/javascript": [
       "var spec = {\"config\": {\"view\": {\"width\": 400, \"height\": 300}, \"mark\": {\"tooltip\": null}}, \"data\": {\"name\": \"data-fdfbb22e8e0e89f6556d8a3b434b0c97\"}, \"mark\": \"point\", \"encoding\": {\"x\": {\"type\": \"quantitative\", \"field\": \"precip\"}, \"y\": {\"type\": \"nominal\", \"field\": \"city\"}}, \"$schema\": \"https://vega.github.io/schema/vega-lite/v3.3.0.json\", \"datasets\": {\"data-fdfbb22e8e0e89f6556d8a3b434b0c97\": [{\"city\": \"Seattle\", \"month\": \"Apr\", \"precip\": 2.68}, {\"city\": \"Seattle\", \"month\": \"Aug\", \"precip\": 0.87}, {\"city\": \"Seattle\", \"month\": \"Dec\", \"precip\": 5.31}, {\"city\": \"New York\", \"month\": \"Apr\", \"precip\": 3.94}, {\"city\": \"New York\", \"month\": \"Aug\", \"precip\": 4.13}, {\"city\": \"New York\", \"month\": \"Dec\", \"precip\": 3.58}, {\"city\": \"Chicago\", \"month\": \"Apr\", \"precip\": 3.62}, {\"city\": \"Chicago\", \"month\": \"Aug\", \"precip\": 3.98}, {\"city\": \"Chicago\", \"month\": \"Dec\", \"precip\": 2.56}]}};\n",
       "var opt = {};\n",
       "var type = \"vega-lite\";\n",
       "var id = \"0d70520d-4bb6-47e7-8d5c-ea9b9fa16d6e\";\n",
       "\n",
       "var output_area = this;\n",
       "\n",
       "require([\"nbextensions/jupyter-vega/index\"], function(vega) {\n",
       "  var target = document.createElement(\"div\");\n",
       "  target.id = id;\n",
       "  target.className = \"vega-embed\";\n",
       "\n",
       "  var style = document.createElement(\"style\");\n",
       "  style.textContent = [\n",
       "    \".vega-embed .error p {\",\n",
       "    \"  color: firebrick;\",\n",
       "    \"  font-size: 14px;\",\n",
       "    \"}\",\n",
       "  ].join(\"\\\\n\");\n",
       "\n",
       "  // element is a jQuery wrapped DOM element inside the output area\n",
       "  // see http://ipython.readthedocs.io/en/stable/api/generated/\\\n",
       "  // IPython.display.html#IPython.display.Javascript.__init__\n",
       "  element[0].appendChild(target);\n",
       "  element[0].appendChild(style);\n",
       "\n",
       "  vega.render(\"#\" + id, spec, type, opt, output_area);\n",
       "}, function (err) {\n",
       "  if (err.requireType !== \"scripterror\") {\n",
       "    throw(err);\n",
       "  }\n",
       "});\n"
      ],
      "text/plain": [
       "<vega.vegalite.VegaLite at 0x1143edb38>"
      ]
     },
     "metadata": {
      "jupyter-vega": "#0d70520d-4bb6-47e7-8d5c-ea9b9fa16d6e"
     },
     "output_type": "display_data"
    },
    {
     "data": {
      "text/plain": []
     },
     "execution_count": 12,
     "metadata": {},
     "output_type": "execute_result"
    },
    {
     "data": {
      "image/png": "[encoded data removed]"
     },
     "metadata": {
      "jupyter-vega": "#0d70520d-4bb6-47e7-8d5c-ea9b9fa16d6e"
     },
     "output_type": "display_data"
    }
   ],
   "source": [
    "alt.Chart(df).mark_point().encode(\n",
    "    x='precip',\n",
    "    y='city'\n",
    ")"
   ]
  },
  {
   "cell_type": "code",
   "execution_count": 7,
   "metadata": {
    "colab": {
     "base_uri": "https://localhost:8080/",
     "height": 129
    },
    "colab_type": "code",
    "id": "vBCCcBMxnfHW",
    "outputId": "691ce8df-1978-4b2f-eeb0-7d79a7d77db3",
    "slideshow": {
     "slide_type": "slide"
    }
   },
   "outputs": [
    {
     "data": {
      "application/javascript": [
       "var spec = {\"config\": {\"view\": {\"width\": 400, \"height\": 300}, \"mark\": {\"tooltip\": null}}, \"data\": {\"name\": \"data-fdfbb22e8e0e89f6556d8a3b434b0c97\"}, \"mark\": \"point\", \"encoding\": {\"x\": {\"type\": \"quantitative\", \"field\": \"precip\"}, \"y\": {\"type\": \"nominal\", \"field\": \"city\"}}, \"$schema\": \"https://vega.github.io/schema/vega-lite/v3.3.0.json\", \"datasets\": {\"data-fdfbb22e8e0e89f6556d8a3b434b0c97\": [{\"city\": \"Seattle\", \"month\": \"Apr\", \"precip\": 2.68}, {\"city\": \"Seattle\", \"month\": \"Aug\", \"precip\": 0.87}, {\"city\": \"Seattle\", \"month\": \"Dec\", \"precip\": 5.31}, {\"city\": \"New York\", \"month\": \"Apr\", \"precip\": 3.94}, {\"city\": \"New York\", \"month\": \"Aug\", \"precip\": 4.13}, {\"city\": \"New York\", \"month\": \"Dec\", \"precip\": 3.58}, {\"city\": \"Chicago\", \"month\": \"Apr\", \"precip\": 3.62}, {\"city\": \"Chicago\", \"month\": \"Aug\", \"precip\": 3.98}, {\"city\": \"Chicago\", \"month\": \"Dec\", \"precip\": 2.56}]}};\n",
       "var opt = {};\n",
       "var type = \"vega-lite\";\n",
       "var id = \"a2918c4b-bd96-4618-8849-04cb902f8911\";\n",
       "\n",
       "var output_area = this;\n",
       "\n",
       "require([\"nbextensions/jupyter-vega/index\"], function(vega) {\n",
       "  var target = document.createElement(\"div\");\n",
       "  target.id = id;\n",
       "  target.className = \"vega-embed\";\n",
       "\n",
       "  var style = document.createElement(\"style\");\n",
       "  style.textContent = [\n",
       "    \".vega-embed .error p {\",\n",
       "    \"  color: firebrick;\",\n",
       "    \"  font-size: 14px;\",\n",
       "    \"}\",\n",
       "  ].join(\"\\\\n\");\n",
       "\n",
       "  // element is a jQuery wrapped DOM element inside the output area\n",
       "  // see http://ipython.readthedocs.io/en/stable/api/generated/\\\n",
       "  // IPython.display.html#IPython.display.Javascript.__init__\n",
       "  element[0].appendChild(target);\n",
       "  element[0].appendChild(style);\n",
       "\n",
       "  vega.render(\"#\" + id, spec, type, opt, output_area);\n",
       "}, function (err) {\n",
       "  if (err.requireType !== \"scripterror\") {\n",
       "    throw(err);\n",
       "  }\n",
       "});\n"
      ],
      "text/plain": [
       "<vega.vegalite.VegaLite at 0x114436e80>"
      ]
     },
     "metadata": {
      "jupyter-vega": "#a2918c4b-bd96-4618-8849-04cb902f8911"
     },
     "output_type": "display_data"
    },
    {
     "data": {
      "text/plain": []
     },
     "execution_count": 7,
     "metadata": {},
     "output_type": "execute_result"
    },
    {
     "data": {
      "image/png": "[encoded data removed]"
     },
     "metadata": {
      "jupyter-vega": "#a2918c4b-bd96-4618-8849-04cb902f8911"
     },
     "output_type": "display_data"
    }
   ],
   "source": [
    "alt.Chart(df).mark_point().encode(\n",
    "    alt.X('precip'),\n",
    "    alt.Y('city')\n",
    ")"
   ]
  },
  {
   "cell_type": "markdown",
   "metadata": {
    "colab_type": "text",
    "id": "-HeJcwblnl10",
    "slideshow": {
     "slide_type": "slide"
    }
   },
   "source": [
    "The two styles of specifying encodings can be interleaved: `x='precip', alt.Y('city')` is also a valid input to the `encode` function.\n",
    "\n",
    "In the examples above, the data type for each field is inferred automatically based on its type within the Pandas data frame. We can also explicitly indicate the data type to Altair by annotating the field name:\n",
    "\n",
    "- `'b:N'` indicates a *nominal* type (unordered, categorical data),\n",
    "- `'b:O'` indicates an *ordinal* type (rank-ordered data),\n",
    "- `'b:Q'` indicates a *quantitative* type (numerical data with meaningful magnitudes), and\n",
    "- `'b:T'` indicates a *temporal* type (date/time data)\n",
    "\n",
    "Explicit annotation of data types is necessary when data is loaded from an external URL directly by Vega-Lite (skipping Pandas entirely), or when we wish to use a type that differs from the type that was automatically inferred.\n",
    "\n",
    "What do you think will happen to our chart above if we treat `precip` as a nominal or ordinal variable, rather than a quantitative variable? _Modify the code above and find out!_\n",
    "\n",
    "We will take a closer look at data types and encoding channels in the next notebook."
   ]
  },
  {
   "cell_type": "markdown",
   "metadata": {
    "colab_type": "text",
    "id": "RvSRRA64pY9_",
    "slideshow": {
     "slide_type": "slide"
    }
   },
   "source": [
    "## Data Transformation: Aggregation\n",
    "\n",
    "To allow for more flexibility in how data are visualized, Altair has a built-in syntax for *aggregation* of data. For example, we can compute the average of all values by specifying an aggregation function along with the field name:"
   ]
  },
  {
   "cell_type": "code",
   "execution_count": 8,
   "metadata": {
    "colab": {
     "base_uri": "https://localhost:8080/",
     "height": 129
    },
    "colab_type": "code",
    "id": "trTABsxDpgKT",
    "outputId": "82847271-8dc6-4a2f-9496-de1d4ba4a58b",
    "slideshow": {
     "slide_type": "slide"
    }
   },
   "outputs": [
    {
     "data": {
      "application/javascript": [
       "var spec = {\"config\": {\"view\": {\"width\": 400, \"height\": 300}, \"mark\": {\"tooltip\": null}}, \"data\": {\"name\": \"data-fdfbb22e8e0e89f6556d8a3b434b0c97\"}, \"mark\": \"point\", \"encoding\": {\"x\": {\"type\": \"quantitative\", \"aggregate\": \"average\", \"field\": \"precip\"}, \"y\": {\"type\": \"nominal\", \"field\": \"city\"}}, \"$schema\": \"https://vega.github.io/schema/vega-lite/v3.3.0.json\", \"datasets\": {\"data-fdfbb22e8e0e89f6556d8a3b434b0c97\": [{\"city\": \"Seattle\", \"month\": \"Apr\", \"precip\": 2.68}, {\"city\": \"Seattle\", \"month\": \"Aug\", \"precip\": 0.87}, {\"city\": \"Seattle\", \"month\": \"Dec\", \"precip\": 5.31}, {\"city\": \"New York\", \"month\": \"Apr\", \"precip\": 3.94}, {\"city\": \"New York\", \"month\": \"Aug\", \"precip\": 4.13}, {\"city\": \"New York\", \"month\": \"Dec\", \"precip\": 3.58}, {\"city\": \"Chicago\", \"month\": \"Apr\", \"precip\": 3.62}, {\"city\": \"Chicago\", \"month\": \"Aug\", \"precip\": 3.98}, {\"city\": \"Chicago\", \"month\": \"Dec\", \"precip\": 2.56}]}};\n",
       "var opt = {};\n",
       "var type = \"vega-lite\";\n",
       "var id = \"29804a05-cad0-4dd5-bab6-1866e6dba3af\";\n",
       "\n",
       "var output_area = this;\n",
       "\n",
       "require([\"nbextensions/jupyter-vega/index\"], function(vega) {\n",
       "  var target = document.createElement(\"div\");\n",
       "  target.id = id;\n",
       "  target.className = \"vega-embed\";\n",
       "\n",
       "  var style = document.createElement(\"style\");\n",
       "  style.textContent = [\n",
       "    \".vega-embed .error p {\",\n",
       "    \"  color: firebrick;\",\n",
       "    \"  font-size: 14px;\",\n",
       "    \"}\",\n",
       "  ].join(\"\\\\n\");\n",
       "\n",
       "  // element is a jQuery wrapped DOM element inside the output area\n",
       "  // see http://ipython.readthedocs.io/en/stable/api/generated/\\\n",
       "  // IPython.display.html#IPython.display.Javascript.__init__\n",
       "  element[0].appendChild(target);\n",
       "  element[0].appendChild(style);\n",
       "\n",
       "  vega.render(\"#\" + id, spec, type, opt, output_area);\n",
       "}, function (err) {\n",
       "  if (err.requireType !== \"scripterror\") {\n",
       "    throw(err);\n",
       "  }\n",
       "});\n"
      ],
      "text/plain": [
       "<vega.vegalite.VegaLite at 0x114436cf8>"
      ]
     },
     "metadata": {
      "jupyter-vega": "#29804a05-cad0-4dd5-bab6-1866e6dba3af"
     },
     "output_type": "display_data"
    },
    {
     "data": {
      "text/plain": []
     },
     "execution_count": 8,
     "metadata": {},
     "output_type": "execute_result"
    },
    {
     "data": {
      "image/png": "[encoded data removed]"
     },
     "metadata": {
      "jupyter-vega": "#29804a05-cad0-4dd5-bab6-1866e6dba3af"
     },
     "output_type": "display_data"
    }
   ],
   "source": [
    "alt.Chart(df).mark_point().encode(\n",
    "    x='average(precip)',\n",
    "    y='city'\n",
    ")"
   ]
  },
  {
   "cell_type": "markdown",
   "metadata": {
    "colab_type": "text",
    "id": "za5tU5qRpqkF",
    "slideshow": {
     "slide_type": "slide"
    }
   },
   "source": [
    "Now within each x-axis category, we see a single point reflecting the *average* of the values within that category.\n",
    "\n",
    "_Does Seattle really have the lowest average precipitation of these cities? (It does!) Still, how might this plot mislead? Which months are included? What counts as precipitation?_\n",
    "\n",
    "Altair supports a variety of aggregation functions, including `count`, `min` (minimum), `max` (maximum), `average`, `median`, and `stdev` (standard deviation). In a later notebook, we will take a tour of data transformations, including aggregation, sorting, filtering, and creation of new derived fields using calculation formulas."
   ]
  },
  {
   "cell_type": "markdown",
   "metadata": {
    "colab_type": "text",
    "id": "_qt-r1YsqbjG",
    "slideshow": {
     "slide_type": "slide"
    }
   },
   "source": [
    "## Changing the Mark Type\n",
    "\n",
    "Let's say we want to represent our aggregated values using rectangular bars rather than circular points. We can do this by replacing `Chart.mark_point` with `Chart.mark_bar`:"
   ]
  },
  {
   "cell_type": "code",
   "execution_count": 9,
   "metadata": {
    "colab": {
     "base_uri": "https://localhost:8080/",
     "height": 129
    },
    "colab_type": "code",
    "id": "oPyDGea7p6XR",
    "outputId": "6e1c1a06-d0ad-4b82-c964-60b211b4f714",
    "slideshow": {
     "slide_type": "slide"
    }
   },
   "outputs": [
    {
     "data": {
      "application/javascript": [
       "var spec = {\"config\": {\"view\": {\"width\": 400, \"height\": 300}, \"mark\": {\"tooltip\": null}}, \"data\": {\"name\": \"data-fdfbb22e8e0e89f6556d8a3b434b0c97\"}, \"mark\": \"bar\", \"encoding\": {\"x\": {\"type\": \"quantitative\", \"aggregate\": \"average\", \"field\": \"precip\"}, \"y\": {\"type\": \"nominal\", \"field\": \"city\"}}, \"$schema\": \"https://vega.github.io/schema/vega-lite/v3.3.0.json\", \"datasets\": {\"data-fdfbb22e8e0e89f6556d8a3b434b0c97\": [{\"city\": \"Seattle\", \"month\": \"Apr\", \"precip\": 2.68}, {\"city\": \"Seattle\", \"month\": \"Aug\", \"precip\": 0.87}, {\"city\": \"Seattle\", \"month\": \"Dec\", \"precip\": 5.31}, {\"city\": \"New York\", \"month\": \"Apr\", \"precip\": 3.94}, {\"city\": \"New York\", \"month\": \"Aug\", \"precip\": 4.13}, {\"city\": \"New York\", \"month\": \"Dec\", \"precip\": 3.58}, {\"city\": \"Chicago\", \"month\": \"Apr\", \"precip\": 3.62}, {\"city\": \"Chicago\", \"month\": \"Aug\", \"precip\": 3.98}, {\"city\": \"Chicago\", \"month\": \"Dec\", \"precip\": 2.56}]}};\n",
       "var opt = {};\n",
       "var type = \"vega-lite\";\n",
       "var id = \"a1438069-6ba5-44d0-98da-0bdaf17c81c6\";\n",
       "\n",
       "var output_area = this;\n",
       "\n",
       "require([\"nbextensions/jupyter-vega/index\"], function(vega) {\n",
       "  var target = document.createElement(\"div\");\n",
       "  target.id = id;\n",
       "  target.className = \"vega-embed\";\n",
       "\n",
       "  var style = document.createElement(\"style\");\n",
       "  style.textContent = [\n",
       "    \".vega-embed .error p {\",\n",
       "    \"  color: firebrick;\",\n",
       "    \"  font-size: 14px;\",\n",
       "    \"}\",\n",
       "  ].join(\"\\\\n\");\n",
       "\n",
       "  // element is a jQuery wrapped DOM element inside the output area\n",
       "  // see http://ipython.readthedocs.io/en/stable/api/generated/\\\n",
       "  // IPython.display.html#IPython.display.Javascript.__init__\n",
       "  element[0].appendChild(target);\n",
       "  element[0].appendChild(style);\n",
       "\n",
       "  vega.render(\"#\" + id, spec, type, opt, output_area);\n",
       "}, function (err) {\n",
       "  if (err.requireType !== \"scripterror\") {\n",
       "    throw(err);\n",
       "  }\n",
       "});\n"
      ],
      "text/plain": [
       "<vega.vegalite.VegaLite at 0x103885860>"
      ]
     },
     "metadata": {
      "jupyter-vega": "#a1438069-6ba5-44d0-98da-0bdaf17c81c6"
     },
     "output_type": "display_data"
    },
    {
     "data": {
      "text/plain": []
     },
     "execution_count": 9,
     "metadata": {},
     "output_type": "execute_result"
    },
    {
     "data": {
      "image/png": "[encoded data removed]"
     },
     "metadata": {
      "jupyter-vega": "#a1438069-6ba5-44d0-98da-0bdaf17c81c6"
     },
     "output_type": "display_data"
    }
   ],
   "source": [
    "alt.Chart(df).mark_bar().encode(\n",
    "    x='average(precip)',\n",
    "    y='city'\n",
    ")"
   ]
  },
  {
   "cell_type": "markdown",
   "metadata": {
    "colab_type": "text",
    "id": "i0ETgOZZp60k",
    "slideshow": {
     "slide_type": "slide"
    }
   },
   "source": [
    "Because the nominal field `a` is mapped to the `y`-axis, the result is a horizontal bar chart. To get a vertical bar chart, we can simply swap the `x` and `y` keywords:"
   ]
  },
  {
   "cell_type": "code",
   "execution_count": 10,
   "metadata": {
    "colab": {
     "base_uri": "https://localhost:8080/",
     "height": 405
    },
    "colab_type": "code",
    "id": "h5CALzADqPIT",
    "outputId": "0d5d2a07-76d9-45a2-ea2f-a469730f802f",
    "slideshow": {
     "slide_type": "slide"
    }
   },
   "outputs": [
    {
     "data": {
      "application/javascript": [
       "var spec = {\"config\": {\"view\": {\"width\": 400, \"height\": 300}, \"mark\": {\"tooltip\": null}}, \"data\": {\"name\": \"data-fdfbb22e8e0e89f6556d8a3b434b0c97\"}, \"mark\": \"bar\", \"encoding\": {\"x\": {\"type\": \"nominal\", \"field\": \"city\"}, \"y\": {\"type\": \"quantitative\", \"aggregate\": \"average\", \"field\": \"precip\"}}, \"$schema\": \"https://vega.github.io/schema/vega-lite/v3.3.0.json\", \"datasets\": {\"data-fdfbb22e8e0e89f6556d8a3b434b0c97\": [{\"city\": \"Seattle\", \"month\": \"Apr\", \"precip\": 2.68}, {\"city\": \"Seattle\", \"month\": \"Aug\", \"precip\": 0.87}, {\"city\": \"Seattle\", \"month\": \"Dec\", \"precip\": 5.31}, {\"city\": \"New York\", \"month\": \"Apr\", \"precip\": 3.94}, {\"city\": \"New York\", \"month\": \"Aug\", \"precip\": 4.13}, {\"city\": \"New York\", \"month\": \"Dec\", \"precip\": 3.58}, {\"city\": \"Chicago\", \"month\": \"Apr\", \"precip\": 3.62}, {\"city\": \"Chicago\", \"month\": \"Aug\", \"precip\": 3.98}, {\"city\": \"Chicago\", \"month\": \"Dec\", \"precip\": 2.56}]}};\n",
       "var opt = {};\n",
       "var type = \"vega-lite\";\n",
       "var id = \"c5bb2d60-410e-4c29-918d-20bbae01e78e\";\n",
       "\n",
       "var output_area = this;\n",
       "\n",
       "require([\"nbextensions/jupyter-vega/index\"], function(vega) {\n",
       "  var target = document.createElement(\"div\");\n",
       "  target.id = id;\n",
       "  target.className = \"vega-embed\";\n",
       "\n",
       "  var style = document.createElement(\"style\");\n",
       "  style.textContent = [\n",
       "    \".vega-embed .error p {\",\n",
       "    \"  color: firebrick;\",\n",
       "    \"  font-size: 14px;\",\n",
       "    \"}\",\n",
       "  ].join(\"\\\\n\");\n",
       "\n",
       "  // element is a jQuery wrapped DOM element inside the output area\n",
       "  // see http://ipython.readthedocs.io/en/stable/api/generated/\\\n",
       "  // IPython.display.html#IPython.display.Javascript.__init__\n",
       "  element[0].appendChild(target);\n",
       "  element[0].appendChild(style);\n",
       "\n",
       "  vega.render(\"#\" + id, spec, type, opt, output_area);\n",
       "}, function (err) {\n",
       "  if (err.requireType !== \"scripterror\") {\n",
       "    throw(err);\n",
       "  }\n",
       "});\n"
      ],
      "text/plain": [
       "<vega.vegalite.VegaLite at 0x103885a90>"
      ]
     },
     "metadata": {
      "jupyter-vega": "#c5bb2d60-410e-4c29-918d-20bbae01e78e"
     },
     "output_type": "display_data"
    },
    {
     "data": {
      "text/plain": []
     },
     "execution_count": 10,
     "metadata": {},
     "output_type": "execute_result"
    },
    {
     "data": {
      "image/png": "[encoded data removed]"
     },
     "metadata": {
      "jupyter-vega": "#c5bb2d60-410e-4c29-918d-20bbae01e78e"
     },
     "output_type": "display_data"
    }
   ],
   "source": [
    "alt.Chart(df).mark_bar().encode(\n",
    "    x='city',\n",
    "    y='average(precip)'\n",
    ")"
   ]
  },
  {
   "cell_type": "code",
   "execution_count": null,
   "metadata": {},
   "outputs": [],
   "source": []
  }
 ],
 "metadata": {
  "kernelspec": {
   "display_name": "Python 3",
   "language": "python",
   "name": "python3"
  },
  "language_info": {
   "codemirror_mode": {
    "name": "ipython",
    "version": 3
   },
   "file_extension": ".py",
   "mimetype": "text/x-python",
   "name": "python",
   "nbconvert_exporter": "python",
   "pygments_lexer": "ipython3",
   "version": "3.7.3"
  }
 },
 "nbformat": 4,
 "nbformat_minor": 4
}
