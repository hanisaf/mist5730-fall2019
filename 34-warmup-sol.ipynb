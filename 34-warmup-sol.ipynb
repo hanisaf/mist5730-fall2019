{
 "cells": [
  {
   "cell_type": "code",
   "execution_count": 1,
   "metadata": {},
   "outputs": [],
   "source": [
    "#uncomment and run to install textblob\n",
    "#import sys\n",
    "#!{sys.executable} -m pip install textblob\n",
    "#!{sys.executable} -m textblob.download_corpora"
   ]
  },
  {
   "cell_type": "code",
   "execution_count": 2,
   "metadata": {},
   "outputs": [],
   "source": [
    "import pandas as pd\n",
    "from textblob import TextBlob"
   ]
  },
  {
   "cell_type": "markdown",
   "metadata": {},
   "source": [
    "### What is the most positive sentence, and the most negative sentence in the earning calls?\n",
    "\n",
    "### Incorporate subjectivity and select objective sentiments (low subjectivity)"
   ]
  },
  {
   "cell_type": "code",
   "execution_count": 3,
   "metadata": {},
   "outputs": [],
   "source": [
    "data = pd.read_csv('data/EC10.csv')"
   ]
  },
  {
   "cell_type": "code",
   "execution_count": 4,
   "metadata": {},
   "outputs": [
    {
     "data": {
      "text/html": [
       "<div>\n",
       "<style scoped>\n",
       "    .dataframe tbody tr th:only-of-type {\n",
       "        vertical-align: middle;\n",
       "    }\n",
       "\n",
       "    .dataframe tbody tr th {\n",
       "        vertical-align: top;\n",
       "    }\n",
       "\n",
       "    .dataframe thead th {\n",
       "        text-align: right;\n",
       "    }\n",
       "</style>\n",
       "<table border=\"1\" class=\"dataframe\">\n",
       "  <thead>\n",
       "    <tr style=\"text-align: right;\">\n",
       "      <th></th>\n",
       "      <th>id</th>\n",
       "      <th>text</th>\n",
       "      <th>date</th>\n",
       "      <th>company</th>\n",
       "      <th>sector</th>\n",
       "    </tr>\n",
       "  </thead>\n",
       "  <tbody>\n",
       "    <tr>\n",
       "      <th>0</th>\n",
       "      <td>32934</td>\n",
       "      <td>Zoe's Kitchen, Inc. (NYSE:ZOES)\\nQ2 2015 Earni...</td>\n",
       "      <td>2015-08-28 00:11:00</td>\n",
       "      <td>Zoe's Kitchen, Inc.</td>\n",
       "      <td>Consumer Services</td>\n",
       "    </tr>\n",
       "    <tr>\n",
       "      <th>1</th>\n",
       "      <td>32905</td>\n",
       "      <td>Autodesk, Inc. (NASDAQ:ADSK)\\nQ2 2016 Earnings...</td>\n",
       "      <td>2015-08-28 00:07:00</td>\n",
       "      <td>Autodesk, Inc.</td>\n",
       "      <td>Technology</td>\n",
       "    </tr>\n",
       "    <tr>\n",
       "      <th>2</th>\n",
       "      <td>32926</td>\n",
       "      <td>Smith &amp; Wesson Holding Corp. (NASDAQ:SWHC)\\nQ1...</td>\n",
       "      <td>2015-08-27 23:25:00</td>\n",
       "      <td>Smith &amp; Wesson Holding Corporation</td>\n",
       "      <td>Capital Goods</td>\n",
       "    </tr>\n",
       "    <tr>\n",
       "      <th>3</th>\n",
       "      <td>32930</td>\n",
       "      <td>Ulta Salon, Cosmetics &amp; Fragrance, Inc. (NASDA...</td>\n",
       "      <td>2015-08-27 23:09:00</td>\n",
       "      <td>Ulta Salon, Cosmetics &amp; Fragrance, Inc.</td>\n",
       "      <td>Consumer Services</td>\n",
       "    </tr>\n",
       "    <tr>\n",
       "      <th>4</th>\n",
       "      <td>32907</td>\n",
       "      <td>Splunk Inc. (NASDAQ:SPLK)\\nQ2 2016 Earnings Co...</td>\n",
       "      <td>2015-08-27 22:56:00</td>\n",
       "      <td>Splunk Inc.</td>\n",
       "      <td>Technology</td>\n",
       "    </tr>\n",
       "  </tbody>\n",
       "</table>\n",
       "</div>"
      ],
      "text/plain": [
       "      id                                               text  \\\n",
       "0  32934  Zoe's Kitchen, Inc. (NYSE:ZOES)\\nQ2 2015 Earni...   \n",
       "1  32905  Autodesk, Inc. (NASDAQ:ADSK)\\nQ2 2016 Earnings...   \n",
       "2  32926  Smith & Wesson Holding Corp. (NASDAQ:SWHC)\\nQ1...   \n",
       "3  32930  Ulta Salon, Cosmetics & Fragrance, Inc. (NASDA...   \n",
       "4  32907  Splunk Inc. (NASDAQ:SPLK)\\nQ2 2016 Earnings Co...   \n",
       "\n",
       "                  date                                  company  \\\n",
       "0  2015-08-28 00:11:00                      Zoe's Kitchen, Inc.   \n",
       "1  2015-08-28 00:07:00                           Autodesk, Inc.   \n",
       "2  2015-08-27 23:25:00       Smith & Wesson Holding Corporation   \n",
       "3  2015-08-27 23:09:00  Ulta Salon, Cosmetics & Fragrance, Inc.   \n",
       "4  2015-08-27 22:56:00                              Splunk Inc.   \n",
       "\n",
       "              sector  \n",
       "0  Consumer Services  \n",
       "1         Technology  \n",
       "2      Capital Goods  \n",
       "3  Consumer Services  \n",
       "4         Technology  "
      ]
     },
     "execution_count": 4,
     "metadata": {},
     "output_type": "execute_result"
    }
   ],
   "source": [
    "data.head()"
   ]
  },
  {
   "cell_type": "code",
   "execution_count": 5,
   "metadata": {
    "scrolled": false
   },
   "outputs": [
    {
     "data": {
      "text/plain": [
       "Sentiment(polarity=0.140799481822049, subjectivity=0.4249167174308212)"
      ]
     },
     "execution_count": 5,
     "metadata": {},
     "output_type": "execute_result"
    }
   ],
   "source": [
    "text = data.iloc[0, 1]\n",
    "blob = TextBlob(text)\n",
    "blob.sentiment"
   ]
  },
  {
   "cell_type": "code",
   "execution_count": 6,
   "metadata": {},
   "outputs": [],
   "source": [
    "def max_sentiment(text):\n",
    "    blob = TextBlob(text)\n",
    "    mx = -1000\n",
    "    ms = None\n",
    "    for sent in blob.sentences:\n",
    "        if mx < sent.sentiment[0]:\n",
    "            mx = sent.sentiment[0]\n",
    "            ms = sent.raw\n",
    "    return (ms, mx)"
   ]
  },
  {
   "cell_type": "code",
   "execution_count": 7,
   "metadata": {},
   "outputs": [
    {
     "data": {
      "text/plain": [
       "0    (Aldo is truly happy when he is helping others...\n",
       "1    (I'll also repeat once again that our business...\n",
       "2    (We have what we believe the best margins in t...\n",
       "3    (Now turning to Ultamate Rewards loyalty progr...\n",
       "4    (We continue to improve the core Splunk enterp...\n",
       "5    (Technology Brands grew their store count by a...\n",
       "6    (Our Board of Directors unanimously concluded ...\n",
       "7    (We pride ourselves in providing legendary ser...\n",
       "8    (As you no doubt heard, the title was a record...\n",
       "9    (So I think its best I could talk about a coup...\n",
       "Name: text, dtype: object"
      ]
     },
     "execution_count": 7,
     "metadata": {},
     "output_type": "execute_result"
    }
   ],
   "source": [
    "data['text'].apply(max_sentiment)"
   ]
  },
  {
   "cell_type": "code",
   "execution_count": 8,
   "metadata": {},
   "outputs": [
    {
     "name": "stdout",
     "output_type": "stream",
     "text": [
      "('Aldo is truly happy when he is helping others.', 0.8)\n",
      "(\"I'll also repeat once again that our business model transition will not be perfectly linear, and the amount of business that we transition, the number of subscription additions and the mix of subscriptions issued will fluctuate from quarter-to-quarter and year-to-year.\", 1.0)\n",
      "('We have what we believe the best margins in the industry, so why not leverage that.', 1.0)\n",
      "('Now turning to Ultamate Rewards loyalty program, we continue to reward our best guests with a differentiated experience, driving increased engagement and satisfaction.', 1.0)\n",
      "('We continue to improve the core Splunk enterprise and all the core platform elements so that it can be the very best indexing engine and data analytics device known to man.', 1.0)\n",
      "('Technology Brands grew their store count by an impressive 182 stores now standing at 731 stores.', 1.0)\n",
      "('Our Board of Directors unanimously concluded that this arrangement is the best way to maximize value of our stockholders, providing them with immediate cash value for their investment.', 1.0)\n",
      "('We pride ourselves in providing legendary service across Canada and the U.S. For the 10th year in a row, J.D.', 1.0)\n",
      "('As you no doubt heard, the title was a record breaker for sales in the adults’ fiction category and the excitement of its release got great media attention, increased customer traffic and a comparable sales increase for the month of July.', 0.8)\n",
      "('So I think its best I could talk about a couple of examples.', 1.0)\n"
     ]
    }
   ],
   "source": [
    "for row in data['text'].apply(max_sentiment):\n",
    "    print(row)"
   ]
  },
  {
   "cell_type": "code",
   "execution_count": null,
   "metadata": {},
   "outputs": [],
   "source": []
  },
  {
   "cell_type": "code",
   "execution_count": 9,
   "metadata": {},
   "outputs": [],
   "source": [
    "def better_function_sentiment(text):\n",
    "    #instead of a loop organize the sentences, polarity, and subjectivity values in a data frame\n",
    "    blob = TextBlob(text)\n",
    "    data = [ {'sentence':sent.raw, 'sentiment':sent.sentiment[0], 'subjectivity': sent.sentiment[1]}\n",
    "            for sent in blob.sentences]\n",
    "    return pd.DataFrame(data)"
   ]
  },
  {
   "cell_type": "code",
   "execution_count": 10,
   "metadata": {},
   "outputs": [
    {
     "data": {
      "text/html": [
       "<div>\n",
       "<style scoped>\n",
       "    .dataframe tbody tr th:only-of-type {\n",
       "        vertical-align: middle;\n",
       "    }\n",
       "\n",
       "    .dataframe tbody tr th {\n",
       "        vertical-align: top;\n",
       "    }\n",
       "\n",
       "    .dataframe thead th {\n",
       "        text-align: right;\n",
       "    }\n",
       "</style>\n",
       "<table border=\"1\" class=\"dataframe\">\n",
       "  <thead>\n",
       "    <tr style=\"text-align: right;\">\n",
       "      <th></th>\n",
       "      <th>sentence</th>\n",
       "      <th>sentiment</th>\n",
       "      <th>subjectivity</th>\n",
       "    </tr>\n",
       "  </thead>\n",
       "  <tbody>\n",
       "    <tr>\n",
       "      <th>0</th>\n",
       "      <td>Zoe's Kitchen, Inc. (NYSE:ZOES)\\nQ2 2015 Earni...</td>\n",
       "      <td>0.35</td>\n",
       "      <td>0.45</td>\n",
       "    </tr>\n",
       "    <tr>\n",
       "      <th>1</th>\n",
       "      <td>Welcome to the Zoe's Kitchen Second Quarter 20...</td>\n",
       "      <td>0.40</td>\n",
       "      <td>0.45</td>\n",
       "    </tr>\n",
       "    <tr>\n",
       "      <th>2</th>\n",
       "      <td>At this time, all participants have been place...</td>\n",
       "      <td>0.00</td>\n",
       "      <td>0.30</td>\n",
       "    </tr>\n",
       "    <tr>\n",
       "      <th>3</th>\n",
       "      <td>Please note that this conference is being reco...</td>\n",
       "      <td>0.00</td>\n",
       "      <td>0.00</td>\n",
       "    </tr>\n",
       "    <tr>\n",
       "      <th>4</th>\n",
       "      <td>On the call today, we have Kevin Miles, Presid...</td>\n",
       "      <td>0.00</td>\n",
       "      <td>0.00</td>\n",
       "    </tr>\n",
       "    <tr>\n",
       "      <th>5</th>\n",
       "      <td>Now I'd like to turn the conference over to Ji...</td>\n",
       "      <td>0.00</td>\n",
       "      <td>0.00</td>\n",
       "    </tr>\n",
       "    <tr>\n",
       "      <th>6</th>\n",
       "      <td>Please go ahead.</td>\n",
       "      <td>0.00</td>\n",
       "      <td>0.00</td>\n",
       "    </tr>\n",
       "    <tr>\n",
       "      <th>7</th>\n",
       "      <td>James Besch - CFO, Vice President-Accounting &amp;...</td>\n",
       "      <td>0.70</td>\n",
       "      <td>0.60</td>\n",
       "    </tr>\n",
       "    <tr>\n",
       "      <th>8</th>\n",
       "      <td>By now, everyone should have access to our sec...</td>\n",
       "      <td>0.00</td>\n",
       "      <td>0.00</td>\n",
       "    </tr>\n",
       "    <tr>\n",
       "      <th>9</th>\n",
       "      <td>If not, it can be found at www.zoeskitchen.com...</td>\n",
       "      <td>0.00</td>\n",
       "      <td>0.00</td>\n",
       "    </tr>\n",
       "  </tbody>\n",
       "</table>\n",
       "</div>"
      ],
      "text/plain": [
       "                                            sentence  sentiment  subjectivity\n",
       "0  Zoe's Kitchen, Inc. (NYSE:ZOES)\\nQ2 2015 Earni...       0.35          0.45\n",
       "1  Welcome to the Zoe's Kitchen Second Quarter 20...       0.40          0.45\n",
       "2  At this time, all participants have been place...       0.00          0.30\n",
       "3  Please note that this conference is being reco...       0.00          0.00\n",
       "4  On the call today, we have Kevin Miles, Presid...       0.00          0.00\n",
       "5  Now I'd like to turn the conference over to Ji...       0.00          0.00\n",
       "6                                   Please go ahead.       0.00          0.00\n",
       "7  James Besch - CFO, Vice President-Accounting &...       0.70          0.60\n",
       "8  By now, everyone should have access to our sec...       0.00          0.00\n",
       "9  If not, it can be found at www.zoeskitchen.com...       0.00          0.00"
      ]
     },
     "execution_count": 10,
     "metadata": {},
     "output_type": "execute_result"
    }
   ],
   "source": [
    "better_function_sentiment(text).head(10)"
   ]
  },
  {
   "cell_type": "code",
   "execution_count": 11,
   "metadata": {},
   "outputs": [],
   "source": [
    "def extract_sentences(sentiment_df, n = 5):\n",
    "    data = sentiment_df.sort_values('sentiment', ascending=False).head(n)['sentence']\n",
    "    return list(data)"
   ]
  },
  {
   "cell_type": "code",
   "execution_count": 12,
   "metadata": {},
   "outputs": [
    {
     "data": {
      "text/plain": [
       "['Aldo is truly happy when he is helping others.',\n",
       " 'Paul Westra - Stifel, Nicolaus & Co., Inc.\\nGreat.',\n",
       " \"And now we're happy to answer any questions you may have.\",\n",
       " 'Will Slabaugh - Stephens, Inc.\\nGreat.',\n",
       " 'Great.']"
      ]
     },
     "execution_count": 12,
     "metadata": {},
     "output_type": "execute_result"
    }
   ],
   "source": [
    "extract_sentences(better_function_sentiment(text))"
   ]
  },
  {
   "cell_type": "code",
   "execution_count": 13,
   "metadata": {},
   "outputs": [],
   "source": [
    "def extract(text):\n",
    "    df = better_function_sentiment(text)\n",
    "    res=extract_sentences(df)\n",
    "    return res"
   ]
  },
  {
   "cell_type": "code",
   "execution_count": 14,
   "metadata": {},
   "outputs": [
    {
     "name": "stdout",
     "output_type": "stream",
     "text": [
      "['Aldo is truly happy when he is helping others.', 'Paul Westra - Stifel, Nicolaus & Co., Inc.\\nGreat.', \"And now we're happy to answer any questions you may have.\", 'Will Slabaugh - Stephens, Inc.\\nGreat.', 'Great.']\n",
      "['Perfect.', 'Keith Eric Weiss - Morgan Stanley & Co. LLC\\nExcellent.', \"I'll also repeat once again that our business model transition will not be perfectly linear, and the amount of business that we transition, the number of subscription additions and the mix of subscriptions issued will fluctuate from quarter-to-quarter and year-to-year.\", 'Excellent.', \"You're welcome.\"]\n",
      "['We have what we believe the best margins in the industry, so why not leverage that.', 'Have a great day.', 'I want to thank everyone at Smith & Wesson for delivering a great quarter.', 'Great quarter.', \"King & Associates, Inc.\\nThat's great.\"]\n",
      "['Best regards.', 'Best of luck for the rest of the year.', 'Best of luck.', 'Best of luck.', 'Now turning to Ultamate Rewards loyalty program, we continue to reward our best guests with a differentiated experience, driving increased engagement and satisfaction.']\n",
      "['We continue to improve the core Splunk enterprise and all the core platform elements so that it can be the very best indexing engine and data analytics device known to man.', 'Keith Weiss\\nExcellent and a great August.', \"I have to say that I'm really proud of the Splunk's executive team.\", \"It's going to be a great show and I can wait to get together with you there.\", 'Kirk Materne\\nGreat look forward to it.']\n",
      "[\"It used to be we'd get on a call and we'd talk about Walmart and Best Buy and Media Markt and Saturn and JB Hi-Fi, Amazon.\", \"Tony D. Bartel - Chief Operating Officer\\nIt's probably the best indicator we have.\", 'Technology Brands grew their store count by an impressive 182 stores now standing at 731 stores.', 'Our collectibles or Loot business had a very good quarter.', \"You've got a great lineup.\"]\n",
      "['Our Board of Directors unanimously concluded that this arrangement is the best way to maximize value of our stockholders, providing them with immediate cash value for their investment.', 'Welcome to all of you joining us on the call and webcast.', 'Thomas Sepenzis\\nGreat.', 'Thomas Sepenzis\\nGreat.', 'Thomas Sepenzis\\nGreat.']\n",
      "['We pride ourselves in providing legendary service across Canada and the U.S. For the 10th year in a row, J.D.', 'Our Canadian retail segment delivered very good adjusted earnings growth of 8%.', 'John Aiken\\nGreat.', 'I am proud of our performance.', 'Sohrab Movahedi\\nJust in source currency so avoid negating the effects in fact are you happy with the performance of the segment?']\n",
      "['As you no doubt heard, the title was a record breaker for sales in the adults’ fiction category and the excitement of its release got great media attention, increased customer traffic and a comparable sales increase for the month of July.', 'Now, we’ll be happy to take any questions you might have.', 'Todd Noden\\nGood afternoon, everyone.', 'Good afternoon and welcome to the Books-A-Million Second Quarter 2016 Conference Call.', \"Every team member here at BAMM had a part in this success from the merchant to marketing group that created our plan, down to the operations team and the dedicated booksellers in our stores who flawlessly executed it and I couldn't be more proud of their contribution.\"]\n",
      "['Perfect thank you guys I appreciate it.', 'So I think its best I could talk about a couple of examples.', 'Peter Lowry\\nGreat, thank you.', 'Peter Lowry\\nGreat, thank you.', 'Brendan Barnicle\\nGreat.']\n"
     ]
    }
   ],
   "source": [
    "#print top 5 positive sentiment sentences in each earning call\n",
    "for row in data['text'].apply(extract):\n",
    "    print(row)"
   ]
  },
  {
   "cell_type": "markdown",
   "metadata": {},
   "source": [
    "### Incorporate subjectivity and select objective sentiments (low subjectivity)"
   ]
  },
  {
   "cell_type": "code",
   "execution_count": 15,
   "metadata": {},
   "outputs": [],
   "source": [
    "def extract_sentences2(sentiment_df, n = 5):\n",
    "    #instead of using sentiment, multiply by 1-sujecivity\n",
    "    sentiment_df['ns'] = sentiment_df['sentiment'] * (1 - sentiment_df['subjectivity'])\n",
    "    data = sentiment_df.sort_values('ns', ascending=False).head(n)['sentence']\n",
    "    return list(data)"
   ]
  },
  {
   "cell_type": "code",
   "execution_count": 16,
   "metadata": {},
   "outputs": [],
   "source": [
    "def extract2(text):\n",
    "    df = better_function_sentiment(text)\n",
    "    res=extract_sentences2(df)\n",
    "    return res"
   ]
  },
  {
   "cell_type": "code",
   "execution_count": 17,
   "metadata": {},
   "outputs": [
    {
     "name": "stdout",
     "output_type": "stream",
     "text": [
      "[\"Also during today's call, we will discuss non-GAAP measures, which we believe can be useful in evaluating our performance.\", 'Good afternoon, everyone, and thank you for joining us on the call today.', 'We have a good – a backfill strategy going.', 'Good stuff.', 'Good afternoon.']\n",
      "['Good afternoon.', 'Thank you very much, and good afternoon, guys.', \"We told you at the time, some of these were our best guess and mapped most easily to the history before it, and we said as we learned more about it and understood it better and would better pinpoint the things that we're looking at.\", 'Okay.', \"And so that's the point of providing that and we'll spend more time talking about this...\\nHeather Anne Bellini - Goldman Sachs & Co.\\nNo, no.\"]\n",
      "['We have what we believe the best margins in the industry, so why not leverage that.', \"It's more of an analysis of our best use of cash at any particular given time.\", 'This quarter was a good quarter and exceeded our expectations.', \"So we think there's some good opportunities there going forward.\", 'Good afternoon, guys.']\n",
      "['Best regards.', 'Now turning to Ultamate Rewards loyalty program, we continue to reward our best guests with a differentiated experience, driving increased engagement and satisfaction.', 'Best of luck.', 'Best of luck for the rest of the year.', 'Best of luck.']\n",
      "['We continue to improve the core Splunk enterprise and all the core platform elements so that it can be the very best indexing engine and data analytics device known to man.', 'You mentioned a couple of times in the call about win rates.', 'Godfrey Sullivan\\nWe remain in an enviable position on win rates.', \"And we’ve been talking about some of these specialized resources that carry distinct security, capability, variety operations capability or app dev our business analytics for others and we're also adding that specialization of both sales and presales around the globe so that we can increase our win rates or maintain our run rates within those categories.\", 'The highlights of any Splunk quarter are always about our customer success.']\n",
      "[\"It used to be we'd get on a call and we'd talk about Walmart and Best Buy and Media Markt and Saturn and JB Hi-Fi, Amazon.\", \"Tony D. Bartel - Chief Operating Officer\\nIt's probably the best indicator we have.\", 'We have made a very distinct effort to try and win this console launch.', 'Thank you, guys, and good luck for the rest of the year.', 'And good luck for the rest of the year.']\n",
      "['Our Board of Directors unanimously concluded that this arrangement is the best way to maximize value of our stockholders, providing them with immediate cash value for their investment.', 'You may now disconnect and everyone have a good day.', 'Thank you and good day.', 'We still believe it’s a long-term good situation to continue investing in, but month to month is sort of what we are concerned about.', 'Unidentified Analyst\\nOkay.']\n",
      "['Meny Grauman\\nHi, good afternoon.', 'Good afternoon.', 'Unidentified Analyst\\nYes hi guys, good afternoon and also good evening from London.', 'Robert Sedran\\nHi, good afternoon.', 'Good afternoon, everyone.']\n",
      "['Todd Noden\\nGood afternoon, everyone.', 'Good afternoon and welcome to the Books-A-Million Second Quarter 2016 Conference Call.', \"The publishing lineup is solid with an abundance of great new commercial fiction from the likes of John Grisham, Sue Grafton, Lee Child and many more and I am sure Bill O'Reilly’s September non-fiction release Killing Reagan will have a long run at the top of our best seller list.\", \"Every team member here at BAMM had a part in this success from the merchant to marketing group that created our plan, down to the operations team and the dedicated booksellers in our stores who flawlessly executed it and I couldn't be more proud of their contribution.\", 'As you no doubt heard, the title was a record breaker for sales in the adults’ fiction category and the excitement of its release got great media attention, increased customer traffic and a comparable sales increase for the month of July.']\n",
      "['So I think its best I could talk about a couple of examples.', \"We’ll make then okay that's it and we’re all in and we’re in it to win it.\", 'So the big macro level pictures you’ve to get out, you’ve to leave the deck, you’ve to [indiscernible] where the part is going to be, but then as you calibrate on these macro level best then you can really use your customers to guide you.', 'We believe that our proven track record of customer success, continued innovation and execution of our industry cloud strategy positions us well to win a large share of the markets we address over time.', 'The record attendance we see at Veeva Summits are an indication of our customer success and the industries need to migrate from legacy systems to the cloud it also reflects an industry-wide recognition of the rapid innovation of our industry cloud delivers.']\n"
     ]
    }
   ],
   "source": [
    "for row in data['text'].apply(extract2):\n",
    "    print(row)"
   ]
  },
  {
   "cell_type": "code",
   "execution_count": null,
   "metadata": {},
   "outputs": [],
   "source": []
  }
 ],
 "metadata": {
  "kernelspec": {
   "display_name": "Python 3",
   "language": "python",
   "name": "python3"
  },
  "language_info": {
   "codemirror_mode": {
    "name": "ipython",
    "version": 3
   },
   "file_extension": ".py",
   "mimetype": "text/x-python",
   "name": "python",
   "nbconvert_exporter": "python",
   "pygments_lexer": "ipython3",
   "version": "3.7.1"
  }
 },
 "nbformat": 4,
 "nbformat_minor": 2
}
