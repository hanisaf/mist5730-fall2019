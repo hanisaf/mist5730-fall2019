{
 "cells": [
  {
   "cell_type": "code",
   "execution_count": 4,
   "metadata": {
    "scrolled": false
   },
   "outputs": [],
   "source": [
    "#uncomment and run to install spacy\n",
    "#import sys\n",
    "#!{sys.executable} -m pip install spacy\n",
    "#!{sys.executable} -m spacy download en"
   ]
  },
  {
   "cell_type": "code",
   "execution_count": 5,
   "metadata": {},
   "outputs": [],
   "source": [
    "import pandas as pd\n",
    "import spacy"
   ]
  },
  {
   "cell_type": "code",
   "execution_count": 6,
   "metadata": {},
   "outputs": [],
   "source": [
    "nlp = spacy.load('en_core_web_sm')"
   ]
  },
  {
   "cell_type": "markdown",
   "metadata": {},
   "source": [
    "[List of all named entities](https://spacy.io/api/annotation#named-entities)"
   ]
  },
  {
   "cell_type": "markdown",
   "metadata": {},
   "source": [
    "### Extract `MONEY` and `PRODUCT` from the earning calls\n",
    "\n",
    "### Extract all named entities from the earning calls. Rank them by word frequencies"
   ]
  },
  {
   "cell_type": "code",
   "execution_count": 7,
   "metadata": {},
   "outputs": [],
   "source": [
    "data = pd.read_csv('data/EC10.csv')"
   ]
  },
  {
   "cell_type": "code",
   "execution_count": 9,
   "metadata": {},
   "outputs": [],
   "source": [
    "#extract all named entities from text\n",
    "def ne_text(text):\n",
    "    doc = nlp(text)\n",
    "    return [(ent.text, ent.label_) for ent in doc.ents]"
   ]
  },
  {
   "cell_type": "code",
   "execution_count": 10,
   "metadata": {},
   "outputs": [],
   "source": [
    "named_entities = data['text'].apply(ne_text)"
   ]
  },
  {
   "cell_type": "code",
   "execution_count": 14,
   "metadata": {},
   "outputs": [],
   "source": [
    "def filter_ne(list_entities, entities=['MONEY', 'PRODUCT']):\n",
    "    return [(word, ent) for word,ent in list_entities if ent in entities]"
   ]
  },
  {
   "cell_type": "code",
   "execution_count": 16,
   "metadata": {},
   "outputs": [
    {
     "data": {
      "text/plain": [
       "0    [(two marks, MONEY), ($54.5 million, MONEY), (...\n",
       "1    [(A360 Collaboration for Revit, PRODUCT), (Q3,...\n",
       "2    [($147.8 million, MONEY), (Q1, PRODUCT), ($13....\n",
       "3    [(1.15, MONEY), (0.94, MONEY), (more than $400...\n",
       "4    [(Splunk, PRODUCT), (Q2, PRODUCT), (Splunk, PR...\n",
       "5    [(0.36, MONEY), ($60.7 million, MONEY), ($1 bi...\n",
       "6    [(Q1, PRODUCT), ($330 million, MONEY), ($28.6 ...\n",
       "7    [(Management, PRODUCT), (1.20, MONEY), ($239 m...\n",
       "8    [($106.8 million, MONEY), ($107.6 million, MON...\n",
       "9    [($98 million, MONEY), ($75 million, MONEY), (...\n",
       "Name: text, dtype: object"
      ]
     },
     "execution_count": 16,
     "metadata": {},
     "output_type": "execute_result"
    }
   ],
   "source": [
    "filtered_entities = named_entities.apply(filter_ne)\n",
    "filtered_entities"
   ]
  },
  {
   "cell_type": "code",
   "execution_count": 20,
   "metadata": {},
   "outputs": [
    {
     "data": {
      "text/plain": [
       "[(\"Zoe's Kitchen, Inc.\", 'ORG'),\n",
       " ('NYSE', 'ORG'),\n",
       " ('2015', 'DATE'),\n",
       " ('August 27, 2015 5:00', 'DATE'),\n",
       " ('James Besch - CFO', 'PERSON'),\n",
       " ('Kevin Miles', 'PERSON'),\n",
       " ('Chief Executive Officer & Director\\n', 'ORG'),\n",
       " ('Karen F. Short -', 'PERSON'),\n",
       " ('Andrew Marc', 'PERSON'),\n",
       " ('M. Miller', 'PERSON')]"
      ]
     },
     "execution_count": 20,
     "metadata": {},
     "output_type": "execute_result"
    }
   ],
   "source": [
    "#rank by frequency\n",
    "#first let us try to do it for the first text\n",
    "entities = named_entities[0]\n",
    "entities[:10]"
   ]
  },
  {
   "cell_type": "code",
   "execution_count": 24,
   "metadata": {},
   "outputs": [
    {
     "data": {
      "text/plain": [
       "(Kevin Miles, PERSON)          34\n",
       "(James Besch - CFO, PERSON)    14\n",
       "(2016, DATE)                   12\n",
       "(Kevin, PERSON)                10\n",
       "(Controller\\n, PERSON)         10\n",
       "dtype: int64"
      ]
     },
     "execution_count": 24,
     "metadata": {},
     "output_type": "execute_result"
    }
   ],
   "source": [
    "#put the entities in a data frame\n",
    "s = pd.Series(entities).value_counts()\n",
    "s.head()"
   ]
  },
  {
   "cell_type": "code",
   "execution_count": 28,
   "metadata": {},
   "outputs": [],
   "source": [
    "#isolate the steps in a function\n",
    "def most_frequent_entities(list_of_entities):\n",
    "    return pd.Series(list_of_entities).value_counts().head().to_dict()"
   ]
  },
  {
   "cell_type": "code",
   "execution_count": 29,
   "metadata": {},
   "outputs": [
    {
     "data": {
      "text/plain": [
       "0    {('Kevin Miles', 'PERSON'): 34, ('James Besch ...\n",
       "1    {('Carl Bass - President', 'PERSON'): 48, ('on...\n",
       "2    {('James Debney - President', 'PERSON'): 32, (...\n",
       "3    {('Mary N. Dillon - Chief', 'PERSON'): 16, ('o...\n",
       "4    {('Splunk', 'PERSON'): 27, ('Splunk', 'PRODUCT...\n",
       "5    {('Paul Raines', 'PERSON'): 46, ('Tony D. Bart...\n",
       "6    {('China', 'GPE'): 24, ('the prior quarter', '...\n",
       "7    {('U.S.', 'GPE'): 35, ('Canadian', 'NORP'): 14...\n",
       "8    {('the second quarter', 'DATE'): 7, ('last yea...\n",
       "9    {('Vault', 'ORG'): 32, ('CRM', 'PRODUCT'): 19,...\n",
       "Name: text, dtype: object"
      ]
     },
     "execution_count": 29,
     "metadata": {},
     "output_type": "execute_result"
    }
   ],
   "source": [
    "named_entities.apply(most_frequent_entities)"
   ]
  },
  {
   "cell_type": "code",
   "execution_count": 30,
   "metadata": {},
   "outputs": [
    {
     "data": {
      "text/html": [
       "<div>\n",
       "<style scoped>\n",
       "    .dataframe tbody tr th:only-of-type {\n",
       "        vertical-align: middle;\n",
       "    }\n",
       "\n",
       "    .dataframe tbody tr th {\n",
       "        vertical-align: top;\n",
       "    }\n",
       "\n",
       "    .dataframe thead th {\n",
       "        text-align: right;\n",
       "    }\n",
       "</style>\n",
       "<table border=\"1\" class=\"dataframe\">\n",
       "  <thead>\n",
       "    <tr style=\"text-align: right;\">\n",
       "      <th></th>\n",
       "      <th>id</th>\n",
       "      <th>text</th>\n",
       "      <th>date</th>\n",
       "      <th>company</th>\n",
       "      <th>sector</th>\n",
       "      <th>frequent entities</th>\n",
       "    </tr>\n",
       "  </thead>\n",
       "  <tbody>\n",
       "    <tr>\n",
       "      <th>0</th>\n",
       "      <td>32934</td>\n",
       "      <td>Zoe's Kitchen, Inc. (NYSE:ZOES)\\nQ2 2015 Earni...</td>\n",
       "      <td>2015-08-28 00:11:00</td>\n",
       "      <td>Zoe's Kitchen, Inc.</td>\n",
       "      <td>Consumer Services</td>\n",
       "      <td>{('Kevin Miles', 'PERSON'): 34, ('James Besch ...</td>\n",
       "    </tr>\n",
       "    <tr>\n",
       "      <th>1</th>\n",
       "      <td>32905</td>\n",
       "      <td>Autodesk, Inc. (NASDAQ:ADSK)\\nQ2 2016 Earnings...</td>\n",
       "      <td>2015-08-28 00:07:00</td>\n",
       "      <td>Autodesk, Inc.</td>\n",
       "      <td>Technology</td>\n",
       "      <td>{('Carl Bass - President', 'PERSON'): 48, ('on...</td>\n",
       "    </tr>\n",
       "    <tr>\n",
       "      <th>2</th>\n",
       "      <td>32926</td>\n",
       "      <td>Smith &amp; Wesson Holding Corp. (NASDAQ:SWHC)\\nQ1...</td>\n",
       "      <td>2015-08-27 23:25:00</td>\n",
       "      <td>Smith &amp; Wesson Holding Corporation</td>\n",
       "      <td>Capital Goods</td>\n",
       "      <td>{('James Debney - President', 'PERSON'): 32, (...</td>\n",
       "    </tr>\n",
       "    <tr>\n",
       "      <th>3</th>\n",
       "      <td>32930</td>\n",
       "      <td>Ulta Salon, Cosmetics &amp; Fragrance, Inc. (NASDA...</td>\n",
       "      <td>2015-08-27 23:09:00</td>\n",
       "      <td>Ulta Salon, Cosmetics &amp; Fragrance, Inc.</td>\n",
       "      <td>Consumer Services</td>\n",
       "      <td>{('Mary N. Dillon - Chief', 'PERSON'): 16, ('o...</td>\n",
       "    </tr>\n",
       "    <tr>\n",
       "      <th>4</th>\n",
       "      <td>32907</td>\n",
       "      <td>Splunk Inc. (NASDAQ:SPLK)\\nQ2 2016 Earnings Co...</td>\n",
       "      <td>2015-08-27 22:56:00</td>\n",
       "      <td>Splunk Inc.</td>\n",
       "      <td>Technology</td>\n",
       "      <td>{('Splunk', 'PERSON'): 27, ('Splunk', 'PRODUCT...</td>\n",
       "    </tr>\n",
       "  </tbody>\n",
       "</table>\n",
       "</div>"
      ],
      "text/plain": [
       "      id                                               text  \\\n",
       "0  32934  Zoe's Kitchen, Inc. (NYSE:ZOES)\\nQ2 2015 Earni...   \n",
       "1  32905  Autodesk, Inc. (NASDAQ:ADSK)\\nQ2 2016 Earnings...   \n",
       "2  32926  Smith & Wesson Holding Corp. (NASDAQ:SWHC)\\nQ1...   \n",
       "3  32930  Ulta Salon, Cosmetics & Fragrance, Inc. (NASDA...   \n",
       "4  32907  Splunk Inc. (NASDAQ:SPLK)\\nQ2 2016 Earnings Co...   \n",
       "\n",
       "                  date                                  company  \\\n",
       "0  2015-08-28 00:11:00                      Zoe's Kitchen, Inc.   \n",
       "1  2015-08-28 00:07:00                           Autodesk, Inc.   \n",
       "2  2015-08-27 23:25:00       Smith & Wesson Holding Corporation   \n",
       "3  2015-08-27 23:09:00  Ulta Salon, Cosmetics & Fragrance, Inc.   \n",
       "4  2015-08-27 22:56:00                              Splunk Inc.   \n",
       "\n",
       "              sector                                  frequent entities  \n",
       "0  Consumer Services  {('Kevin Miles', 'PERSON'): 34, ('James Besch ...  \n",
       "1         Technology  {('Carl Bass - President', 'PERSON'): 48, ('on...  \n",
       "2      Capital Goods  {('James Debney - President', 'PERSON'): 32, (...  \n",
       "3  Consumer Services  {('Mary N. Dillon - Chief', 'PERSON'): 16, ('o...  \n",
       "4         Technology  {('Splunk', 'PERSON'): 27, ('Splunk', 'PRODUCT...  "
      ]
     },
     "execution_count": 30,
     "metadata": {},
     "output_type": "execute_result"
    }
   ],
   "source": [
    "data['frequent entities'] = named_entities.apply(most_frequent_entities)\n",
    "data.head()"
   ]
  },
  {
   "cell_type": "code",
   "execution_count": null,
   "metadata": {},
   "outputs": [],
   "source": []
  }
 ],
 "metadata": {
  "kernelspec": {
   "display_name": "Python 3",
   "language": "python",
   "name": "python3"
  },
  "language_info": {
   "codemirror_mode": {
    "name": "ipython",
    "version": 3
   },
   "file_extension": ".py",
   "mimetype": "text/x-python",
   "name": "python",
   "nbconvert_exporter": "python",
   "pygments_lexer": "ipython3",
   "version": "3.7.1"
  }
 },
 "nbformat": 4,
 "nbformat_minor": 2
}
