{
 "cells": [
  {
   "cell_type": "code",
   "execution_count": 17,
   "metadata": {},
   "outputs": [],
   "source": [
    "import pandas as pd\n",
    "import numpy as np\n",
    "from sklearn import tree\n",
    "from sklearn.model_selection import train_test_split\n",
    "from sklearn.metrics import  accuracy_score, confusion_matrix\n",
    "from sklearn.tree import export_text\n",
    "from sklearn.tree import export_graphviz"
   ]
  },
  {
   "cell_type": "markdown",
   "metadata": {},
   "source": [
    "Fit a decision tree to predict the binary outcome `baby_low_weight` using `mom_weight`, `premature_labor`, `hypertension`, `irritability`\n",
    "- Print and interpret the model coefficients\n",
    "- Does the model make good predictions of `baby_weight`?\n",
    "- Include `smoked` and `race` to the model, is the new model better than the old one?\n",
    "- Use all other features in the data (except `baby_weight`). Which features are most useful in this task?"
   ]
  },
  {
   "cell_type": "code",
   "execution_count": 4,
   "metadata": {},
   "outputs": [],
   "source": [
    "data=pd.read_excel('data/birth_weight.xlsx') #Hosmer & Lemeshow low birth weight data"
   ]
  },
  {
   "cell_type": "code",
   "execution_count": 5,
   "metadata": {},
   "outputs": [],
   "source": [
    "data.columns=['id', 'baby_low_weight', 'mom_age', 'mom_weight', 'race', 'smoked', 'premature_labor', 'hyptertension', 'irritability', 'doc_visit', 'baby_weight']"
   ]
  },
  {
   "cell_type": "code",
   "execution_count": 6,
   "metadata": {},
   "outputs": [
    {
     "data": {
      "text/html": [
       "<div>\n",
       "<style scoped>\n",
       "    .dataframe tbody tr th:only-of-type {\n",
       "        vertical-align: middle;\n",
       "    }\n",
       "\n",
       "    .dataframe tbody tr th {\n",
       "        vertical-align: top;\n",
       "    }\n",
       "\n",
       "    .dataframe thead th {\n",
       "        text-align: right;\n",
       "    }\n",
       "</style>\n",
       "<table border=\"1\" class=\"dataframe\">\n",
       "  <thead>\n",
       "    <tr style=\"text-align: right;\">\n",
       "      <th></th>\n",
       "      <th>id</th>\n",
       "      <th>baby_low_weight</th>\n",
       "      <th>mom_age</th>\n",
       "      <th>mom_weight</th>\n",
       "      <th>race</th>\n",
       "      <th>smoked</th>\n",
       "      <th>premature_labor</th>\n",
       "      <th>hyptertension</th>\n",
       "      <th>irritability</th>\n",
       "      <th>doc_visit</th>\n",
       "      <th>baby_weight</th>\n",
       "    </tr>\n",
       "  </thead>\n",
       "  <tbody>\n",
       "    <tr>\n",
       "      <th>0</th>\n",
       "      <td>85</td>\n",
       "      <td>0</td>\n",
       "      <td>19</td>\n",
       "      <td>182</td>\n",
       "      <td>black</td>\n",
       "      <td>nonsmoker</td>\n",
       "      <td>0</td>\n",
       "      <td>0</td>\n",
       "      <td>1</td>\n",
       "      <td>0</td>\n",
       "      <td>2523</td>\n",
       "    </tr>\n",
       "    <tr>\n",
       "      <th>1</th>\n",
       "      <td>86</td>\n",
       "      <td>0</td>\n",
       "      <td>33</td>\n",
       "      <td>155</td>\n",
       "      <td>other</td>\n",
       "      <td>nonsmoker</td>\n",
       "      <td>0</td>\n",
       "      <td>0</td>\n",
       "      <td>0</td>\n",
       "      <td>3</td>\n",
       "      <td>2551</td>\n",
       "    </tr>\n",
       "    <tr>\n",
       "      <th>2</th>\n",
       "      <td>87</td>\n",
       "      <td>0</td>\n",
       "      <td>20</td>\n",
       "      <td>105</td>\n",
       "      <td>white</td>\n",
       "      <td>smoker</td>\n",
       "      <td>0</td>\n",
       "      <td>0</td>\n",
       "      <td>0</td>\n",
       "      <td>1</td>\n",
       "      <td>2557</td>\n",
       "    </tr>\n",
       "    <tr>\n",
       "      <th>3</th>\n",
       "      <td>88</td>\n",
       "      <td>0</td>\n",
       "      <td>21</td>\n",
       "      <td>108</td>\n",
       "      <td>white</td>\n",
       "      <td>smoker</td>\n",
       "      <td>0</td>\n",
       "      <td>0</td>\n",
       "      <td>1</td>\n",
       "      <td>2</td>\n",
       "      <td>2594</td>\n",
       "    </tr>\n",
       "    <tr>\n",
       "      <th>4</th>\n",
       "      <td>89</td>\n",
       "      <td>0</td>\n",
       "      <td>18</td>\n",
       "      <td>107</td>\n",
       "      <td>white</td>\n",
       "      <td>smoker</td>\n",
       "      <td>0</td>\n",
       "      <td>0</td>\n",
       "      <td>1</td>\n",
       "      <td>0</td>\n",
       "      <td>2600</td>\n",
       "    </tr>\n",
       "  </tbody>\n",
       "</table>\n",
       "</div>"
      ],
      "text/plain": [
       "   id  baby_low_weight  mom_age  mom_weight   race     smoked  \\\n",
       "0  85                0       19         182  black  nonsmoker   \n",
       "1  86                0       33         155  other  nonsmoker   \n",
       "2  87                0       20         105  white     smoker   \n",
       "3  88                0       21         108  white     smoker   \n",
       "4  89                0       18         107  white     smoker   \n",
       "\n",
       "   premature_labor  hyptertension  irritability  doc_visit  baby_weight  \n",
       "0                0              0             1          0         2523  \n",
       "1                0              0             0          3         2551  \n",
       "2                0              0             0          1         2557  \n",
       "3                0              0             1          2         2594  \n",
       "4                0              0             1          0         2600  "
      ]
     },
     "execution_count": 6,
     "metadata": {},
     "output_type": "execute_result"
    }
   ],
   "source": [
    "data.head()"
   ]
  },
  {
   "cell_type": "code",
   "execution_count": 7,
   "metadata": {},
   "outputs": [],
   "source": [
    "data=pd.get_dummies(data)"
   ]
  },
  {
   "cell_type": "code",
   "execution_count": 8,
   "metadata": {},
   "outputs": [
    {
     "data": {
      "text/html": [
       "<div>\n",
       "<style scoped>\n",
       "    .dataframe tbody tr th:only-of-type {\n",
       "        vertical-align: middle;\n",
       "    }\n",
       "\n",
       "    .dataframe tbody tr th {\n",
       "        vertical-align: top;\n",
       "    }\n",
       "\n",
       "    .dataframe thead th {\n",
       "        text-align: right;\n",
       "    }\n",
       "</style>\n",
       "<table border=\"1\" class=\"dataframe\">\n",
       "  <thead>\n",
       "    <tr style=\"text-align: right;\">\n",
       "      <th></th>\n",
       "      <th>id</th>\n",
       "      <th>baby_low_weight</th>\n",
       "      <th>mom_age</th>\n",
       "      <th>mom_weight</th>\n",
       "      <th>premature_labor</th>\n",
       "      <th>hyptertension</th>\n",
       "      <th>irritability</th>\n",
       "      <th>doc_visit</th>\n",
       "      <th>baby_weight</th>\n",
       "      <th>race_black</th>\n",
       "      <th>race_other</th>\n",
       "      <th>race_white</th>\n",
       "      <th>smoked_nonsmoker</th>\n",
       "      <th>smoked_smoker</th>\n",
       "    </tr>\n",
       "  </thead>\n",
       "  <tbody>\n",
       "    <tr>\n",
       "      <th>0</th>\n",
       "      <td>85</td>\n",
       "      <td>0</td>\n",
       "      <td>19</td>\n",
       "      <td>182</td>\n",
       "      <td>0</td>\n",
       "      <td>0</td>\n",
       "      <td>1</td>\n",
       "      <td>0</td>\n",
       "      <td>2523</td>\n",
       "      <td>1</td>\n",
       "      <td>0</td>\n",
       "      <td>0</td>\n",
       "      <td>1</td>\n",
       "      <td>0</td>\n",
       "    </tr>\n",
       "    <tr>\n",
       "      <th>1</th>\n",
       "      <td>86</td>\n",
       "      <td>0</td>\n",
       "      <td>33</td>\n",
       "      <td>155</td>\n",
       "      <td>0</td>\n",
       "      <td>0</td>\n",
       "      <td>0</td>\n",
       "      <td>3</td>\n",
       "      <td>2551</td>\n",
       "      <td>0</td>\n",
       "      <td>1</td>\n",
       "      <td>0</td>\n",
       "      <td>1</td>\n",
       "      <td>0</td>\n",
       "    </tr>\n",
       "    <tr>\n",
       "      <th>2</th>\n",
       "      <td>87</td>\n",
       "      <td>0</td>\n",
       "      <td>20</td>\n",
       "      <td>105</td>\n",
       "      <td>0</td>\n",
       "      <td>0</td>\n",
       "      <td>0</td>\n",
       "      <td>1</td>\n",
       "      <td>2557</td>\n",
       "      <td>0</td>\n",
       "      <td>0</td>\n",
       "      <td>1</td>\n",
       "      <td>0</td>\n",
       "      <td>1</td>\n",
       "    </tr>\n",
       "    <tr>\n",
       "      <th>3</th>\n",
       "      <td>88</td>\n",
       "      <td>0</td>\n",
       "      <td>21</td>\n",
       "      <td>108</td>\n",
       "      <td>0</td>\n",
       "      <td>0</td>\n",
       "      <td>1</td>\n",
       "      <td>2</td>\n",
       "      <td>2594</td>\n",
       "      <td>0</td>\n",
       "      <td>0</td>\n",
       "      <td>1</td>\n",
       "      <td>0</td>\n",
       "      <td>1</td>\n",
       "    </tr>\n",
       "    <tr>\n",
       "      <th>4</th>\n",
       "      <td>89</td>\n",
       "      <td>0</td>\n",
       "      <td>18</td>\n",
       "      <td>107</td>\n",
       "      <td>0</td>\n",
       "      <td>0</td>\n",
       "      <td>1</td>\n",
       "      <td>0</td>\n",
       "      <td>2600</td>\n",
       "      <td>0</td>\n",
       "      <td>0</td>\n",
       "      <td>1</td>\n",
       "      <td>0</td>\n",
       "      <td>1</td>\n",
       "    </tr>\n",
       "  </tbody>\n",
       "</table>\n",
       "</div>"
      ],
      "text/plain": [
       "   id  baby_low_weight  mom_age  mom_weight  premature_labor  hyptertension  \\\n",
       "0  85                0       19         182                0              0   \n",
       "1  86                0       33         155                0              0   \n",
       "2  87                0       20         105                0              0   \n",
       "3  88                0       21         108                0              0   \n",
       "4  89                0       18         107                0              0   \n",
       "\n",
       "   irritability  doc_visit  baby_weight  race_black  race_other  race_white  \\\n",
       "0             1          0         2523           1           0           0   \n",
       "1             0          3         2551           0           1           0   \n",
       "2             0          1         2557           0           0           1   \n",
       "3             1          2         2594           0           0           1   \n",
       "4             1          0         2600           0           0           1   \n",
       "\n",
       "   smoked_nonsmoker  smoked_smoker  \n",
       "0                 1              0  \n",
       "1                 1              0  \n",
       "2                 0              1  \n",
       "3                 0              1  \n",
       "4                 0              1  "
      ]
     },
     "execution_count": 8,
     "metadata": {},
     "output_type": "execute_result"
    }
   ],
   "source": [
    "data.head()"
   ]
  },
  {
   "cell_type": "code",
   "execution_count": 9,
   "metadata": {},
   "outputs": [],
   "source": [
    "X = data[['mom_age', 'mom_weight', 'premature_labor',\n",
    "       'hyptertension', 'irritability', 'doc_visit', \n",
    "       'race_black', 'race_other', 'race_white', 'smoked_nonsmoker',\n",
    "       'smoked_smoker']]\n",
    "y = data['baby_low_weight']"
   ]
  },
  {
   "cell_type": "code",
   "execution_count": 19,
   "metadata": {},
   "outputs": [],
   "source": [
    "X_train, X_test, y_train, y_test = train_test_split(X, y, train_size=0.5)"
   ]
  },
  {
   "cell_type": "code",
   "execution_count": 20,
   "metadata": {},
   "outputs": [],
   "source": [
    "dtree = tree.DecisionTreeClassifier().fit(X_train, y_train)"
   ]
  },
  {
   "cell_type": "code",
   "execution_count": 21,
   "metadata": {},
   "outputs": [],
   "source": [
    "yfit = dtree.predict(X_test)"
   ]
  },
  {
   "cell_type": "code",
   "execution_count": 22,
   "metadata": {},
   "outputs": [
    {
     "data": {
      "text/plain": [
       "0.5789473684210527"
      ]
     },
     "execution_count": 22,
     "metadata": {},
     "output_type": "execute_result"
    }
   ],
   "source": [
    "accuracy_score(y_test, yfit)"
   ]
  },
  {
   "cell_type": "code",
   "execution_count": 23,
   "metadata": {},
   "outputs": [
    {
     "data": {
      "text/plain": [
       "array([[48, 17],\n",
       "       [23,  7]])"
      ]
     },
     "execution_count": 23,
     "metadata": {},
     "output_type": "execute_result"
    }
   ],
   "source": [
    "confusion_matrix(y_test, yfit)"
   ]
  },
  {
   "cell_type": "code",
   "execution_count": 24,
   "metadata": {},
   "outputs": [
    {
     "name": "stdout",
     "output_type": "stream",
     "text": [
      "|--- mom_weight <= 111.00\n",
      "|   |--- mom_age <= 17.50\n",
      "|   |   |--- class: 1\n",
      "|   |--- mom_age >  17.50\n",
      "|   |   |--- mom_age <= 19.50\n",
      "|   |   |   |--- class: 0\n",
      "|   |   |--- mom_age >  19.50\n",
      "|   |   |   |--- mom_weight <= 106.50\n",
      "|   |   |   |   |--- race_white <= 0.50\n",
      "|   |   |   |   |   |--- doc_visit <= 0.50\n",
      "|   |   |   |   |   |   |--- irritability <= 0.50\n",
      "|   |   |   |   |   |   |   |--- class: 0\n",
      "|   |   |   |   |   |   |--- irritability >  0.50\n",
      "|   |   |   |   |   |   |   |--- class: 1\n",
      "|   |   |   |   |   |--- doc_visit >  0.50\n",
      "|   |   |   |   |   |   |--- class: 1\n",
      "|   |   |   |   |--- race_white >  0.50\n",
      "|   |   |   |   |   |--- mom_age <= 26.50\n",
      "|   |   |   |   |   |   |--- class: 0\n",
      "|   |   |   |   |   |--- mom_age >  26.50\n",
      "|   |   |   |   |   |   |--- doc_visit <= 1.50\n",
      "|   |   |   |   |   |   |   |--- class: 1\n",
      "|   |   |   |   |   |   |--- doc_visit >  1.50\n",
      "|   |   |   |   |   |   |   |--- mom_age <= 29.00\n",
      "|   |   |   |   |   |   |   |   |--- class: 1\n",
      "|   |   |   |   |   |   |   |--- mom_age >  29.00\n",
      "|   |   |   |   |   |   |   |   |--- class: 0\n",
      "|   |   |   |--- mom_weight >  106.50\n",
      "|   |   |   |   |--- mom_age <= 23.50\n",
      "|   |   |   |   |   |--- class: 1\n",
      "|   |   |   |   |--- mom_age >  23.50\n",
      "|   |   |   |   |   |--- class: 0\n",
      "|--- mom_weight >  111.00\n",
      "|   |--- irritability <= 0.50\n",
      "|   |   |--- hyptertension <= 0.50\n",
      "|   |   |   |--- mom_weight <= 181.00\n",
      "|   |   |   |   |--- doc_visit <= 0.50\n",
      "|   |   |   |   |   |--- mom_age <= 26.50\n",
      "|   |   |   |   |   |   |--- mom_weight <= 123.00\n",
      "|   |   |   |   |   |   |   |--- mom_age <= 18.50\n",
      "|   |   |   |   |   |   |   |   |--- class: 0\n",
      "|   |   |   |   |   |   |   |--- mom_age >  18.50\n",
      "|   |   |   |   |   |   |   |   |--- mom_weight <= 113.50\n",
      "|   |   |   |   |   |   |   |   |   |--- class: 0\n",
      "|   |   |   |   |   |   |   |   |--- mom_weight >  113.50\n",
      "|   |   |   |   |   |   |   |   |   |--- class: 1\n",
      "|   |   |   |   |   |   |--- mom_weight >  123.00\n",
      "|   |   |   |   |   |   |   |--- class: 0\n",
      "|   |   |   |   |   |--- mom_age >  26.50\n",
      "|   |   |   |   |   |   |--- smoked_nonsmoker <= 0.50\n",
      "|   |   |   |   |   |   |   |--- class: 1\n",
      "|   |   |   |   |   |   |--- smoked_nonsmoker >  0.50\n",
      "|   |   |   |   |   |   |   |--- mom_age <= 27.50\n",
      "|   |   |   |   |   |   |   |   |--- class: 1\n",
      "|   |   |   |   |   |   |   |--- mom_age >  27.50\n",
      "|   |   |   |   |   |   |   |   |--- class: 0\n",
      "|   |   |   |   |--- doc_visit >  0.50\n",
      "|   |   |   |   |   |--- class: 0\n",
      "|   |   |   |--- mom_weight >  181.00\n",
      "|   |   |   |   |--- smoked_nonsmoker <= 0.50\n",
      "|   |   |   |   |   |--- class: 1\n",
      "|   |   |   |   |--- smoked_nonsmoker >  0.50\n",
      "|   |   |   |   |   |--- class: 0\n",
      "|   |   |--- hyptertension >  0.50\n",
      "|   |   |   |--- mom_age <= 20.00\n",
      "|   |   |   |   |--- class: 0\n",
      "|   |   |   |--- mom_age >  20.00\n",
      "|   |   |   |   |--- mom_weight <= 125.00\n",
      "|   |   |   |   |   |--- class: 0\n",
      "|   |   |   |   |--- mom_weight >  125.00\n",
      "|   |   |   |   |   |--- class: 1\n",
      "|   |--- irritability >  0.50\n",
      "|   |   |--- smoked_smoker <= 0.50\n",
      "|   |   |   |--- mom_age <= 17.00\n",
      "|   |   |   |   |--- class: 1\n",
      "|   |   |   |--- mom_age >  17.00\n",
      "|   |   |   |   |--- mom_weight <= 191.00\n",
      "|   |   |   |   |   |--- class: 0\n",
      "|   |   |   |   |--- mom_weight >  191.00\n",
      "|   |   |   |   |   |--- class: 1\n",
      "|   |   |--- smoked_smoker >  0.50\n",
      "|   |   |   |--- class: 1\n",
      "\n"
     ]
    }
   ],
   "source": [
    "print(export_text(dtree, feature_names=list(X.columns)))"
   ]
  },
  {
   "cell_type": "code",
   "execution_count": 25,
   "metadata": {},
   "outputs": [],
   "source": [
    "# let us prune the tree and focus on most important features"
   ]
  },
  {
   "cell_type": "code",
   "execution_count": 26,
   "metadata": {},
   "outputs": [
    {
     "data": {
      "text/plain": [
       "array([0.35176717, 0.25589786, 0.        , 0.06240046, 0.12057171,\n",
       "       0.07494905, 0.        , 0.        , 0.03426345, 0.06648983,\n",
       "       0.03366048])"
      ]
     },
     "execution_count": 26,
     "metadata": {},
     "output_type": "execute_result"
    }
   ],
   "source": [
    "dtree.feature_importances_"
   ]
  },
  {
   "cell_type": "code",
   "execution_count": 34,
   "metadata": {},
   "outputs": [],
   "source": [
    "dtree = tree.DecisionTreeClassifier(max_features=4, max_leaf_nodes=10).fit(X_train, y_train)"
   ]
  },
  {
   "cell_type": "code",
   "execution_count": 35,
   "metadata": {},
   "outputs": [
    {
     "name": "stdout",
     "output_type": "stream",
     "text": [
      "|--- mom_age <= 15.50\n",
      "|   |--- class: 1\n",
      "|--- mom_age >  15.50\n",
      "|   |--- smoked_nonsmoker <= 0.50\n",
      "|   |   |--- mom_weight <= 185.50\n",
      "|   |   |   |--- mom_age <= 21.50\n",
      "|   |   |   |   |--- race_black <= 0.50\n",
      "|   |   |   |   |   |--- class: 0\n",
      "|   |   |   |   |--- race_black >  0.50\n",
      "|   |   |   |   |   |--- class: 1\n",
      "|   |   |   |--- mom_age >  21.50\n",
      "|   |   |   |   |--- class: 0\n",
      "|   |   |--- mom_weight >  185.50\n",
      "|   |   |   |--- mom_weight <= 212.50\n",
      "|   |   |   |   |--- class: 1\n",
      "|   |   |   |--- mom_weight >  212.50\n",
      "|   |   |   |   |--- class: 0\n",
      "|   |--- smoked_nonsmoker >  0.50\n",
      "|   |   |--- mom_weight <= 106.50\n",
      "|   |   |   |--- race_white <= 0.50\n",
      "|   |   |   |   |--- mom_age <= 20.50\n",
      "|   |   |   |   |   |--- class: 0\n",
      "|   |   |   |   |--- mom_age >  20.50\n",
      "|   |   |   |   |   |--- class: 1\n",
      "|   |   |   |--- race_white >  0.50\n",
      "|   |   |   |   |--- class: 0\n",
      "|   |   |--- mom_weight >  106.50\n",
      "|   |   |   |--- class: 0\n",
      "\n"
     ]
    }
   ],
   "source": [
    "print(export_text(dtree, feature_names=list(X.columns)))\n"
   ]
  },
  {
   "cell_type": "code",
   "execution_count": 36,
   "metadata": {},
   "outputs": [],
   "source": [
    "yfit = dtree.predict(X_test)"
   ]
  },
  {
   "cell_type": "code",
   "execution_count": 37,
   "metadata": {},
   "outputs": [
    {
     "data": {
      "text/plain": [
       "0.7052631578947368"
      ]
     },
     "execution_count": 37,
     "metadata": {},
     "output_type": "execute_result"
    }
   ],
   "source": [
    "accuracy_score(y_test, yfit)"
   ]
  },
  {
   "cell_type": "code",
   "execution_count": 38,
   "metadata": {},
   "outputs": [
    {
     "data": {
      "text/plain": [
       "array([[61,  4],\n",
       "       [24,  6]])"
      ]
     },
     "execution_count": 38,
     "metadata": {},
     "output_type": "execute_result"
    }
   ],
   "source": [
    "confusion_matrix(y_test, yfit)"
   ]
  },
  {
   "cell_type": "code",
   "execution_count": null,
   "metadata": {},
   "outputs": [],
   "source": []
  }
 ],
 "metadata": {
  "kernelspec": {
   "display_name": "Python 3",
   "language": "python",
   "name": "python3"
  },
  "language_info": {
   "codemirror_mode": {
    "name": "ipython",
    "version": 3
   },
   "file_extension": ".py",
   "mimetype": "text/x-python",
   "name": "python",
   "nbconvert_exporter": "python",
   "pygments_lexer": "ipython3",
   "version": "3.7.3"
  }
 },
 "nbformat": 4,
 "nbformat_minor": 2
}
