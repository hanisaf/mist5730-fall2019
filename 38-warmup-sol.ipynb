{
 "cells": [
  {
   "cell_type": "markdown",
   "metadata": {},
   "source": [
    "The purpose of this exercise is to analyze [the political books network](http://www-personal.umich.edu/~mejn/netdata)\n"
   ]
  },
  {
   "cell_type": "code",
   "execution_count": 1,
   "metadata": {},
   "outputs": [],
   "source": [
    "import networkx as nx\n",
    "from networkx.algorithms import community\n",
    "import pandas as pd"
   ]
  },
  {
   "cell_type": "code",
   "execution_count": 2,
   "metadata": {},
   "outputs": [],
   "source": [
    "# Read the network data\n",
    "net = nx.read_gml('data/polbooks.gml')"
   ]
  },
  {
   "cell_type": "code",
   "execution_count": 3,
   "metadata": {},
   "outputs": [
    {
     "data": {
      "text/plain": [
       "105"
      ]
     },
     "execution_count": 3,
     "metadata": {},
     "output_type": "execute_result"
    }
   ],
   "source": [
    "len(net.nodes)"
   ]
  },
  {
   "cell_type": "code",
   "execution_count": 4,
   "metadata": {},
   "outputs": [
    {
     "data": {
      "text/plain": [
       "441"
      ]
     },
     "execution_count": 4,
     "metadata": {},
     "output_type": "execute_result"
    }
   ],
   "source": [
    "len(net.edges)"
   ]
  },
  {
   "cell_type": "markdown",
   "metadata": {},
   "source": [
    "# What books are purchased with `Worse Than Watergate`?"
   ]
  },
  {
   "cell_type": "code",
   "execution_count": 5,
   "metadata": {},
   "outputs": [
    {
     "data": {
      "text/plain": [
       "['The Price of Loyalty',\n",
       " 'House of Bush, House of Saud',\n",
       " 'The Sorrows of Empire',\n",
       " 'Against All Enemies',\n",
       " 'American Dynasty',\n",
       " 'Big Lies',\n",
       " 'The Lies of George W. Bush',\n",
       " 'Plan of Attack',\n",
       " 'Bush at War',\n",
       " 'The New Pearl Harbor',\n",
       " 'Bushwomen',\n",
       " 'The Politics of Truth',\n",
       " 'Fanatics and Fools',\n",
       " 'Bushwhacked',\n",
       " 'The Exception to the Rulers',\n",
       " 'Freethinkers']"
      ]
     },
     "execution_count": 5,
     "metadata": {},
     "output_type": "execute_result"
    }
   ],
   "source": [
    "list(net.neighbors(\"Worse Than Watergate\"))"
   ]
  },
  {
   "cell_type": "markdown",
   "metadata": {},
   "source": [
    "# What is the shortest path between `MoveOn's 50 Ways to Love Your Country` and `Empire`?"
   ]
  },
  {
   "cell_type": "code",
   "execution_count": 6,
   "metadata": {},
   "outputs": [
    {
     "data": {
      "text/plain": [
       "[\"MoveOn's 50 Ways to Love Your Country\",\n",
       " 'American Dynasty',\n",
       " 'The Great Unraveling',\n",
       " 'Rogue Nation',\n",
       " 'Empire']"
      ]
     },
     "execution_count": 6,
     "metadata": {},
     "output_type": "execute_result"
    }
   ],
   "source": [
    "nx.shortest_path(net)[\"MoveOn's 50 Ways to Love Your Country\"][\"Empire\"]"
   ]
  },
  {
   "cell_type": "markdown",
   "metadata": {},
   "source": [
    "# What are the top 5 central books? Use different centrality measures and compare"
   ]
  },
  {
   "cell_type": "code",
   "execution_count": 7,
   "metadata": {},
   "outputs": [],
   "source": [
    "degree = pd.Series(nx.degree_centrality(net))\n",
    "betweenness = pd.Series(nx.betweenness_centrality(net))"
   ]
  },
  {
   "cell_type": "code",
   "execution_count": 8,
   "metadata": {},
   "outputs": [
    {
     "data": {
      "text/plain": [
       "1000 Years for Revenge     0.057692\n",
       "Bush vs. the Beltway       0.038462\n",
       "Charlie Wilson's War       0.038462\n",
       "Losing Bin Laden           0.221154\n",
       "Sleeping With the Devil    0.076923\n",
       "dtype: float64"
      ]
     },
     "execution_count": 8,
     "metadata": {},
     "output_type": "execute_result"
    }
   ],
   "source": [
    "degree.head()"
   ]
  },
  {
   "cell_type": "code",
   "execution_count": 9,
   "metadata": {},
   "outputs": [
    {
     "data": {
      "text/plain": [
       "1000 Years for Revenge     0.007433\n",
       "Bush vs. the Beltway       0.000049\n",
       "Charlie Wilson's War       0.000521\n",
       "Losing Bin Laden           0.076093\n",
       "Sleeping With the Devil    0.062928\n",
       "dtype: float64"
      ]
     },
     "execution_count": 9,
     "metadata": {},
     "output_type": "execute_result"
    }
   ],
   "source": [
    "betweenness.head()"
   ]
  },
  {
   "cell_type": "markdown",
   "metadata": {},
   "source": [
    "# Using community detection, uncover communities from the network, what do they mean?"
   ]
  },
  {
   "cell_type": "code",
   "execution_count": 10,
   "metadata": {},
   "outputs": [],
   "source": [
    "communities = community.greedy_modularity_communities(net)"
   ]
  },
  {
   "cell_type": "code",
   "execution_count": 11,
   "metadata": {},
   "outputs": [
    {
     "data": {
      "text/plain": [
       "[frozenset({'1000 Years for Revenge',\n",
       "            'A National Party No More',\n",
       "            'Arrogance',\n",
       "            'Betrayal',\n",
       "            'Bias',\n",
       "            'Breakdown',\n",
       "            'Bush Country',\n",
       "            'Bush vs. the Beltway',\n",
       "            \"Charlie Wilson's War\",\n",
       "            'Dangerous Dimplomacy',\n",
       "            'Deliver Us from Evil',\n",
       "            'Dereliction of Duty',\n",
       "            'Endgame',\n",
       "            'Fighting Back',\n",
       "            'Ghost Wars',\n",
       "            'Give Me a Break',\n",
       "            'Hating America',\n",
       "            \"Hillary's Scheme\",\n",
       "            'Hollywood Interrupted',\n",
       "            'Legacy',\n",
       "            'Let Freedom Ring',\n",
       "            'Losing Bin Laden',\n",
       "            'Meant To Be',\n",
       "            'Off with Their Heads',\n",
       "            'Persecution',\n",
       "            'Power Plays',\n",
       "            \"Rumsfeld's War\",\n",
       "            'Shut Up and Sing',\n",
       "            'Slander',\n",
       "            'Sleeping With the Devil',\n",
       "            'Spin Sisters',\n",
       "            'Tales from the Left Coast',\n",
       "            'Ten Minutes from Normal',\n",
       "            'The Death of Right and Wrong',\n",
       "            'The Enemy Within',\n",
       "            'The French Betrayal of America',\n",
       "            'The Man Who Warned America',\n",
       "            \"The O'Reilly Factor\",\n",
       "            'The Official Handbook Vast Right Wing Conspiracy',\n",
       "            'The Real America',\n",
       "            'The Right Man',\n",
       "            'The Savage Nation',\n",
       "            'The Third Terrorist',\n",
       "            'Those Who Trespass',\n",
       "            'Useful Idiots',\n",
       "            'We Will Prevail',\n",
       "            \"Who's Looking Out for You?\",\n",
       "            'Why America Slept',\n",
       "            'Why Courage Matters'}),\n",
       " frozenset({'Against All Enemies',\n",
       "            \"All the Shah's Men\",\n",
       "            'American Dynasty',\n",
       "            'Big Lies',\n",
       "            'Buck Up Suck Up',\n",
       "            'Bush at War',\n",
       "            'Bushwhacked',\n",
       "            'Bushwomen',\n",
       "            'Downsize This!',\n",
       "            \"Dude, Where's My Country?\",\n",
       "            'Fanatics and Fools',\n",
       "            'Freethinkers',\n",
       "            'Had Enough?',\n",
       "            'Hegemony or Survival',\n",
       "            'House of Bush, House of Saud',\n",
       "            \"It's Still the Economy, Stupid!\",\n",
       "            'Lies and the Lying Liars Who Tell Them',\n",
       "            'Living History',\n",
       "            \"MoveOn's 50 Ways to Love Your Country\",\n",
       "            'Perfectly Legal',\n",
       "            'Plan of Attack',\n",
       "            'Rush Limbaugh Is a Big Fat Idiot',\n",
       "            'Shrub',\n",
       "            'Stupid White Men',\n",
       "            'The Best Democracy Money Can Buy',\n",
       "            'The Bubble of American Supremacy',\n",
       "            'The Buying of the President 2004',\n",
       "            'The Clinton Wars',\n",
       "            'The Culture of Fear',\n",
       "            'The Exception to the Rulers',\n",
       "            'The Great Unraveling',\n",
       "            'The Lies of George W. Bush',\n",
       "            'The New Pearl Harbor',\n",
       "            'The Politics of Truth',\n",
       "            'The Price of Loyalty',\n",
       "            'The Sorrows of Empire',\n",
       "            'Thieves in High Places',\n",
       "            \"We're Right They're Wrong\",\n",
       "            'Weapons of Mass Deception',\n",
       "            'What Liberal Media?',\n",
       "            'Worse Than Watergate'}),\n",
       " frozenset({'Allies',\n",
       "            'America Unbound',\n",
       "            'Colossus',\n",
       "            'Disarming Iraq',\n",
       "            'Empire',\n",
       "            'Rise of the Vulcans',\n",
       "            'Rogue Nation',\n",
       "            'Soft Power',\n",
       "            'Surprise, Security, the American Experience',\n",
       "            'The Choice',\n",
       "            'The Future of Freedom',\n",
       "            'Things Worth Fighting For'}),\n",
       " frozenset({'The Bushes', 'The Faith of George W Bush', 'The Perfect Wife'})]"
      ]
     },
     "execution_count": 11,
     "metadata": {},
     "output_type": "execute_result"
    }
   ],
   "source": [
    "communities"
   ]
  },
  {
   "cell_type": "code",
   "execution_count": null,
   "metadata": {},
   "outputs": [],
   "source": []
  }
 ],
 "metadata": {
  "kernelspec": {
   "display_name": "Python 3",
   "language": "python",
   "name": "python3"
  },
  "language_info": {
   "codemirror_mode": {
    "name": "ipython",
    "version": 3
   },
   "file_extension": ".py",
   "mimetype": "text/x-python",
   "name": "python",
   "nbconvert_exporter": "python",
   "pygments_lexer": "ipython3",
   "version": "3.7.3"
  }
 },
 "nbformat": 4,
 "nbformat_minor": 2
}
