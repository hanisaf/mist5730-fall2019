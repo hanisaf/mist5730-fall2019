{
 "cells": [
  {
   "cell_type": "code",
   "execution_count": 2,
   "metadata": {},
   "outputs": [],
   "source": [
    "import csv"
   ]
  },
  {
   "cell_type": "code",
   "execution_count": 5,
   "metadata": {},
   "outputs": [],
   "source": [
    "data = []\n",
    "with open('data/EC10.csv') as csvfile:\n",
    "    csvreader = csv.reader(csvfile, delimiter=',')\n",
    "    for row in csvreader:\n",
    "        data.append(row[1])\n",
    "data = data[1:] #exclude header"
   ]
  },
  {
   "cell_type": "code",
   "execution_count": 6,
   "metadata": {},
   "outputs": [
    {
     "data": {
      "text/plain": [
       "10"
      ]
     },
     "execution_count": 6,
     "metadata": {},
     "output_type": "execute_result"
    }
   ],
   "source": [
    "len(data)"
   ]
  },
  {
   "cell_type": "code",
   "execution_count": 7,
   "metadata": {},
   "outputs": [
    {
     "name": "stdout",
     "output_type": "stream",
     "text": [
      "Zoe's Kitchen, Inc. (NYSE:ZOES)\n",
      "Q2 2015 Earnings Call\n",
      "August 27, 2015 5:00 pm ET\n",
      "Executives\n",
      "James Besch - CFO, Vice President-Accounting & Controller\n",
      "Kevin Miles - President, Chief Executive Officer & Director\n",
      "Analysts\n",
      "Karen F. Short - Deutsche Bank Securities, Inc.\n",
      "Andrew Marc Barish - Jefferies LLC\n",
      "Nicole M. Miller Regan - Piper Jaffray & Co (Broker)\n",
      "Will Slabaugh - Stephens, Inc.\n",
      "Jason West - Credit Suisse Securities (NYSE:USA) LLC (Broker)\n",
      "Sharon M. Zackfia - William Blair & Co. LLC\n",
      "David E. Tarantino - Robert W. Baird & Co., Inc. (Broker)\n",
      "Paul Westra - Stifel, Nicolaus & Co., Inc.\n",
      "Stephen Anderson - Maxim Group\n",
      "Operator\n",
      "Good day, ladies and gentlemen, and thank you for standing by. Welcome to the Zoe's Kitchen Second Quarter 2015 Earnings Conference Call. At this time, all participants have been placed in a listen-only mode, and the lines will be open for your questions following the presentation. Please note that this conference is being recorded today, August 27, 2015.\n",
      "On the ca\n"
     ]
    }
   ],
   "source": [
    "print(data[0][:1000])"
   ]
  },
  {
   "cell_type": "markdown",
   "metadata": {},
   "source": [
    "The list `data` contains 10 entries. Each entry is the full-text of  a company's [earning call](https://en.wikipedia.org/wiki/Earnings_call)\n",
    "\n",
    "The company's ticker and stock exchange are listed in the first few lines in each earning call. Using regular expressions, extract the tickers and stock exchange symbols for all the companies. \n",
    "\n",
    "Note that an earning call may contain tickers of other companies. We want to exclude them. In other words, we want to first ticker / stock exchange listed in each earning call"
   ]
  },
  {
   "cell_type": "code",
   "execution_count": 34,
   "metadata": {},
   "outputs": [
    {
     "data": {
      "text/plain": [
       "[('NYSE', 'ZOES'), ('NYSE', 'USA')]"
      ]
     },
     "execution_count": 34,
     "metadata": {},
     "output_type": "execute_result"
    }
   ],
   "source": [
    "import re\n",
    "stock_ticker = re.compile('[(]([A-Z]+):([A-Z]+)[)]')\n",
    "stock_ticker.findall(data[0]) # just to test"
   ]
  },
  {
   "cell_type": "code",
   "execution_count": 32,
   "metadata": {},
   "outputs": [],
   "source": [
    "def extract_stock_ticker(earning_call, extract='both'):\n",
    "    stock_ticker = re.compile('[(]([A-Z]+):([A-Z]+)[)]')\n",
    "    stock_ticker.search(data[0])\n",
    "    res = stock_ticker.findall(earning_call) \n",
    "    if res:\n",
    "        hit = res[0] #first hit\n",
    "        if extract == 'both':\n",
    "            return hit\n",
    "        elif extract == 'ticker':\n",
    "            return hit[1]\n",
    "        elif extract == 'exchange':\n",
    "            return hit[0]\n",
    "    return None # no need here, but to add an emphasis"
   ]
  },
  {
   "cell_type": "code",
   "execution_count": 35,
   "metadata": {},
   "outputs": [
    {
     "data": {
      "text/plain": [
       "[('NYSE', 'ZOES'),\n",
       " ('NASDAQ', 'ADSK'),\n",
       " ('NASDAQ', 'SWHC'),\n",
       " ('NASDAQ', 'ULTA'),\n",
       " ('NASDAQ', 'SPLK'),\n",
       " ('NYSE', 'GME'),\n",
       " ('NASDAQ', 'OVTI'),\n",
       " ('NYSE', 'TD'),\n",
       " ('NASDAQ', 'BAMM'),\n",
       " ('NYSE', 'VEEV')]"
      ]
     },
     "execution_count": 35,
     "metadata": {},
     "output_type": "execute_result"
    }
   ],
   "source": [
    "tickers_exchanges = [extract_stock_ticker(x) for x in data]\n",
    "tickers_exchanges"
   ]
  },
  {
   "cell_type": "code",
   "execution_count": 36,
   "metadata": {},
   "outputs": [
    {
     "data": {
      "text/plain": [
       "['ZOES', 'ADSK', 'SWHC', 'ULTA', 'SPLK', 'GME', 'OVTI', 'TD', 'BAMM', 'VEEV']"
      ]
     },
     "execution_count": 36,
     "metadata": {},
     "output_type": "execute_result"
    }
   ],
   "source": [
    "tickers = [extract_stock_ticker(x, extract='ticker') for x in data]\n",
    "tickers"
   ]
  },
  {
   "cell_type": "code",
   "execution_count": 37,
   "metadata": {},
   "outputs": [
    {
     "data": {
      "text/plain": [
       "['NYSE',\n",
       " 'NASDAQ',\n",
       " 'NASDAQ',\n",
       " 'NASDAQ',\n",
       " 'NASDAQ',\n",
       " 'NYSE',\n",
       " 'NASDAQ',\n",
       " 'NYSE',\n",
       " 'NASDAQ',\n",
       " 'NYSE']"
      ]
     },
     "execution_count": 37,
     "metadata": {},
     "output_type": "execute_result"
    }
   ],
   "source": [
    "exchanges = [extract_stock_ticker(x, extract='exchange') for x in data]\n",
    "exchanges"
   ]
  },
  {
   "cell_type": "markdown",
   "metadata": {},
   "source": [
    "How about extracting all numbers that start with `$`"
   ]
  },
  {
   "cell_type": "code",
   "execution_count": 63,
   "metadata": {},
   "outputs": [
    {
     "data": {
      "text/plain": [
       "['$54.5',\n",
       " '$41.9',\n",
       " '$54.4',\n",
       " '$41.8',\n",
       " '$230,000',\n",
       " '$11.6',\n",
       " '$8.8',\n",
       " '$1.8',\n",
       " '$6.3',\n",
       " '$4.5',\n",
       " '$550,000',\n",
       " '$180,000',\n",
       " '$100,000',\n",
       " '$142,000',\n",
       " '$700',\n",
       " '$500,000',\n",
       " '$637,000',\n",
       " '$442,000',\n",
       " '$2.7',\n",
       " '$800,000',\n",
       " '$710,000',\n",
       " '$620,000',\n",
       " '$750,000',\n",
       " '$871,000',\n",
       " '$124,000',\n",
       " '$120,000',\n",
       " '$0.01',\n",
       " '$1.1',\n",
       " '$0.06',\n",
       " '$19.6',\n",
       " '$19.5',\n",
       " '$955,000',\n",
       " '$0.05',\n",
       " '$705,000',\n",
       " '$0.04',\n",
       " '$220',\n",
       " '$224',\n",
       " '$200,000.',\n",
       " '$25.3',\n",
       " '$25.5',\n",
       " '$550,000',\n",
       " '$25.3',\n",
       " '$25.5',\n",
       " '$1.3']"
      ]
     },
     "execution_count": 63,
     "metadata": {},
     "output_type": "execute_result"
    }
   ],
   "source": [
    "money = re.compile(r'\\$\\d+[.,\\d]+')\n",
    "money.findall(data[0]) # just to test"
   ]
  },
  {
   "cell_type": "markdown",
   "metadata": {},
   "source": [
    "The numbers are meaningless so let us put some context"
   ]
  },
  {
   "cell_type": "code",
   "execution_count": 66,
   "metadata": {},
   "outputs": [
    {
     "data": {
      "text/plain": [
       "[('to ', '$54.5', ' million'),\n",
       " ('from ', '$41.9', ' million'),\n",
       " ('to ', '$54.4', ' million'),\n",
       " ('to ', '$41.8', ' million'),\n",
       " ('approximately ', '$230,000', ' of'),\n",
       " ('to ', '$11.6', ' million'),\n",
       " ('from ', '$8.8', ' million'),\n",
       " ('by ', '$1.8', ' million'),\n",
       " ('to ', '$6.3', ' million'),\n",
       " ('from ', '$4.5', ' million'),\n",
       " ('approximately ', '$550,000', ' related'),\n",
       " ('approximately ', '$180,000', ' related'),\n",
       " ('approximately ', '$100,000', ' related'),\n",
       " ('to ', '$142,000', ' of'),\n",
       " ('exceeded ', '$700', ' million'),\n",
       " ('approximately ', '$500,000', ' of'),\n",
       " ('to ', '$637,000', ' from'),\n",
       " ('approximately ', '$2.7', ' million'),\n",
       " ('approximately ', '$800,000', ' in'),\n",
       " ('approximately ', '$710,000', ' compared'),\n",
       " ('to ', '$620,000', ' in'),\n",
       " ('approximately ', '$750,000', ' per'),\n",
       " ('was ', '$871,000', ' in'),\n",
       " ('of ', '$124,000', ' in'),\n",
       " ('was ', '$120,000', ' or'),\n",
       " ('a ', '$1.1', ' million'),\n",
       " ('or ', '$0.06', ' per'),\n",
       " ('were ', '$19.6', ' million'),\n",
       " ('with ', '$19.5', ' million'),\n",
       " ('was ', '$955,000', ' or'),\n",
       " ('versus ', '$705,000', ' or'),\n",
       " ('between ', '$220', ' million'),\n",
       " ('and ', '$224', ' million'),\n",
       " ('approximately ', '$200,000.', ' We'),\n",
       " ('between ', '$25.3', ' million'),\n",
       " ('and ', '$25.5', ' million'),\n",
       " ('the ', '$550,000', ' item'),\n",
       " ('the ', '$25.3', ' million'),\n",
       " ('and ', '$25.5', ' million'),\n",
       " ('to ', '$1.3', ' million')]"
      ]
     },
     "execution_count": 66,
     "metadata": {},
     "output_type": "execute_result"
    }
   ],
   "source": [
    "money = re.compile(r'(\\w+\\s)(\\$\\d+[.,\\d]+)(\\s\\w+)')\n",
    "money.findall(data[0]) # just to test"
   ]
  },
  {
   "cell_type": "markdown",
   "metadata": {},
   "source": [
    "Apply to all earning calls"
   ]
  },
  {
   "cell_type": "code",
   "execution_count": 67,
   "metadata": {},
   "outputs": [],
   "source": [
    "money_extract = [ money.findall(x) for x in data ]"
   ]
  },
  {
   "cell_type": "code",
   "execution_count": 68,
   "metadata": {},
   "outputs": [
    {
     "data": {
      "text/plain": [
       "[[('to ', '$54.5', ' million'),\n",
       "  ('from ', '$41.9', ' million'),\n",
       "  ('to ', '$54.4', ' million'),\n",
       "  ('to ', '$41.8', ' million'),\n",
       "  ('approximately ', '$230,000', ' of'),\n",
       "  ('to ', '$11.6', ' million'),\n",
       "  ('from ', '$8.8', ' million'),\n",
       "  ('by ', '$1.8', ' million'),\n",
       "  ('to ', '$6.3', ' million'),\n",
       "  ('from ', '$4.5', ' million'),\n",
       "  ('approximately ', '$550,000', ' related'),\n",
       "  ('approximately ', '$180,000', ' related'),\n",
       "  ('approximately ', '$100,000', ' related'),\n",
       "  ('to ', '$142,000', ' of'),\n",
       "  ('exceeded ', '$700', ' million'),\n",
       "  ('approximately ', '$500,000', ' of'),\n",
       "  ('to ', '$637,000', ' from'),\n",
       "  ('approximately ', '$2.7', ' million'),\n",
       "  ('approximately ', '$800,000', ' in'),\n",
       "  ('approximately ', '$710,000', ' compared'),\n",
       "  ('to ', '$620,000', ' in'),\n",
       "  ('approximately ', '$750,000', ' per'),\n",
       "  ('was ', '$871,000', ' in'),\n",
       "  ('of ', '$124,000', ' in'),\n",
       "  ('was ', '$120,000', ' or'),\n",
       "  ('a ', '$1.1', ' million'),\n",
       "  ('or ', '$0.06', ' per'),\n",
       "  ('were ', '$19.6', ' million'),\n",
       "  ('with ', '$19.5', ' million'),\n",
       "  ('was ', '$955,000', ' or'),\n",
       "  ('versus ', '$705,000', ' or'),\n",
       "  ('between ', '$220', ' million'),\n",
       "  ('and ', '$224', ' million'),\n",
       "  ('approximately ', '$200,000.', ' We'),\n",
       "  ('between ', '$25.3', ' million'),\n",
       "  ('and ', '$25.5', ' million'),\n",
       "  ('the ', '$550,000', ' item'),\n",
       "  ('the ', '$25.3', ' million'),\n",
       "  ('and ', '$25.5', ' million'),\n",
       "  ('to ', '$1.3', ' million')],\n",
       " [('about ', '$80', ' million'),\n",
       "  ('or ', '$20', ' million'),\n",
       "  ('the ', '$613', ' million'),\n",
       "  ('the ', '$610', ' million'),\n",
       "  ('example ', '$600', ' million')],\n",
       " [('of ', '$147.8', ' million'),\n",
       "  ('was ', '$13.3', ' million'),\n",
       "  ('The ', '$13.3', ' million'),\n",
       "  ('at ', '$147.8', ' million'),\n",
       "  ('was ', '$134.4', ' million'),\n",
       "  ('was ', '$13.3', ' million'),\n",
       "  ('of ', '$100.7', ' million'),\n",
       "  ('of ', '$21.3', ' million'),\n",
       "  ('were ', '$29.1', ' million'),\n",
       "  ('to ', '$23.4', ' million'),\n",
       "  ('of ', '$5.9', ' million'),\n",
       "  ('of ', '$1.8', ' million'),\n",
       "  ('were ', '$28.7', ' million'),\n",
       "  ('to ', '$22.9', ' million'),\n",
       "  ('at ', '$0.26,', ' which'),\n",
       "  ('was ', '$0.32,', ' substantially'),\n",
       "  ('of ', '$0.27.', ' Adjusted'),\n",
       "  ('was ', '$38.8', ' million'),\n",
       "  ('positive ', '$16.6', ' million'),\n",
       "  ('by ', '$13.2', ' million'),\n",
       "  ('to ', '$55.4', ' million'),\n",
       "  ('was ', '$7.9', ' million'),\n",
       "  ('to ', '$50', ' million'),\n",
       "  ('our ', '$175', ' million'),\n",
       "  ('of ', '$180', ' million'),\n",
       "  ('the ', '$105', ' million'),\n",
       "  ('and ', '$75', ' million'),\n",
       "  ('to ', '$50', ' million'),\n",
       "  ('between ', '$610', ' million'),\n",
       "  ('and ', '$620', ' million'),\n",
       "  ('between ', '$1.14', ' and'),\n",
       "  ('exclude ', '$0.08', ' for'),\n",
       "  ('and ', '$0.19', ' for'),\n",
       "  ('of ', '$0.03', ' related'),\n",
       "  ('then ', '$0.09', ' for'),\n",
       "  ('between ', '$0.99', ' and'),\n",
       "  ('between ', '$135', ' million'),\n",
       "  ('and ', '$140', ' million'),\n",
       "  ('between ', '$0.19', ' and'),\n",
       "  ('excludes ', '$0.05', ' for'),\n",
       "  ('of ', '$0.02,', ' so'),\n",
       "  ('between ', '$0.16', ' and'),\n",
       "  ('to ', '$50', ' million'),\n",
       "  ('the ', '$0.32', ' in'),\n",
       "  ('by ', '$0.10', ' on'),\n",
       "  ('by ', '$0.12.', ' Help'),\n",
       "  ('have ', '$1.8', ' million')],\n",
       " [('to ', '$1.15', ' compared'),\n",
       "  ('to ', '$0.94', ' in'),\n",
       "  ('than ', '$400', ' with'),\n",
       "  ('were ', '$877', ' million'),\n",
       "  ('to ', '$734', ' million'),\n",
       "  ('to ', '$306.5', ' million'),\n",
       "  ('to ', '$183.9', ' million'),\n",
       "  ('was ', '$4.1', ' million'),\n",
       "  ('to ', '$3.6', ' million'),\n",
       "  ('to ', '$118.5', ' million'),\n",
       "  ('to ', '$74.2', ' million'),\n",
       "  ('or ', '$1.15', ' per'),\n",
       "  ('versus ', '$60.8', ' million'),\n",
       "  ('or ', '$0.94', ' per'),\n",
       "  ('were ', '$705.7', ' million'),\n",
       "  ('to ', '$541.5', ' million'),\n",
       "  ('were ', '$80.6', ' million'),\n",
       "  ('about ', '$300', ' million'),\n",
       "  ('were ', '$39', ' million'),\n",
       "  ('about ', '$170', ' million'),\n",
       "  ('with ', '$475', ' million'),\n",
       "  ('of ', '$46', ' million'),\n",
       "  ('quarter ', '$286', ' million'),\n",
       "  ('the ', '$400', ' million'),\n",
       "  ('the ', '$3.96', ' of'),\n",
       "  ('the ', '$0.02', ' non'),\n",
       "  ('a ', '$300', ' million'),\n",
       "  ('of ', '$869', ' million'),\n",
       "  ('to ', '$883', ' million'),\n",
       "  ('to ', '$745.7', ' million'),\n",
       "  ('to ', '$1.05', ' versus'),\n",
       "  ('roughly ', '$20', ' million'),\n",
       "  ('of ', '$60', ' million'),\n",
       "  ('that ', '$20', ' million')],\n",
       " [('were ', '$148.3', ' million'),\n",
       "  ('totaling ', '$88', ' million'),\n",
       "  ('a ', '$100,000.', ' As'),\n",
       "  ('was ', '$4.8', ' million'),\n",
       "  ('was ', '$4.1', ' million'),\n",
       "  ('was ', '$0.03', ' per'),\n",
       "  ('was ', '$13.6', ' million'),\n",
       "  ('about ', '$10.8', ' million'),\n",
       "  ('a ', '$143', ' million'),\n",
       "  ('between ', '$158', ' million'),\n",
       "  ('to ', '$160', ' million'),\n",
       "  ('between ', '$628', ' million'),\n",
       "  ('and ', '$632', ' million'),\n",
       "  ('of ', '$610', ' million'),\n",
       "  ('to ', '$614', ' million'),\n",
       "  ('approximately ', '$50', ' million'),\n",
       "  ('totaled ', '$10', ' million')],\n",
       " [('of ', '$0.36', ' per'),\n",
       "  ('back ', '$60.7', ' million'),\n",
       "  ('of ', '$580.5', ' million'),\n",
       "  ('of ', '$9.1', ' million'),\n",
       "  ('increased ', '$4.5', ' million'),\n",
       "  ('the ', '$350', ' million'),\n",
       "  ('nearly ', '$100', ' million'),\n",
       "  ('to ', '$199', ' million'),\n",
       "  ('to ', '$99.4', ' million'),\n",
       "  ('was ', '$126', ' million'),\n",
       "  ('repurchased ', '$60.7', ' million'),\n",
       "  ('of ', '$43.04.', ' We'),\n",
       "  ('the ', '$1.8', ' billion'),\n",
       "  ('of ', '$25.28.', ' We'),\n",
       "  ('least ', '$200', ' million'),\n",
       "  ('at ', '$0.36', ' per'),\n",
       "  ('approximately ', '$500', ' million'),\n",
       "  ('returned ', '$466', ' million'),\n",
       "  ('additional ', '$247', ' million'),\n",
       "  ('approximately ', '$100', ' million'),\n",
       "  ('from ', '$0.53', ' to'),\n",
       "  ('approximately ', '$0.02', ' per'),\n",
       "  ('of ', '$3.63', ' to'),\n",
       "  ('of ', '$3.66', ' to'),\n",
       "  ('of ', '$200', ' million'),\n",
       "  ('to ', '$250', ' million'),\n",
       "  ('over ', '$500', ' million'),\n",
       "  ('growing ', '$20', ' billion'),\n",
       "  ('by ', '$0.08.', ' And'),\n",
       "  ('by ', '$0.03.', ' So'),\n",
       "  ('s ', '$0.05', ' that'),\n",
       "  ('had ', '$41', ' million'),\n",
       "  ('below ', '$20.', ' That'),\n",
       "  ('approximately ', '$170', ' million'),\n",
       "  ('about ', '$1.5', ' billion')],\n",
       " [('of ', '$330', ' million'),\n",
       "  ('was ', '$28.6', ' million'),\n",
       "  ('or ', '$0.46', ' per'),\n",
       "  ('approximately ', '$594', ' million'),\n",
       "  ('at ', '$29.75', ' per'),\n",
       "  ('approximately ', '$1.9', ' billion'),\n",
       "  ('was ', '$1.53,', ' as'),\n",
       "  ('to ', '$1.59', ' in'),\n",
       "  ('of ', '$329.9', ' million'),\n",
       "  ('of ', '$1.3', ' million'),\n",
       "  ('an ', '$8.8', ' million'),\n",
       "  ('net ', '$6.8', ' million'),\n",
       "  ('proximally ', '$1.6', ' million'),\n",
       "  ('and ', '$10.8', ' million'),\n",
       "  ('net ', '$9.2', ' million'),\n",
       "  ('totaled ', '$36.1', ' million'),\n",
       "  ('the ', '$33.5', ' million'),\n",
       "  ('approximately ', '$4.8', ' million'),\n",
       "  ('was ', '$31.3', ' million'),\n",
       "  ('to ', '$29.5', ' million'),\n",
       "  ('totaled ', '$21.1', ' million'),\n",
       "  ('the ', '$23.6', ' million'),\n",
       "  ('approximately ', '$3.7', ' million'),\n",
       "  ('totaled ', '$17.4', ' million'),\n",
       "  ('to ', '$20.2', ' million'),\n",
       "  ('at ', '$2.3', ' million'),\n",
       "  ('approximately ', '$15', ' million'),\n",
       "  ('to ', '$4.6', ' million'),\n",
       "  ('totaled ', '$16.2', ' million'),\n",
       "  ('to ', '$6.8', ' million'),\n",
       "  ('approximately ', '$0.6', ' million'),\n",
       "  ('of ', '$0.8', ' million'),\n",
       "  ('approximately ', '$3.1', ' million'),\n",
       "  ('was ', '$2.5', ' million'),\n",
       "  ('of ', '$1.3', ' million'),\n",
       "  ('was ', '$18.2', ' million'),\n",
       "  ('or ', '$0.31', ' on'),\n",
       "  ('or ', '$0.10', ' per'),\n",
       "  ('was ', '$28.6', ' million'),\n",
       "  ('or ', '$0.46', ' per'),\n",
       "  ('of ', '$13.9', ' million'),\n",
       "  ('or ', '$0.22', ' per'),\n",
       "  ('totaling ', '$593.8', ' million'),\n",
       "  ('a ', '$69.6', ' million'),\n",
       "  ('our ', '$524.2', ' million'),\n",
       "  ('to ', '$320.6', ' million'),\n",
       "  ('the ', '$344', ' million'),\n",
       "  ('were ', '$147.5', ' million'),\n",
       "  ('the ', '$151.1', ' million'),\n",
       "  ('the ', '$12.5', ' million'),\n",
       "  ('corresponding ', '$12.5', ' million'),\n",
       "  ('approximately ', '$37.7', ' million'),\n",
       "  ('approximately ', '$14.8', ' million'),\n",
       "  ('approximately ', '$228.3', ' million'),\n",
       "  ('of ', '$37.8', ' million'),\n",
       "  ('of ', '$300', ' million'),\n",
       "  ('to ', '$330', ' million'),\n",
       "  ('from ', '$0.12', ' to'),\n",
       "  ('of ', '$0.25', ' to'),\n",
       "  ('s ', '$1.53.', '\\nThomas')],\n",
       " [('of ', '$1.20,', ' an'),\n",
       "  ('of ', '$239', ' million'),\n",
       "  ('of ', '$1.20,', ' up'),\n",
       "  ('s ', '$35', ' oil'),\n",
       "  ('maybe ', '$50', ' over'),\n",
       "  ('a ', '$35', ' gradually')],\n",
       " [('to ', '$106.8', ' million'),\n",
       "  ('of ', '$107.6', ' million'),\n",
       "  ('to ', '$1.2', ' million'),\n",
       "  ('increased ', '$2.5', ' million'),\n",
       "  ('decreased ', '$476,000', ' to'),\n",
       "  ('from ', '$4.4', ' million'),\n",
       "  ('was ', '$626,000', ' for'),\n",
       "  ('versus ', '$569,000', ' in'),\n",
       "  ('was ', '$5.8', ' million'),\n",
       "  ('or ', '$0.41', ' per'),\n",
       "  ('or ', '$0.21', ' per'),\n",
       "  ('was ', '$189.8', ' million'),\n",
       "  ('to ', '$188', ' million'),\n",
       "  ('were ', '$3.1', ' million'),\n",
       "  ('to ', '$3.5', ' million'),\n",
       "  ('was ', '$81.5', ' million'),\n",
       "  ('to ', '$84.8', ' million'),\n",
       "  ('was ', '$53.6', ' million'),\n",
       "  ('to ', '$33.6', ' million'),\n",
       "  ('was ', '$100.2', ' million'),\n",
       "  ('to ', '$110.9', ' million'),\n",
       "  ('were ', '$6.5', ' million'),\n",
       "  ('versus ', '$13.9', ' million')],\n",
       " [('was ', '$98', ' million'),\n",
       "  ('totaled ', '$75', ' million'),\n",
       "  ('a ', '$1.6', ' trillion'),\n",
       "  ('was ', '$98.1', ' million'),\n",
       "  ('from ', '$75.7', ' million'),\n",
       "  ('from ', '$56.6', ' million'),\n",
       "  ('of ', '$22.8', ' million'),\n",
       "  ('from ', '$19.1', ' million'),\n",
       "  ('was ', '$18.2', ' million'),\n",
       "  ('to ', '$12.4', ' million'),\n",
       "  ('was ', '$0.13', ' compared'),\n",
       "  ('to ', '$0.09', ' from'),\n",
       "  ('approximately ', '$2.4', ' million'),\n",
       "  ('was ', '$110', ' million'),\n",
       "  ('to ', '$111', ' million'),\n",
       "  ('of ', '$96', ' million'),\n",
       "  ('with ', '$438', ' million'),\n",
       "  ('from ', '$429', ' million'),\n",
       "  ('at ', '$15.2', ' million'),\n",
       "  ('from ', '$16.6', ' million'),\n",
       "  ('was ', '$89.8', ' million'),\n",
       "  ('was ', '$9.8', ' million'),\n",
       "  ('expect ', '$45', ' million'),\n",
       "  ('between ', '$101.5', ' million'),\n",
       "  ('and ', '$103', ' million'),\n",
       "  ('of ', '$27.5', ' million'),\n",
       "  ('to ', '$28.5', ' million'),\n",
       "  ('of ', '$0.11', ' to'),\n",
       "  ('approximately ', '$145', ' million'),\n",
       "  ('of ', '$395', ' million'),\n",
       "  ('to ', '$398', ' million'),\n",
       "  ('from ', '$393', ' million'),\n",
       "  ('to ', '$397', ' million'),\n",
       "  ('of ', '$111', ' million'),\n",
       "  ('to ', '$113', ' million'),\n",
       "  ('from ', '$107', ' million'),\n",
       "  ('to ', '$111', ' million'),\n",
       "  ('of ', '$0.47', ' to'),\n",
       "  ('from ', '$0.45', ' to'),\n",
       "  ('approximately ', '$145', ' million'),\n",
       "  ('a ', '$75', ' million'),\n",
       "  ('a ', '$1.6', ' trillion'),\n",
       "  ('of ', '$75', ' million'),\n",
       "  ('that ', '$75', ' million'),\n",
       "  ('the ', '$75', ' million'),\n",
       "  ('first ', '$100,000', ' deal')]]"
      ]
     },
     "execution_count": 68,
     "metadata": {},
     "output_type": "execute_result"
    }
   ],
   "source": [
    "money_extract"
   ]
  },
  {
   "cell_type": "code",
   "execution_count": null,
   "metadata": {},
   "outputs": [],
   "source": []
  }
 ],
 "metadata": {
  "kernelspec": {
   "display_name": "Python 3",
   "language": "python",
   "name": "python3"
  },
  "language_info": {
   "codemirror_mode": {
    "name": "ipython",
    "version": 3
   },
   "file_extension": ".py",
   "mimetype": "text/x-python",
   "name": "python",
   "nbconvert_exporter": "python",
   "pygments_lexer": "ipython3",
   "version": "3.7.1"
  }
 },
 "nbformat": 4,
 "nbformat_minor": 2
}
