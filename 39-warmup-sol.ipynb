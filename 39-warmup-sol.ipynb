{
 "cells": [
  {
   "cell_type": "code",
   "execution_count": 1,
   "metadata": {},
   "outputs": [],
   "source": [
    "#uncomment and run to install spacy\n",
    "#import sys\n",
    "#!{sys.executable} -m pip install spacy\n",
    "#!{sys.executable} -m spacy download en"
   ]
  },
  {
   "cell_type": "code",
   "execution_count": 32,
   "metadata": {},
   "outputs": [],
   "source": [
    "import pandas as pd\n",
    "import networkx as nx\n",
    "from textblob import TextBlob\n",
    "import spacy\n",
    "nlp = spacy.load('en_core_web_sm')"
   ]
  },
  {
   "cell_type": "markdown",
   "metadata": {},
   "source": [
    "We would like to understand the relationships between different topics and concepts in the text below. We will combine text analytics and network analytics.\n",
    "\n",
    "- Using sentence segmentation, break the text to sentences.\n",
    "- Using named entity extraction, identify named entities in each sentence.\n",
    "- Create a newtork in which the nodes are named entities and the links are whether the two named entities co-occured in same sentences. Add the frequency of co-occurences as an edge property.\n",
    "- What is the most frequent relation in the data?\n",
    "- What are the top five influential nodes?\n",
    "- Plot the network, any insights?"
   ]
  },
  {
   "cell_type": "code",
   "execution_count": 4,
   "metadata": {},
   "outputs": [],
   "source": [
    "article = \"\"\"Moulton says Biden was wrong to vote in favor of Iraq War resolution in 2002\n",
    "\n",
    "Updated 1:05 PM ET, Sun June 2, 2019\n",
    "Washington (CNN) - Former Vice President Joe Biden was wrong to vote in favor of authorizing the use of military force against Iraq in 2002 when he was a senator, Democratic presidential candidate and Iraq War veteran Seth Moulton said in an interview that aired Sunday.\n",
    "\n",
    "\"It was a mistake. Because we should've been a lot more careful about going into Iraq. We should have questioned the intelligence. We should have made sure that we exhausted every opportunity before we put young American lives in danger,\" Moulton, who represents Massachusetts in the House, told CNN's Jake Tapper on \"State of the Union\" when pressed about Biden's decision to vote in favor of the US going to war in Iraq.\n",
    "\n",
    "Biden, who is also a Democratic presidential candidate, has faced criticism for his support of the war, though he later became a vocal critic of the conflict. In 2002, then a senator from Delaware, Biden voted in favor of the Iraq War resolution, which authorized President George W. Bush to attack Iraq if Saddam Hussein refused to give up weapons of mass destruction as required by UN resolutions. The Senate passed the resolution in a 77-23 vote, with support from both sides of the aisle.\n",
    "\n",
    "The intelligence used by the Bush administration that claimed Iraq possessed weapons of mass destruction has since been discredited, and support for the war has declined in the years since it began.\n",
    "\n",
    "CNN has reached out to the Biden campaign for comment.\n",
    "\n",
    "Moulton is not alone in his criticism of Biden's support for the Iraq War resolution. Vermont Sen. Bernie Sanders, who is also a 2020 presidential candidate, frequently draws a contrast between himself and the former vice president by noting that he voted against the resolution in 2002.\n",
    "\n",
    "Moulton told Tapper that he respects Biden, calling him \"a mentor and a friend,\" but added that he thinks \"it's time for the generation that fought in Iraq and Afghanistan to step in for the generation that sent us there.\" \"\"\""
   ]
  },
  {
   "cell_type": "code",
   "execution_count": 67,
   "metadata": {},
   "outputs": [],
   "source": [
    "blob = TextBlob(article)\n",
    "sentences = blob.sentences"
   ]
  },
  {
   "cell_type": "code",
   "execution_count": 68,
   "metadata": {},
   "outputs": [],
   "source": [
    "def get_ne(text):\n",
    "    doc = nlp(text)\n",
    "    return [e.text for e in doc.ents]"
   ]
  },
  {
   "cell_type": "code",
   "execution_count": 69,
   "metadata": {},
   "outputs": [],
   "source": [
    "named_entities = [get_ne(sentence.raw) for sentence in sentences]"
   ]
  },
  {
   "cell_type": "code",
   "execution_count": 79,
   "metadata": {},
   "outputs": [],
   "source": [
    "net = nx.Graph()"
   ]
  },
  {
   "cell_type": "code",
   "execution_count": 81,
   "metadata": {},
   "outputs": [],
   "source": [
    "for sentence_nes in named_entities:\n",
    "    for i in range(len(sentence_nes)):\n",
    "        for j in range(i+1, len(sentence_nes)):\n",
    "            d = net.get_edge_data(sentence_nes[i], sentence_nes[j])\n",
    "            if d: #edge exists\n",
    "                f = d['freq']\n",
    "                net.add_edge(sentence_nes[i], sentence_nes[j], freq = f + 1)\n",
    "            else:\n",
    "                net.add_edge(sentence_nes[i], sentence_nes[j], freq = 1)            "
   ]
  },
  {
   "cell_type": "code",
   "execution_count": 94,
   "metadata": {},
   "outputs": [],
   "source": [
    "edges=net.edges(data=True)\n",
    "df=pd.DataFrame([{'n1':e[0], 'n2':e[1], 'freq':e[2]['freq']} for e in edges])"
   ]
  },
  {
   "cell_type": "code",
   "execution_count": 96,
   "metadata": {},
   "outputs": [
    {
     "data": {
      "text/html": [
       "<div>\n",
       "<style scoped>\n",
       "    .dataframe tbody tr th:only-of-type {\n",
       "        vertical-align: middle;\n",
       "    }\n",
       "\n",
       "    .dataframe tbody tr th {\n",
       "        vertical-align: top;\n",
       "    }\n",
       "\n",
       "    .dataframe thead th {\n",
       "        text-align: right;\n",
       "    }\n",
       "</style>\n",
       "<table border=\"1\" class=\"dataframe\">\n",
       "  <thead>\n",
       "    <tr style=\"text-align: right;\">\n",
       "      <th></th>\n",
       "      <th>n1</th>\n",
       "      <th>n2</th>\n",
       "      <th>freq</th>\n",
       "    </tr>\n",
       "  </thead>\n",
       "  <tbody>\n",
       "    <tr>\n",
       "      <td>0</td>\n",
       "      <td>Moulton</td>\n",
       "      <td>Biden</td>\n",
       "      <td>5</td>\n",
       "    </tr>\n",
       "    <tr>\n",
       "      <td>8</td>\n",
       "      <td>Moulton</td>\n",
       "      <td>Iraq</td>\n",
       "      <td>4</td>\n",
       "    </tr>\n",
       "    <tr>\n",
       "      <td>46</td>\n",
       "      <td>Iraq War</td>\n",
       "      <td>2002</td>\n",
       "      <td>4</td>\n",
       "    </tr>\n",
       "    <tr>\n",
       "      <td>28</td>\n",
       "      <td>Biden</td>\n",
       "      <td>Iraq</td>\n",
       "      <td>4</td>\n",
       "    </tr>\n",
       "    <tr>\n",
       "      <td>22</td>\n",
       "      <td>Biden</td>\n",
       "      <td>2002</td>\n",
       "      <td>3</td>\n",
       "    </tr>\n",
       "    <tr>\n",
       "      <td>...</td>\n",
       "      <td>...</td>\n",
       "      <td>...</td>\n",
       "      <td>...</td>\n",
       "    </tr>\n",
       "    <tr>\n",
       "      <td>69</td>\n",
       "      <td>2002</td>\n",
       "      <td>George W. Bush</td>\n",
       "      <td>1</td>\n",
       "    </tr>\n",
       "    <tr>\n",
       "      <td>68</td>\n",
       "      <td>2002</td>\n",
       "      <td>the Iraq War resolution</td>\n",
       "      <td>1</td>\n",
       "    </tr>\n",
       "    <tr>\n",
       "      <td>67</td>\n",
       "      <td>2002</td>\n",
       "      <td>Delaware</td>\n",
       "      <td>1</td>\n",
       "    </tr>\n",
       "    <tr>\n",
       "      <td>63</td>\n",
       "      <td>2002</td>\n",
       "      <td>2002</td>\n",
       "      <td>1</td>\n",
       "    </tr>\n",
       "    <tr>\n",
       "      <td>162</td>\n",
       "      <td>Tapper</td>\n",
       "      <td>Afghanistan</td>\n",
       "      <td>1</td>\n",
       "    </tr>\n",
       "  </tbody>\n",
       "</table>\n",
       "<p>163 rows × 3 columns</p>\n",
       "</div>"
      ],
      "text/plain": [
       "           n1                       n2  freq\n",
       "0     Moulton                    Biden     5\n",
       "8     Moulton                     Iraq     4\n",
       "46   Iraq War                     2002     4\n",
       "28      Biden                     Iraq     4\n",
       "22      Biden                     2002     3\n",
       "..        ...                      ...   ...\n",
       "69       2002           George W. Bush     1\n",
       "68       2002  the Iraq War resolution     1\n",
       "67       2002                 Delaware     1\n",
       "63       2002                     2002     1\n",
       "162    Tapper              Afghanistan     1\n",
       "\n",
       "[163 rows x 3 columns]"
      ]
     },
     "execution_count": 96,
     "metadata": {},
     "output_type": "execute_result"
    }
   ],
   "source": [
    "df.sort_values('freq', ascending=False)"
   ]
  },
  {
   "cell_type": "code",
   "execution_count": 83,
   "metadata": {},
   "outputs": [
    {
     "data": {
      "image/png": "[encoded data removed]",
      "text/plain": [
       "<Figure size 432x288 with 1 Axes>"
      ]
     },
     "metadata": {},
     "output_type": "display_data"
    }
   ],
   "source": [
    "nx.draw(net, with_labels=True)"
   ]
  },
  {
   "cell_type": "code",
   "execution_count": 85,
   "metadata": {},
   "outputs": [
    {
     "data": {
      "text/plain": [
       "Iraq                       0.237374\n",
       "2002                       0.190657\n",
       "Biden                      0.159722\n",
       "Moulton                    0.080808\n",
       "CNN                        0.034091\n",
       "1:05 PM ET                 0.000000\n",
       "June 2, 2019               0.000000\n",
       "Washington                 0.000000\n",
       "Tapper                     0.000000\n",
       "Joe Biden                  0.000000\n",
       "Iraq War                   0.000000\n",
       "Democratic                 0.000000\n",
       "Seth Moulton               0.000000\n",
       "Sunday                     0.000000\n",
       "American                   0.000000\n",
       "Massachusetts              0.000000\n",
       "House                      0.000000\n",
       "Afghanistan                0.000000\n",
       "State of the Union         0.000000\n",
       "US                         0.000000\n",
       "Delaware                   0.000000\n",
       "the Iraq War resolution    0.000000\n",
       "George W. Bush             0.000000\n",
       "Saddam Hussein             0.000000\n",
       "UN                         0.000000\n",
       "Senate                     0.000000\n",
       "77                         0.000000\n",
       "Bush                       0.000000\n",
       "the years                  0.000000\n",
       "the Iraq War               0.000000\n",
       "Vermont                    0.000000\n",
       "Bernie Sanders             0.000000\n",
       "2020                       0.000000\n",
       "Jake Tapper                0.000000\n",
       "dtype: float64"
      ]
     },
     "execution_count": 85,
     "metadata": {},
     "output_type": "execute_result"
    }
   ],
   "source": [
    "pd.Series(nx.betweenness_centrality(net)).sort_values(ascending=False)"
   ]
  },
  {
   "cell_type": "code",
   "execution_count": 86,
   "metadata": {},
   "outputs": [
    {
     "data": {
      "text/plain": [
       "Iraq                       0.832035\n",
       "Biden                      0.808923\n",
       "Moulton                    0.710273\n",
       "2002                       0.693362\n",
       "CNN                        0.661846\n",
       "Seth Moulton               0.582424\n",
       "Democratic                 0.582424\n",
       "Joe Biden                  0.582424\n",
       "Washington                 0.582424\n",
       "June 2, 2019               0.582424\n",
       "1:05 PM ET                 0.582424\n",
       "Iraq War                   0.582424\n",
       "Sunday                     0.582424\n",
       "UN                         0.529477\n",
       "Saddam Hussein             0.529477\n",
       "George W. Bush             0.529477\n",
       "the Iraq War resolution    0.529477\n",
       "Delaware                   0.529477\n",
       "American                   0.520022\n",
       "Jake Tapper                0.520022\n",
       "Massachusetts              0.520022\n",
       "House                      0.520022\n",
       "State of the Union         0.520022\n",
       "US                         0.520022\n",
       "Tapper                     0.477397\n",
       "Afghanistan                0.477397\n",
       "Bush                       0.455019\n",
       "the years                  0.455019\n",
       "the Iraq War               0.448019\n",
       "Vermont                    0.416017\n",
       "Bernie Sanders             0.416017\n",
       "2020                       0.416017\n",
       "Senate                     0.030303\n",
       "77                         0.030303\n",
       "dtype: float64"
      ]
     },
     "execution_count": 86,
     "metadata": {},
     "output_type": "execute_result"
    }
   ],
   "source": [
    "pd.Series(nx.closeness_centrality(net)).sort_values(ascending=False)"
   ]
  },
  {
   "cell_type": "code",
   "execution_count": null,
   "metadata": {},
   "outputs": [],
   "source": []
  }
 ],
 "metadata": {
  "kernelspec": {
   "display_name": "Python 3",
   "language": "python",
   "name": "python3"
  },
  "language_info": {
   "codemirror_mode": {
    "name": "ipython",
    "version": 3
   },
   "file_extension": ".py",
   "mimetype": "text/x-python",
   "name": "python",
   "nbconvert_exporter": "python",
   "pygments_lexer": "ipython3",
   "version": "3.7.3"
  }
 },
 "nbformat": 4,
 "nbformat_minor": 2
}
