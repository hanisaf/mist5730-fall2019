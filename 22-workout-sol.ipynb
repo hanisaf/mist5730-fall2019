{
 "cells": [
  {
   "cell_type": "code",
   "execution_count": 1,
   "metadata": {},
   "outputs": [],
   "source": [
    "import pandas as pd"
   ]
  },
  {
   "cell_type": "markdown",
   "metadata": {},
   "source": [
    "The data frames `Customers`, `Employees`, `Offices`, `OrderDetails`, `Orders`, `Payments`, `ProductLines`, and `Products` contain data of the corresponding tables in the [ClassicModels database](https://www.richardtwatson.com/dm6e/Reader/ClassicModels.html).\n",
    "\n",
    "The entity relationship diagram is shown here ![ERD](figures/ClassicModels.png)"
   ]
  },
  {
   "cell_type": "markdown",
   "metadata": {},
   "source": [
    "- Report the total payments by date\n",
    "- Report the total payments by year\n",
    "- Report the total payments by month\n",
    "- Report the total payments by year-month\n",
    "- Report the total payments by year=quarter\n",
    "- Report the total payments in a bi-yearly basis (each six months in each year)\n",
    "\n",
    "*HINT* Convert `paymentDate` to a timestamp. Then you can extract year, month, and quarter using its properties. e.g.,"
   ]
  },
  {
   "cell_type": "code",
   "execution_count": 10,
   "metadata": {},
   "outputs": [
    {
     "data": {
      "text/plain": [
       "Timestamp('2019-10-06 00:00:00')"
      ]
     },
     "execution_count": 10,
     "metadata": {},
     "output_type": "execute_result"
    }
   ],
   "source": [
    "text = \"6 October 2019\"\n",
    "ts = pd.to_datetime(text)\n",
    "ts"
   ]
  },
  {
   "cell_type": "code",
   "execution_count": 3,
   "metadata": {},
   "outputs": [],
   "source": [
    "Customers = pd.read_csv('data/ClassicModels_Customers.csv', sep=';')\n",
    "Employees = pd.read_csv('data/ClassicModels_Employees.csv', sep=';')\n",
    "Offices = pd.read_csv('data/ClassicModels_Offices.csv', sep=';')\n",
    "OrderDetails = pd.read_csv('data/ClassicModels_OrderDetails.csv', sep=';')\n",
    "Orders = pd.read_csv('data/ClassicModels_Orders.csv', sep=';')\n",
    "Payments = pd.read_csv('data/ClassicModels_Payments.csv', sep=';')\n",
    "ProductLines = pd.read_csv('data/ClassicModels_ProductLines.csv', sep=';')\n",
    "Products = pd.read_csv('data/ClassicModels_Products.csv', sep=';')"
   ]
  },
  {
   "cell_type": "code",
   "execution_count": 17,
   "metadata": {},
   "outputs": [],
   "source": [
    "pdate = pd.to_datetime(Payments['paymentDate'])"
   ]
  },
  {
   "cell_type": "code",
   "execution_count": null,
   "metadata": {},
   "outputs": [],
   "source": []
  },
  {
   "cell_type": "code",
   "execution_count": 21,
   "metadata": {},
   "outputs": [
    {
     "data": {
      "text/plain": [
       "paymentDate\n",
       "2003-01-16 00:00:00    10223.83\n",
       "2003-01-28 00:00:00    10549.01\n",
       "2003-01-30 00:00:00     5494.78\n",
       "2003-02-16 00:00:00    50218.95\n",
       "2003-02-20 00:00:00    53959.21\n",
       "                         ...   \n",
       "2005-05-20 00:00:00    29070.38\n",
       "2005-05-23 00:00:00    75020.13\n",
       "2005-05-25 00:00:00    30253.75\n",
       "2005-06-03 00:00:00    12432.32\n",
       "2005-06-09 00:00:00    46656.94\n",
       "Name: amount, Length: 232, dtype: float64"
      ]
     },
     "execution_count": 21,
     "metadata": {},
     "output_type": "execute_result"
    }
   ],
   "source": [
    "Payments.groupby('paymentDate')['amount'].sum()"
   ]
  },
  {
   "cell_type": "code",
   "execution_count": 24,
   "metadata": {},
   "outputs": [
    {
     "data": {
      "text/plain": [
       "paymentDate\n",
       "2003    3250217.70\n",
       "2004    4313328.25\n",
       "2005    1290293.28\n",
       "Name: amount, dtype: float64"
      ]
     },
     "execution_count": 24,
     "metadata": {},
     "output_type": "execute_result"
    }
   ],
   "source": [
    "Payments.groupby(Payments['paymentDate'].str[0:4])['amount'].sum()"
   ]
  },
  {
   "cell_type": "code",
   "execution_count": 32,
   "metadata": {},
   "outputs": [
    {
     "data": {
      "text/html": [
       "<div>\n",
       "<style scoped>\n",
       "    .dataframe tbody tr th:only-of-type {\n",
       "        vertical-align: middle;\n",
       "    }\n",
       "\n",
       "    .dataframe tbody tr th {\n",
       "        vertical-align: top;\n",
       "    }\n",
       "\n",
       "    .dataframe thead th {\n",
       "        text-align: right;\n",
       "    }\n",
       "</style>\n",
       "<table border=\"1\" class=\"dataframe\">\n",
       "  <thead>\n",
       "    <tr style=\"text-align: right;\">\n",
       "      <th></th>\n",
       "      <th>checkNumber</th>\n",
       "      <th>paymentDate</th>\n",
       "      <th>amount</th>\n",
       "      <th>customerNumber</th>\n",
       "      <th>year</th>\n",
       "    </tr>\n",
       "  </thead>\n",
       "  <tbody>\n",
       "    <tr>\n",
       "      <td>0</td>\n",
       "      <td>AB661578</td>\n",
       "      <td>2004-07-28 00:00:00</td>\n",
       "      <td>9415.13</td>\n",
       "      <td>471</td>\n",
       "      <td>2004</td>\n",
       "    </tr>\n",
       "    <tr>\n",
       "      <td>1</td>\n",
       "      <td>AD304085</td>\n",
       "      <td>2003-10-24 00:00:00</td>\n",
       "      <td>36798.88</td>\n",
       "      <td>299</td>\n",
       "      <td>2003</td>\n",
       "    </tr>\n",
       "    <tr>\n",
       "      <td>2</td>\n",
       "      <td>AD832091</td>\n",
       "      <td>2004-09-09 00:00:00</td>\n",
       "      <td>1960.80</td>\n",
       "      <td>172</td>\n",
       "      <td>2004</td>\n",
       "    </tr>\n",
       "    <tr>\n",
       "      <td>3</td>\n",
       "      <td>AE192287</td>\n",
       "      <td>2005-03-10 00:00:00</td>\n",
       "      <td>23602.90</td>\n",
       "      <td>186</td>\n",
       "      <td>2005</td>\n",
       "    </tr>\n",
       "    <tr>\n",
       "      <td>4</td>\n",
       "      <td>AE215433</td>\n",
       "      <td>2005-03-05 00:00:00</td>\n",
       "      <td>101244.59</td>\n",
       "      <td>124</td>\n",
       "      <td>2005</td>\n",
       "    </tr>\n",
       "  </tbody>\n",
       "</table>\n",
       "</div>"
      ],
      "text/plain": [
       "  checkNumber          paymentDate     amount  customerNumber  year\n",
       "0    AB661578  2004-07-28 00:00:00    9415.13             471  2004\n",
       "1    AD304085  2003-10-24 00:00:00   36798.88             299  2003\n",
       "2    AD832091  2004-09-09 00:00:00    1960.80             172  2004\n",
       "3    AE192287  2005-03-10 00:00:00   23602.90             186  2005\n",
       "4    AE215433  2005-03-05 00:00:00  101244.59             124  2005"
      ]
     },
     "execution_count": 32,
     "metadata": {},
     "output_type": "execute_result"
    }
   ],
   "source": [
    "Payments['year']= pdate.apply(lambda x: x.year)\n",
    "Payments.head()"
   ]
  },
  {
   "cell_type": "code",
   "execution_count": 33,
   "metadata": {},
   "outputs": [
    {
     "data": {
      "text/plain": [
       "year\n",
       "2003    3250217.70\n",
       "2004    4313328.25\n",
       "2005    1290293.28\n",
       "Name: amount, dtype: float64"
      ]
     },
     "execution_count": 33,
     "metadata": {},
     "output_type": "execute_result"
    }
   ],
   "source": [
    "Payments.groupby('year')['amount'].sum()"
   ]
  },
  {
   "cell_type": "code",
   "execution_count": 35,
   "metadata": {},
   "outputs": [],
   "source": [
    "pdf = Payments.set_index(pdate)"
   ]
  },
  {
   "cell_type": "code",
   "execution_count": 39,
   "metadata": {},
   "outputs": [
    {
     "data": {
      "text/plain": [
       "paymentDate\n",
       "2003    3250217.70\n",
       "2004    4313328.25\n",
       "2005    1290293.28\n",
       "Freq: A-DEC, Name: amount, dtype: float64"
      ]
     },
     "execution_count": 39,
     "metadata": {},
     "output_type": "execute_result"
    }
   ],
   "source": [
    "Payments.groupby(pdf.index.to_period('A'))['amount'].sum()"
   ]
  },
  {
   "cell_type": "code",
   "execution_count": 42,
   "metadata": {},
   "outputs": [
    {
     "data": {
      "text/html": [
       "<div>\n",
       "<style scoped>\n",
       "    .dataframe tbody tr th:only-of-type {\n",
       "        vertical-align: middle;\n",
       "    }\n",
       "\n",
       "    .dataframe tbody tr th {\n",
       "        vertical-align: top;\n",
       "    }\n",
       "\n",
       "    .dataframe thead th {\n",
       "        text-align: right;\n",
       "    }\n",
       "</style>\n",
       "<table border=\"1\" class=\"dataframe\">\n",
       "  <thead>\n",
       "    <tr style=\"text-align: right;\">\n",
       "      <th></th>\n",
       "      <th>checkNumber</th>\n",
       "      <th>paymentDate</th>\n",
       "      <th>amount</th>\n",
       "      <th>customerNumber</th>\n",
       "      <th>year</th>\n",
       "      <th>month</th>\n",
       "    </tr>\n",
       "  </thead>\n",
       "  <tbody>\n",
       "    <tr>\n",
       "      <td>0</td>\n",
       "      <td>AB661578</td>\n",
       "      <td>2004-07-28 00:00:00</td>\n",
       "      <td>9415.13</td>\n",
       "      <td>471</td>\n",
       "      <td>2004</td>\n",
       "      <td>7</td>\n",
       "    </tr>\n",
       "    <tr>\n",
       "      <td>1</td>\n",
       "      <td>AD304085</td>\n",
       "      <td>2003-10-24 00:00:00</td>\n",
       "      <td>36798.88</td>\n",
       "      <td>299</td>\n",
       "      <td>2003</td>\n",
       "      <td>10</td>\n",
       "    </tr>\n",
       "    <tr>\n",
       "      <td>2</td>\n",
       "      <td>AD832091</td>\n",
       "      <td>2004-09-09 00:00:00</td>\n",
       "      <td>1960.80</td>\n",
       "      <td>172</td>\n",
       "      <td>2004</td>\n",
       "      <td>9</td>\n",
       "    </tr>\n",
       "    <tr>\n",
       "      <td>3</td>\n",
       "      <td>AE192287</td>\n",
       "      <td>2005-03-10 00:00:00</td>\n",
       "      <td>23602.90</td>\n",
       "      <td>186</td>\n",
       "      <td>2005</td>\n",
       "      <td>3</td>\n",
       "    </tr>\n",
       "    <tr>\n",
       "      <td>4</td>\n",
       "      <td>AE215433</td>\n",
       "      <td>2005-03-05 00:00:00</td>\n",
       "      <td>101244.59</td>\n",
       "      <td>124</td>\n",
       "      <td>2005</td>\n",
       "      <td>3</td>\n",
       "    </tr>\n",
       "  </tbody>\n",
       "</table>\n",
       "</div>"
      ],
      "text/plain": [
       "  checkNumber          paymentDate     amount  customerNumber  year  month\n",
       "0    AB661578  2004-07-28 00:00:00    9415.13             471  2004      7\n",
       "1    AD304085  2003-10-24 00:00:00   36798.88             299  2003     10\n",
       "2    AD832091  2004-09-09 00:00:00    1960.80             172  2004      9\n",
       "3    AE192287  2005-03-10 00:00:00   23602.90             186  2005      3\n",
       "4    AE215433  2005-03-05 00:00:00  101244.59             124  2005      3"
      ]
     },
     "execution_count": 42,
     "metadata": {},
     "output_type": "execute_result"
    }
   ],
   "source": [
    "Payments['month']= pdate.apply(lambda x: x.month)\n",
    "Payments.head()"
   ]
  },
  {
   "cell_type": "code",
   "execution_count": 43,
   "metadata": {},
   "outputs": [
    {
     "data": {
      "text/plain": [
       "month\n",
       "1      397887.81\n",
       "2      503357.59\n",
       "3      989575.78\n",
       "4      493457.60\n",
       "5      640655.32\n",
       "6      425151.10\n",
       "7      442438.48\n",
       "8      624299.16\n",
       "9      637651.76\n",
       "10     501961.39\n",
       "11    1551479.98\n",
       "12    1645923.26\n",
       "Name: amount, dtype: float64"
      ]
     },
     "execution_count": 43,
     "metadata": {},
     "output_type": "execute_result"
    }
   ],
   "source": [
    "Payments.groupby('month')['amount'].sum()"
   ]
  },
  {
   "cell_type": "code",
   "execution_count": 48,
   "metadata": {},
   "outputs": [
    {
     "data": {
      "text/html": [
       "<div>\n",
       "<style scoped>\n",
       "    .dataframe tbody tr th:only-of-type {\n",
       "        vertical-align: middle;\n",
       "    }\n",
       "\n",
       "    .dataframe tbody tr th {\n",
       "        vertical-align: top;\n",
       "    }\n",
       "\n",
       "    .dataframe thead th {\n",
       "        text-align: right;\n",
       "    }\n",
       "</style>\n",
       "<table border=\"1\" class=\"dataframe\">\n",
       "  <thead>\n",
       "    <tr style=\"text-align: right;\">\n",
       "      <th></th>\n",
       "      <th>checkNumber</th>\n",
       "      <th>paymentDate</th>\n",
       "      <th>amount</th>\n",
       "      <th>customerNumber</th>\n",
       "      <th>year</th>\n",
       "      <th>month</th>\n",
       "      <th>year-month</th>\n",
       "    </tr>\n",
       "  </thead>\n",
       "  <tbody>\n",
       "    <tr>\n",
       "      <td>0</td>\n",
       "      <td>AB661578</td>\n",
       "      <td>2004-07-28 00:00:00</td>\n",
       "      <td>9415.13</td>\n",
       "      <td>471</td>\n",
       "      <td>2004</td>\n",
       "      <td>7</td>\n",
       "      <td>(2004, 7)</td>\n",
       "    </tr>\n",
       "    <tr>\n",
       "      <td>1</td>\n",
       "      <td>AD304085</td>\n",
       "      <td>2003-10-24 00:00:00</td>\n",
       "      <td>36798.88</td>\n",
       "      <td>299</td>\n",
       "      <td>2003</td>\n",
       "      <td>10</td>\n",
       "      <td>(2003, 10)</td>\n",
       "    </tr>\n",
       "    <tr>\n",
       "      <td>2</td>\n",
       "      <td>AD832091</td>\n",
       "      <td>2004-09-09 00:00:00</td>\n",
       "      <td>1960.80</td>\n",
       "      <td>172</td>\n",
       "      <td>2004</td>\n",
       "      <td>9</td>\n",
       "      <td>(2004, 9)</td>\n",
       "    </tr>\n",
       "    <tr>\n",
       "      <td>3</td>\n",
       "      <td>AE192287</td>\n",
       "      <td>2005-03-10 00:00:00</td>\n",
       "      <td>23602.90</td>\n",
       "      <td>186</td>\n",
       "      <td>2005</td>\n",
       "      <td>3</td>\n",
       "      <td>(2005, 3)</td>\n",
       "    </tr>\n",
       "    <tr>\n",
       "      <td>4</td>\n",
       "      <td>AE215433</td>\n",
       "      <td>2005-03-05 00:00:00</td>\n",
       "      <td>101244.59</td>\n",
       "      <td>124</td>\n",
       "      <td>2005</td>\n",
       "      <td>3</td>\n",
       "      <td>(2005, 3)</td>\n",
       "    </tr>\n",
       "  </tbody>\n",
       "</table>\n",
       "</div>"
      ],
      "text/plain": [
       "  checkNumber          paymentDate     amount  customerNumber  year  month  \\\n",
       "0    AB661578  2004-07-28 00:00:00    9415.13             471  2004      7   \n",
       "1    AD304085  2003-10-24 00:00:00   36798.88             299  2003     10   \n",
       "2    AD832091  2004-09-09 00:00:00    1960.80             172  2004      9   \n",
       "3    AE192287  2005-03-10 00:00:00   23602.90             186  2005      3   \n",
       "4    AE215433  2005-03-05 00:00:00  101244.59             124  2005      3   \n",
       "\n",
       "   year-month  \n",
       "0   (2004, 7)  \n",
       "1  (2003, 10)  \n",
       "2   (2004, 9)  \n",
       "3   (2005, 3)  \n",
       "4   (2005, 3)  "
      ]
     },
     "execution_count": 48,
     "metadata": {},
     "output_type": "execute_result"
    }
   ],
   "source": [
    "Payments['year-month']= pdate.apply(lambda x: (x.year, x.month))\n",
    "Payments.head()"
   ]
  },
  {
   "cell_type": "code",
   "execution_count": 49,
   "metadata": {},
   "outputs": [
    {
     "data": {
      "text/plain": [
       "year-month\n",
       "(2003, 1)      26267.62\n",
       "(2003, 2)     144384.36\n",
       "(2003, 3)     199704.48\n",
       "(2003, 4)     136313.92\n",
       "(2003, 5)     159881.97\n",
       "(2003, 6)     180218.98\n",
       "(2003, 7)     158247.00\n",
       "(2003, 8)     246204.86\n",
       "(2003, 9)     161206.23\n",
       "(2003, 10)    316857.96\n",
       "(2003, 11)    694292.68\n",
       "(2003, 12)    826637.64\n",
       "(2004, 1)     234152.13\n",
       "(2004, 2)     106652.01\n",
       "(2004, 3)     404603.21\n",
       "(2004, 4)     173245.96\n",
       "(2004, 5)     208524.42\n",
       "(2004, 6)     185842.86\n",
       "(2004, 7)     284191.48\n",
       "(2004, 8)     378094.30\n",
       "(2004, 9)     476445.53\n",
       "(2004, 10)    185103.43\n",
       "(2004, 11)    857187.30\n",
       "(2004, 12)    819285.62\n",
       "(2005, 1)     137468.06\n",
       "(2005, 2)     252321.22\n",
       "(2005, 3)     385268.09\n",
       "(2005, 4)     183897.72\n",
       "(2005, 5)     272248.93\n",
       "(2005, 6)      59089.26\n",
       "Name: amount, dtype: float64"
      ]
     },
     "execution_count": 49,
     "metadata": {},
     "output_type": "execute_result"
    }
   ],
   "source": [
    "Payments.groupby('year-month')['amount'].sum()"
   ]
  },
  {
   "cell_type": "code",
   "execution_count": 52,
   "metadata": {},
   "outputs": [
    {
     "data": {
      "text/plain": [
       "PeriodIndex(['2004-07', '2003-10', '2004-09', '2005-03', '2005-03', '2003-11',\n",
       "             '2003-11', '2003-12', '2003-09', '2005-02',\n",
       "             ...\n",
       "             '2004-11', '2004-11', '2004-05', '2004-07', '2003-04', '2004-04',\n",
       "             '2003-12', '2004-01', '2004-12', '2004-02'],\n",
       "            dtype='period[M]', name='paymentDate', length=273, freq='M')"
      ]
     },
     "execution_count": 52,
     "metadata": {},
     "output_type": "execute_result"
    }
   ],
   "source": [
    "pdf.index.to_period('M')"
   ]
  },
  {
   "cell_type": "code",
   "execution_count": 53,
   "metadata": {},
   "outputs": [
    {
     "data": {
      "text/plain": [
       "paymentDate\n",
       "2003-01     26267.62\n",
       "2003-02    144384.36\n",
       "2003-03    199704.48\n",
       "2003-04    136313.92\n",
       "2003-05    159881.97\n",
       "2003-06    180218.98\n",
       "2003-07    158247.00\n",
       "2003-08    246204.86\n",
       "2003-09    161206.23\n",
       "2003-10    316857.96\n",
       "2003-11    694292.68\n",
       "2003-12    826637.64\n",
       "2004-01    234152.13\n",
       "2004-02    106652.01\n",
       "2004-03    404603.21\n",
       "2004-04    173245.96\n",
       "2004-05    208524.42\n",
       "2004-06    185842.86\n",
       "2004-07    284191.48\n",
       "2004-08    378094.30\n",
       "2004-09    476445.53\n",
       "2004-10    185103.43\n",
       "2004-11    857187.30\n",
       "2004-12    819285.62\n",
       "2005-01    137468.06\n",
       "2005-02    252321.22\n",
       "2005-03    385268.09\n",
       "2005-04    183897.72\n",
       "2005-05    272248.93\n",
       "2005-06     59089.26\n",
       "Freq: M, Name: amount, dtype: float64"
      ]
     },
     "execution_count": 53,
     "metadata": {},
     "output_type": "execute_result"
    }
   ],
   "source": [
    "Payments.groupby(pdf.index.to_period('M'))['amount'].sum()"
   ]
  },
  {
   "cell_type": "code",
   "execution_count": 54,
   "metadata": {},
   "outputs": [
    {
     "data": {
      "text/plain": [
       "paymentDate\n",
       "2003Q1     370356.46\n",
       "2003Q2     476414.87\n",
       "2003Q3     565658.09\n",
       "2003Q4    1837788.28\n",
       "2004Q1     745407.35\n",
       "2004Q2     567613.24\n",
       "2004Q3    1138731.31\n",
       "2004Q4    1861576.35\n",
       "2005Q1     775057.37\n",
       "2005Q2     515235.91\n",
       "Freq: Q-DEC, Name: amount, dtype: float64"
      ]
     },
     "execution_count": 54,
     "metadata": {},
     "output_type": "execute_result"
    }
   ],
   "source": [
    "Payments.groupby(pdf.index.to_period('Q'))['amount'].sum()"
   ]
  },
  {
   "cell_type": "code",
   "execution_count": 56,
   "metadata": {},
   "outputs": [
    {
     "data": {
      "text/html": [
       "<div>\n",
       "<style scoped>\n",
       "    .dataframe tbody tr th:only-of-type {\n",
       "        vertical-align: middle;\n",
       "    }\n",
       "\n",
       "    .dataframe tbody tr th {\n",
       "        vertical-align: top;\n",
       "    }\n",
       "\n",
       "    .dataframe thead th {\n",
       "        text-align: right;\n",
       "    }\n",
       "</style>\n",
       "<table border=\"1\" class=\"dataframe\">\n",
       "  <thead>\n",
       "    <tr style=\"text-align: right;\">\n",
       "      <th></th>\n",
       "      <th>checkNumber</th>\n",
       "      <th>paymentDate</th>\n",
       "      <th>amount</th>\n",
       "      <th>customerNumber</th>\n",
       "      <th>year</th>\n",
       "      <th>month</th>\n",
       "      <th>year-month</th>\n",
       "      <th>year-quarter</th>\n",
       "    </tr>\n",
       "  </thead>\n",
       "  <tbody>\n",
       "    <tr>\n",
       "      <td>0</td>\n",
       "      <td>AB661578</td>\n",
       "      <td>2004-07-28 00:00:00</td>\n",
       "      <td>9415.13</td>\n",
       "      <td>471</td>\n",
       "      <td>2004</td>\n",
       "      <td>7</td>\n",
       "      <td>(2004, 7)</td>\n",
       "      <td>(2004, 3)</td>\n",
       "    </tr>\n",
       "    <tr>\n",
       "      <td>1</td>\n",
       "      <td>AD304085</td>\n",
       "      <td>2003-10-24 00:00:00</td>\n",
       "      <td>36798.88</td>\n",
       "      <td>299</td>\n",
       "      <td>2003</td>\n",
       "      <td>10</td>\n",
       "      <td>(2003, 10)</td>\n",
       "      <td>(2003, 4)</td>\n",
       "    </tr>\n",
       "    <tr>\n",
       "      <td>2</td>\n",
       "      <td>AD832091</td>\n",
       "      <td>2004-09-09 00:00:00</td>\n",
       "      <td>1960.80</td>\n",
       "      <td>172</td>\n",
       "      <td>2004</td>\n",
       "      <td>9</td>\n",
       "      <td>(2004, 9)</td>\n",
       "      <td>(2004, 3)</td>\n",
       "    </tr>\n",
       "    <tr>\n",
       "      <td>3</td>\n",
       "      <td>AE192287</td>\n",
       "      <td>2005-03-10 00:00:00</td>\n",
       "      <td>23602.90</td>\n",
       "      <td>186</td>\n",
       "      <td>2005</td>\n",
       "      <td>3</td>\n",
       "      <td>(2005, 3)</td>\n",
       "      <td>(2005, 1)</td>\n",
       "    </tr>\n",
       "    <tr>\n",
       "      <td>4</td>\n",
       "      <td>AE215433</td>\n",
       "      <td>2005-03-05 00:00:00</td>\n",
       "      <td>101244.59</td>\n",
       "      <td>124</td>\n",
       "      <td>2005</td>\n",
       "      <td>3</td>\n",
       "      <td>(2005, 3)</td>\n",
       "      <td>(2005, 1)</td>\n",
       "    </tr>\n",
       "  </tbody>\n",
       "</table>\n",
       "</div>"
      ],
      "text/plain": [
       "  checkNumber          paymentDate     amount  customerNumber  year  month  \\\n",
       "0    AB661578  2004-07-28 00:00:00    9415.13             471  2004      7   \n",
       "1    AD304085  2003-10-24 00:00:00   36798.88             299  2003     10   \n",
       "2    AD832091  2004-09-09 00:00:00    1960.80             172  2004      9   \n",
       "3    AE192287  2005-03-10 00:00:00   23602.90             186  2005      3   \n",
       "4    AE215433  2005-03-05 00:00:00  101244.59             124  2005      3   \n",
       "\n",
       "   year-month year-quarter  \n",
       "0   (2004, 7)    (2004, 3)  \n",
       "1  (2003, 10)    (2003, 4)  \n",
       "2   (2004, 9)    (2004, 3)  \n",
       "3   (2005, 3)    (2005, 1)  \n",
       "4   (2005, 3)    (2005, 1)  "
      ]
     },
     "execution_count": 56,
     "metadata": {},
     "output_type": "execute_result"
    }
   ],
   "source": [
    "Payments['year-quarter']= pdate.apply(lambda x: (x.year, x.quarter))\n",
    "Payments.head()"
   ]
  },
  {
   "cell_type": "code",
   "execution_count": 57,
   "metadata": {},
   "outputs": [
    {
     "data": {
      "text/plain": [
       "year-quarter\n",
       "(2003, 1)     370356.46\n",
       "(2003, 2)     476414.87\n",
       "(2003, 3)     565658.09\n",
       "(2003, 4)    1837788.28\n",
       "(2004, 1)     745407.35\n",
       "(2004, 2)     567613.24\n",
       "(2004, 3)    1138731.31\n",
       "(2004, 4)    1861576.35\n",
       "(2005, 1)     775057.37\n",
       "(2005, 2)     515235.91\n",
       "Name: amount, dtype: float64"
      ]
     },
     "execution_count": 57,
     "metadata": {},
     "output_type": "execute_result"
    }
   ],
   "source": [
    "Payments.groupby('year-quarter')['amount'].sum()"
   ]
  },
  {
   "cell_type": "code",
   "execution_count": 62,
   "metadata": {},
   "outputs": [],
   "source": [
    "Payments['biyear'] = Payments['year'].apply(str) + \"-\" + Payments['month'].apply(\n",
    "        lambda x: \"H1\" if x in range(1, 7) else \"H2\")"
   ]
  },
  {
   "cell_type": "code",
   "execution_count": 63,
   "metadata": {},
   "outputs": [
    {
     "data": {
      "text/html": [
       "<div>\n",
       "<style scoped>\n",
       "    .dataframe tbody tr th:only-of-type {\n",
       "        vertical-align: middle;\n",
       "    }\n",
       "\n",
       "    .dataframe tbody tr th {\n",
       "        vertical-align: top;\n",
       "    }\n",
       "\n",
       "    .dataframe thead th {\n",
       "        text-align: right;\n",
       "    }\n",
       "</style>\n",
       "<table border=\"1\" class=\"dataframe\">\n",
       "  <thead>\n",
       "    <tr style=\"text-align: right;\">\n",
       "      <th></th>\n",
       "      <th>checkNumber</th>\n",
       "      <th>paymentDate</th>\n",
       "      <th>amount</th>\n",
       "      <th>customerNumber</th>\n",
       "      <th>year</th>\n",
       "      <th>month</th>\n",
       "      <th>year-month</th>\n",
       "      <th>year-quarter</th>\n",
       "      <th>biyear</th>\n",
       "    </tr>\n",
       "  </thead>\n",
       "  <tbody>\n",
       "    <tr>\n",
       "      <td>0</td>\n",
       "      <td>AB661578</td>\n",
       "      <td>2004-07-28 00:00:00</td>\n",
       "      <td>9415.13</td>\n",
       "      <td>471</td>\n",
       "      <td>2004</td>\n",
       "      <td>7</td>\n",
       "      <td>(2004, 7)</td>\n",
       "      <td>(2004, 3)</td>\n",
       "      <td>2004-H2</td>\n",
       "    </tr>\n",
       "    <tr>\n",
       "      <td>1</td>\n",
       "      <td>AD304085</td>\n",
       "      <td>2003-10-24 00:00:00</td>\n",
       "      <td>36798.88</td>\n",
       "      <td>299</td>\n",
       "      <td>2003</td>\n",
       "      <td>10</td>\n",
       "      <td>(2003, 10)</td>\n",
       "      <td>(2003, 4)</td>\n",
       "      <td>2003-H2</td>\n",
       "    </tr>\n",
       "    <tr>\n",
       "      <td>2</td>\n",
       "      <td>AD832091</td>\n",
       "      <td>2004-09-09 00:00:00</td>\n",
       "      <td>1960.80</td>\n",
       "      <td>172</td>\n",
       "      <td>2004</td>\n",
       "      <td>9</td>\n",
       "      <td>(2004, 9)</td>\n",
       "      <td>(2004, 3)</td>\n",
       "      <td>2004-H2</td>\n",
       "    </tr>\n",
       "    <tr>\n",
       "      <td>3</td>\n",
       "      <td>AE192287</td>\n",
       "      <td>2005-03-10 00:00:00</td>\n",
       "      <td>23602.90</td>\n",
       "      <td>186</td>\n",
       "      <td>2005</td>\n",
       "      <td>3</td>\n",
       "      <td>(2005, 3)</td>\n",
       "      <td>(2005, 1)</td>\n",
       "      <td>2005-H1</td>\n",
       "    </tr>\n",
       "    <tr>\n",
       "      <td>4</td>\n",
       "      <td>AE215433</td>\n",
       "      <td>2005-03-05 00:00:00</td>\n",
       "      <td>101244.59</td>\n",
       "      <td>124</td>\n",
       "      <td>2005</td>\n",
       "      <td>3</td>\n",
       "      <td>(2005, 3)</td>\n",
       "      <td>(2005, 1)</td>\n",
       "      <td>2005-H1</td>\n",
       "    </tr>\n",
       "  </tbody>\n",
       "</table>\n",
       "</div>"
      ],
      "text/plain": [
       "  checkNumber          paymentDate     amount  customerNumber  year  month  \\\n",
       "0    AB661578  2004-07-28 00:00:00    9415.13             471  2004      7   \n",
       "1    AD304085  2003-10-24 00:00:00   36798.88             299  2003     10   \n",
       "2    AD832091  2004-09-09 00:00:00    1960.80             172  2004      9   \n",
       "3    AE192287  2005-03-10 00:00:00   23602.90             186  2005      3   \n",
       "4    AE215433  2005-03-05 00:00:00  101244.59             124  2005      3   \n",
       "\n",
       "   year-month year-quarter   biyear  \n",
       "0   (2004, 7)    (2004, 3)  2004-H2  \n",
       "1  (2003, 10)    (2003, 4)  2003-H2  \n",
       "2   (2004, 9)    (2004, 3)  2004-H2  \n",
       "3   (2005, 3)    (2005, 1)  2005-H1  \n",
       "4   (2005, 3)    (2005, 1)  2005-H1  "
      ]
     },
     "execution_count": 63,
     "metadata": {},
     "output_type": "execute_result"
    }
   ],
   "source": [
    "Payments.head()"
   ]
  },
  {
   "cell_type": "code",
   "execution_count": 65,
   "metadata": {},
   "outputs": [
    {
     "data": {
      "text/plain": [
       "biyear\n",
       "2003-H1     846771.33\n",
       "2003-H2    2403446.37\n",
       "2004-H1    1313020.59\n",
       "2004-H2    3000307.66\n",
       "2005-H1    1290293.28\n",
       "Name: amount, dtype: float64"
      ]
     },
     "execution_count": 65,
     "metadata": {},
     "output_type": "execute_result"
    }
   ],
   "source": [
    "Payments.groupby('biyear')['amount'].sum()"
   ]
  },
  {
   "cell_type": "code",
   "execution_count": 69,
   "metadata": {},
   "outputs": [
    {
     "data": {
      "text/plain": [
       "273"
      ]
     },
     "execution_count": 69,
     "metadata": {},
     "output_type": "execute_result"
    }
   ],
   "source": [
    "len(pdf)"
   ]
  },
  {
   "cell_type": "code",
   "execution_count": 79,
   "metadata": {},
   "outputs": [
    {
     "data": {
      "text/plain": [
       "paymentDate\n",
       "2003-01-01     846771.33\n",
       "2003-07-01    2403446.37\n",
       "2004-01-01    1313020.59\n",
       "2004-07-01    3000307.66\n",
       "2005-01-01    1290293.28\n",
       "Freq: 6MS, Name: amount, dtype: float64"
      ]
     },
     "execution_count": 79,
     "metadata": {},
     "output_type": "execute_result"
    }
   ],
   "source": [
    "pdf.resample('6MS')['amount'].sum()"
   ]
  },
  {
   "cell_type": "code",
   "execution_count": null,
   "metadata": {},
   "outputs": [],
   "source": []
  }
 ],
 "metadata": {
  "kernelspec": {
   "display_name": "Python 3",
   "language": "python",
   "name": "python3"
  },
  "language_info": {
   "codemirror_mode": {
    "name": "ipython",
    "version": 3
   },
   "file_extension": ".py",
   "mimetype": "text/x-python",
   "name": "python",
   "nbconvert_exporter": "python",
   "pygments_lexer": "ipython3",
   "version": "3.7.3"
  }
 },
 "nbformat": 4,
 "nbformat_minor": 2
}
