{
 "cells": [
  {
   "cell_type": "markdown",
   "metadata": {
    "slideshow": {
     "slide_type": "slide"
    }
   },
   "source": [
    "[Mastering Markdown](https://guides.github.com/features/mastering-markdown/)\n",
    "\n",
    "Markdown is a way to style text on the web. You control the display of the document; formatting words as bold or italic, adding images, and creating lists are just a few of the things we can do with Markdown. Mostly, Markdown is just regular text with a few non-alphabetic characters thrown in, like `#` or `*`."
   ]
  },
  {
   "cell_type": "raw",
   "metadata": {
    "slideshow": {
     "slide_type": "slide"
    }
   },
   "source": [
    "# Text\n",
    "\n",
    "It's very easy to make some words **bold** and other words *italic* with Markdown. You can even [link to Google!](http://google.com)"
   ]
  },
  {
   "cell_type": "markdown",
   "metadata": {
    "slideshow": {
     "slide_type": "slide"
    }
   },
   "source": [
    "# Text\n",
    "\n",
    "It's very easy to make some words **bold** and other words *italic* with Markdown. You can even [link to Google!](http://google.com)"
   ]
  },
  {
   "cell_type": "raw",
   "metadata": {
    "slideshow": {
     "slide_type": "slide"
    }
   },
   "source": [
    "# Lists\n",
    "\n",
    "Sometimes you want numbered lists:\n",
    "\n",
    "1. One\n",
    "2. Two\n",
    "3. Three\n",
    "\n",
    "Sometimes you want bullet points:\n",
    "\n",
    "* Start a line with a star\n",
    "* Profit!\n",
    "\n",
    "Alternatively,\n",
    "\n",
    "- Dashes work just as well\n",
    "- And if you have sub points, put two spaces before the dash or star:\n",
    "  - Like this\n",
    "  - And this\n"
   ]
  },
  {
   "cell_type": "markdown",
   "metadata": {
    "slideshow": {
     "slide_type": "slide"
    }
   },
   "source": [
    "# Lists\n",
    "\n",
    "Sometimes you want numbered lists:\n",
    "\n",
    "1. One\n",
    "2. Two\n",
    "3. Three\n",
    "\n",
    "Sometimes you want bullet points:\n",
    "\n",
    "* Start a line with a star\n",
    "* Profit!\n",
    "\n",
    "Alternatively,\n",
    "\n",
    "- Dashes work just as well\n",
    "- And if you have sub points, put two spaces before the dash or star:\n",
    "  - Like this\n",
    "  - And this\n"
   ]
  },
  {
   "cell_type": "raw",
   "metadata": {
    "slideshow": {
     "slide_type": "slide"
    }
   },
   "source": [
    "# Images\n",
    "\n",
    "If you want to embed images, this is how you do it:\n",
    "\n",
    "![Image of Yaktocat](https://octodex.github.com/images/yaktocat.png)\n",
    "\n"
   ]
  },
  {
   "cell_type": "markdown",
   "metadata": {
    "slideshow": {
     "slide_type": "slide"
    }
   },
   "source": [
    "# Images\n",
    "\n",
    "If you want to embed images, this is how you do it:\n",
    "\n",
    "![Image of Yaktocat](https://octodex.github.com/images/yaktocat.png)\n"
   ]
  },
  {
   "cell_type": "raw",
   "metadata": {
    "slideshow": {
     "slide_type": "slide"
    }
   },
   "source": [
    "# Headers & Quotes\n",
    "\n",
    "Sometimes it's useful to have different levels of headings to structure your documents. Start lines with a `#` to create headings. Multiple `##` in a row denote smaller heading sizes.\n",
    "\n",
    "### This is a third-tier heading\n",
    "\n",
    "You can use one `#` all the way up to `######` six for different heading sizes.\n",
    "\n",
    "If you'd like to quote someone, use the > character before the line:\n",
    "\n",
    "> Coffee. The finest organic suspension ever devised... I beat the Borg with it.\n",
    "> - Captain Janeway"
   ]
  },
  {
   "cell_type": "markdown",
   "metadata": {
    "slideshow": {
     "slide_type": "slide"
    }
   },
   "source": [
    "# Headers & Quotes\n",
    "\n",
    "Sometimes it's useful to have different levels of headings to structure your documents. Start lines with a `#` to create headings. Multiple `##` in a row denote smaller heading sizes.\n",
    "\n",
    "### This is a third-tier heading\n",
    "\n",
    "You can use one `#` all the way up to `######` six for different heading sizes.\n",
    "\n",
    "If you'd like to quote someone, use the > character before the line:\n",
    "\n",
    "> Coffee. The finest organic suspension ever devised... I beat the Borg with it.\n",
    "> - Captain Janeway"
   ]
  },
  {
   "cell_type": "code",
   "execution_count": null,
   "metadata": {},
   "outputs": [],
   "source": []
  }
 ],
 "metadata": {
  "celltoolbar": "Slideshow",
  "kernelspec": {
   "display_name": "Python 3",
   "language": "python",
   "name": "python3"
  },
  "language_info": {
   "codemirror_mode": {
    "name": "ipython",
    "version": 3
   },
   "file_extension": ".py",
   "mimetype": "text/x-python",
   "name": "python",
   "nbconvert_exporter": "python",
   "pygments_lexer": "ipython3",
   "version": "3.7.3"
  }
 },
 "nbformat": 4,
 "nbformat_minor": 2
}
