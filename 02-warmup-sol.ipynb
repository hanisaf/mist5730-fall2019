{
 "cells": [
  {
   "cell_type": "markdown",
   "metadata": {},
   "source": [
    "Refer to [the University of Georgia by the Numbers Page](https://www.uga.edu/facts.php)\n",
    "\n",
    "Reconstruct (most) of this page using markdown in this notebook"
   ]
  },
  {
   "cell_type": "markdown",
   "metadata": {},
   "source": [
    "# UGA by the Numbers\n",
    "\n",
    "**Founded:**\n",
    "\n",
    ">    January 27, 1785, by the Georgia General Assembly. UGA is the birthplace of public higher education in America. \n",
    "\n",
    "**Location:**\n",
    "\n",
    ">    Athens, Georgia (Clarke County), about 60 miles northeast of downtown Atlanta.\n",
    "\n",
    "**Size:**\n",
    "\n",
    ">    Main campus: 465 buildings on 762 acres.\n",
    ">    Total acreage in 31 Georgia counties: 39,743 acres \n",
    "\n",
    "**Work Force**\n",
    "\n",
    ">    (As of October 2017)\n",
    ">\n",
    ">    Faculty (instruction/research/public service): 3,045\n",
    ">\n",
    ">    Administrative/other professional: 2,970\n",
    ">\n",
    ">    Technical/clerical/crafts/maintenance: 4,726\n",
    ">\n",
    ">    **Total: 10,741**\n",
    "\n",
    "**Annual Budget (FY 2018):**\n",
    "\n",
    ">    $1.64 billion\n",
    "\n",
    "**Research (FY 2017)**\n",
    "\n",
    ">    Research and development expenditures: \\$455 million\n",
    ">\n",
    "> Licensing Revenue: $10.6 million \n",
    "\n",
    "**Schools and Colleges**\n",
    "\n",
    ">    The University of Georgia is a comprehensive land and sea grant institution composed of 17 schools and colleges. They are, in order of founding:\n",
    ">\n",
    ">       - Franklin College of Arts and Sciences, 1801\n",
    ">       - College of Agricultural and Environmental Sciences, 1859\n",
    ">       - School of Law, 1859\n",
    ">       - College of Pharmacy, 1903\n",
    ">       - Daniel B. Warnell School of Forestry and Natural Resources, 1906\n",
    ">       - College of Education, 1908\n",
    ">       - Graduate School, 1910\n",
    ">       - C. Herman and Mary Virginia Terry College of Business, 1912\n",
    ">       - Henry W. Grady College of Journalism and Mass Communication, 1915\n",
    ">       - College of Family and Consumer Sciences, 1918\n",
    ">       - College of Veterinary Medicine, 1946\n",
    ">       - School of Social Work, 1964\n",
    ">       - College of Environment and Design, 1969\n",
    ">       - School of Public and International Affairs, 2001\n",
    ">       - College of Public Health, 2005\n",
    ">       - Eugene P. Odum School of Ecology, 2007\n",
    ">       - College of Engineering, 2012\n",
    ">\n",
    ">    The university is also home to the Augusta University/University of Georgia Medical Partnership.\n"
   ]
  },
  {
   "cell_type": "code",
   "execution_count": null,
   "metadata": {},
   "outputs": [],
   "source": []
  }
 ],
 "metadata": {
  "kernelspec": {
   "display_name": "Python 3",
   "language": "python",
   "name": "python3"
  },
  "language_info": {
   "codemirror_mode": {
    "name": "ipython",
    "version": 3
   },
   "file_extension": ".py",
   "mimetype": "text/x-python",
   "name": "python",
   "nbconvert_exporter": "python",
   "pygments_lexer": "ipython3",
   "version": "3.7.1"
  }
 },
 "nbformat": 4,
 "nbformat_minor": 2
}
