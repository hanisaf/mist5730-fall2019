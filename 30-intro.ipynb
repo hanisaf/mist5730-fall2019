{
 "cells": [
  {
   "cell_type": "markdown",
   "metadata": {
    "colab_type": "text",
    "id": "YueLLjO8YJLK",
    "slideshow": {
     "slide_type": "slide"
    }
   },
   "source": [
    "# Introduction to Altair\n",
    "\n",
    "[Altair](https://altair-viz.github.io/) is a declarative statistical visualization library for Python. Altair offers a powerful and concise visualization grammar for quickly building a wide range of statistical graphics.\n",
    "\n",
    "By *declarative*, we mean that you can provide a high-level specification of *what* you want the visualization to include, in terms of *data*, *graphical marks*, and *encoding channels*, rather than having to specify *how* to implement the visualization in terms of for-loops, low-level drawing commands, *etc*. The key idea is that you declare links between data fields and visual encoding channels, such as the x-axis, y-axis, color, *etc*. The rest of the plot details are handled automatically. Building on this declarative plotting idea, a surprising range of simple to sophisticated visualizations can be created using a concise grammar."
   ]
  },
  {
   "cell_type": "markdown",
   "metadata": {
    "colab_type": "text",
    "id": "Wy1RJr6YaIWG",
    "slideshow": {
     "slide_type": "slide"
    }
   },
   "source": [
    "## Imports\n",
    "\n",
    "To start, we must import the necessary libraries: Pandas for data frames and Altair for visualization."
   ]
  },
  {
   "cell_type": "code",
   "execution_count": 1,
   "metadata": {
    "colab": {},
    "colab_type": "code",
    "id": "zYMsJwmgJ4R7",
    "slideshow": {
     "slide_type": "slide"
    }
   },
   "outputs": [
    {
     "data": {
      "text/plain": [
       "RendererRegistry.enable('notebook')"
      ]
     },
     "execution_count": 1,
     "metadata": {},
     "output_type": "execute_result"
    }
   ],
   "source": [
    "import pandas as pd\n",
    "import altair as alt\n",
    "# use this line if you are in a Jupyter Notebook (not JupyterLab) environment\n",
    "alt.renderers.enable('notebook')"
   ]
  },
  {
   "cell_type": "markdown",
   "metadata": {
    "colab_type": "text",
    "id": "lTWpkCvO8sjI",
    "slideshow": {
     "slide_type": "slide"
    }
   },
   "source": [
    "### Weather Data\n",
    "\n",
    "Statistical visualization in Altair begins with [\"tidy\"](http://vita.had.co.nz/papers/tidy-data.html) data frames. Here, we'll start by creating a simple data frame (`df`) containing the average precipitation (`precip`) for a given `city` and `month` :"
   ]
  },
  {
   "cell_type": "code",
   "execution_count": 2,
   "metadata": {
    "colab": {
     "base_uri": "https://localhost:8080/",
     "height": 328
    },
    "colab_type": "code",
    "id": "Zad2hV5G72j2",
    "outputId": "27129375-c1a3-429a-e4a4-f8ed2c5e0263",
    "slideshow": {
     "slide_type": "slide"
    }
   },
   "outputs": [
    {
     "data": {
      "text/html": [
       "<div>\n",
       "<style scoped>\n",
       "    .dataframe tbody tr th:only-of-type {\n",
       "        vertical-align: middle;\n",
       "    }\n",
       "\n",
       "    .dataframe tbody tr th {\n",
       "        vertical-align: top;\n",
       "    }\n",
       "\n",
       "    .dataframe thead th {\n",
       "        text-align: right;\n",
       "    }\n",
       "</style>\n",
       "<table border=\"1\" class=\"dataframe\">\n",
       "  <thead>\n",
       "    <tr style=\"text-align: right;\">\n",
       "      <th></th>\n",
       "      <th>city</th>\n",
       "      <th>month</th>\n",
       "      <th>precip</th>\n",
       "    </tr>\n",
       "  </thead>\n",
       "  <tbody>\n",
       "    <tr>\n",
       "      <th>0</th>\n",
       "      <td>Seattle</td>\n",
       "      <td>Apr</td>\n",
       "      <td>2.68</td>\n",
       "    </tr>\n",
       "    <tr>\n",
       "      <th>1</th>\n",
       "      <td>Seattle</td>\n",
       "      <td>Aug</td>\n",
       "      <td>0.87</td>\n",
       "    </tr>\n",
       "    <tr>\n",
       "      <th>2</th>\n",
       "      <td>Seattle</td>\n",
       "      <td>Dec</td>\n",
       "      <td>5.31</td>\n",
       "    </tr>\n",
       "    <tr>\n",
       "      <th>3</th>\n",
       "      <td>New York</td>\n",
       "      <td>Apr</td>\n",
       "      <td>3.94</td>\n",
       "    </tr>\n",
       "    <tr>\n",
       "      <th>4</th>\n",
       "      <td>New York</td>\n",
       "      <td>Aug</td>\n",
       "      <td>4.13</td>\n",
       "    </tr>\n",
       "    <tr>\n",
       "      <th>5</th>\n",
       "      <td>New York</td>\n",
       "      <td>Dec</td>\n",
       "      <td>3.58</td>\n",
       "    </tr>\n",
       "    <tr>\n",
       "      <th>6</th>\n",
       "      <td>Chicago</td>\n",
       "      <td>Apr</td>\n",
       "      <td>3.62</td>\n",
       "    </tr>\n",
       "    <tr>\n",
       "      <th>7</th>\n",
       "      <td>Chicago</td>\n",
       "      <td>Aug</td>\n",
       "      <td>3.98</td>\n",
       "    </tr>\n",
       "    <tr>\n",
       "      <th>8</th>\n",
       "      <td>Chicago</td>\n",
       "      <td>Dec</td>\n",
       "      <td>2.56</td>\n",
       "    </tr>\n",
       "  </tbody>\n",
       "</table>\n",
       "</div>"
      ],
      "text/plain": [
       "       city month  precip\n",
       "0   Seattle   Apr    2.68\n",
       "1   Seattle   Aug    0.87\n",
       "2   Seattle   Dec    5.31\n",
       "3  New York   Apr    3.94\n",
       "4  New York   Aug    4.13\n",
       "5  New York   Dec    3.58\n",
       "6   Chicago   Apr    3.62\n",
       "7   Chicago   Aug    3.98\n",
       "8   Chicago   Dec    2.56"
      ]
     },
     "execution_count": 2,
     "metadata": {},
     "output_type": "execute_result"
    }
   ],
   "source": [
    "df = pd.DataFrame({\n",
    "    'city': ['Seattle', 'Seattle', 'Seattle', 'New York', 'New York', 'New York', 'Chicago', 'Chicago', 'Chicago'],\n",
    "    'month': ['Apr', 'Aug', 'Dec', 'Apr', 'Aug', 'Dec', 'Apr', 'Aug', 'Dec'],\n",
    "    'precip': [2.68, 0.87, 5.31, 3.94, 4.13, 3.58, 3.62, 3.98, 2.56]\n",
    "})\n",
    "\n",
    "df"
   ]
  },
  {
   "cell_type": "markdown",
   "metadata": {
    "colab_type": "text",
    "id": "ac427IWdb7xx",
    "slideshow": {
     "slide_type": "slide"
    }
   },
   "source": [
    "## The Chart Object\n",
    "\n",
    "The fundamental object in Altair is the `Chart`, which takes a data frame as a single argument:"
   ]
  },
  {
   "cell_type": "code",
   "execution_count": 3,
   "metadata": {
    "colab": {},
    "colab_type": "code",
    "id": "QqF4GKjDcG4y",
    "slideshow": {
     "slide_type": "slide"
    }
   },
   "outputs": [],
   "source": [
    "chart = alt.Chart(df)"
   ]
  },
  {
   "cell_type": "markdown",
   "metadata": {
    "colab_type": "text",
    "id": "9i5gX1tWcKAu",
    "slideshow": {
     "slide_type": "slide"
    }
   },
   "source": [
    "So far, we have defined the `Chart` object and passed it the simple data frame we generated above. We have not yet told the chart to *do* anything with the data."
   ]
  },
  {
   "cell_type": "markdown",
   "metadata": {
    "colab_type": "text",
    "id": "_z0gVCb8cNgx",
    "slideshow": {
     "slide_type": "slide"
    }
   },
   "source": [
    "## Marks and Encodings\n",
    "\n",
    "With a chart object in hand, we can now specify how we would like the data to be visualized. We first indicate what kind of graphical *mark* (geometric shape) we want to use to represent the data. We can set the `mark` attribute of the chart object using the the `Chart.mark_*` methods.\n",
    "\n",
    "For example, we can show the data as a point using `Chart.mark_point()`:"
   ]
  },
  {
   "cell_type": "code",
   "execution_count": 4,
   "metadata": {
    "colab": {
     "base_uri": "https://localhost:8080/",
     "height": 52
    },
    "colab_type": "code",
    "id": "NmlAmwX4cXzE",
    "outputId": "960ad0d0-ed22-4ebb-eff6-c652068d5b1e",
    "slideshow": {
     "slide_type": "slide"
    }
   },
   "outputs": [
    {
     "data": {
      "application/javascript": [
       "const spec = {\"config\": {\"view\": {\"width\": 400, \"height\": 300}, \"mark\": {\"tooltip\": null}}, \"data\": {\"name\": \"data-fdfbb22e8e0e89f6556d8a3b434b0c97\"}, \"mark\": \"point\", \"$schema\": \"https://vega.github.io/schema/vega-lite/v3.4.0.json\", \"datasets\": {\"data-fdfbb22e8e0e89f6556d8a3b434b0c97\": [{\"city\": \"Seattle\", \"month\": \"Apr\", \"precip\": 2.68}, {\"city\": \"Seattle\", \"month\": \"Aug\", \"precip\": 0.87}, {\"city\": \"Seattle\", \"month\": \"Dec\", \"precip\": 5.31}, {\"city\": \"New York\", \"month\": \"Apr\", \"precip\": 3.94}, {\"city\": \"New York\", \"month\": \"Aug\", \"precip\": 4.13}, {\"city\": \"New York\", \"month\": \"Dec\", \"precip\": 3.58}, {\"city\": \"Chicago\", \"month\": \"Apr\", \"precip\": 3.62}, {\"city\": \"Chicago\", \"month\": \"Aug\", \"precip\": 3.98}, {\"city\": \"Chicago\", \"month\": \"Dec\", \"precip\": 2.56}]}};\n",
       "const opt = {};\n",
       "const type = \"vega-lite\";\n",
       "const id = \"53d2f51d-e2f4-4718-9826-4b7b162f67dc\";\n",
       "\n",
       "const output_area = this;\n",
       "\n",
       "require([\"nbextensions/jupyter-vega/index\"], function(vega) {\n",
       "  const target = document.createElement(\"div\");\n",
       "  target.id = id;\n",
       "  target.className = \"vega-embed\";\n",
       "\n",
       "  const style = document.createElement(\"style\");\n",
       "  style.textContent = [\n",
       "    \".vega-embed .error p {\",\n",
       "    \"  color: firebrick;\",\n",
       "    \"  font-size: 14px;\",\n",
       "    \"}\",\n",
       "  ].join(\"\\\\n\");\n",
       "\n",
       "  // element is a jQuery wrapped DOM element inside the output area\n",
       "  // see http://ipython.readthedocs.io/en/stable/api/generated/\\\n",
       "  // IPython.display.html#IPython.display.Javascript.__init__\n",
       "  element[0].appendChild(target);\n",
       "  element[0].appendChild(style);\n",
       "\n",
       "  vega.render(\"#\" + id, spec, type, opt, output_area);\n",
       "}, function (err) {\n",
       "  if (err.requireType !== \"scripterror\") {\n",
       "    throw(err);\n",
       "  }\n",
       "});\n"
      ],
      "text/plain": [
       "<vega.vegalite.VegaLite at 0x7f90e93359e8>"
      ]
     },
     "metadata": {
      "jupyter-vega": "#53d2f51d-e2f4-4718-9826-4b7b162f67dc"
     },
     "output_type": "display_data"
    },
    {
     "data": {
      "text/plain": []
     },
     "execution_count": 4,
     "metadata": {},
     "output_type": "execute_result"
    },
    {
     "data": {
      "image/png": "[encoded data removed]"
     },
     "metadata": {
      "jupyter-vega": "#53d2f51d-e2f4-4718-9826-4b7b162f67dc"
     },
     "output_type": "display_data"
    }
   ],
   "source": [
    "alt.Chart(df).mark_point()"
   ]
  },
  {
   "cell_type": "markdown",
   "metadata": {
    "colab_type": "text",
    "id": "Gudr0jvVcgAi",
    "slideshow": {
     "slide_type": "slide"
    }
   },
   "source": [
    "Here the rendering consists of one point per row in the dataset, all plotted on top of each other, since we have not yet specified positions for these points.\n",
    "\n",
    "To visually separate the points, we can map various *encoding channels*, or *channels* for short, to fields in the dataset. For example, we could *encode* the field `city` of the data using the `y` channel, which represents the y-axis position of the points. To specify this, use the `encode` method:\n"
   ]
  },
  {
   "cell_type": "code",
   "execution_count": 5,
   "metadata": {
    "colab": {
     "base_uri": "https://localhost:8080/",
     "height": 94
    },
    "colab_type": "code",
    "id": "lEWZ7mWTcrik",
    "outputId": "88da80a6-f46f-4fc6-c27e-f139e372f6ff",
    "slideshow": {
     "slide_type": "slide"
    }
   },
   "outputs": [
    {
     "data": {
      "application/javascript": [
       "const spec = {\"config\": {\"view\": {\"width\": 400, \"height\": 300}, \"mark\": {\"tooltip\": null}}, \"data\": {\"name\": \"data-fdfbb22e8e0e89f6556d8a3b434b0c97\"}, \"mark\": \"point\", \"encoding\": {\"y\": {\"type\": \"nominal\", \"field\": \"city\"}}, \"$schema\": \"https://vega.github.io/schema/vega-lite/v3.4.0.json\", \"datasets\": {\"data-fdfbb22e8e0e89f6556d8a3b434b0c97\": [{\"city\": \"Seattle\", \"month\": \"Apr\", \"precip\": 2.68}, {\"city\": \"Seattle\", \"month\": \"Aug\", \"precip\": 0.87}, {\"city\": \"Seattle\", \"month\": \"Dec\", \"precip\": 5.31}, {\"city\": \"New York\", \"month\": \"Apr\", \"precip\": 3.94}, {\"city\": \"New York\", \"month\": \"Aug\", \"precip\": 4.13}, {\"city\": \"New York\", \"month\": \"Dec\", \"precip\": 3.58}, {\"city\": \"Chicago\", \"month\": \"Apr\", \"precip\": 3.62}, {\"city\": \"Chicago\", \"month\": \"Aug\", \"precip\": 3.98}, {\"city\": \"Chicago\", \"month\": \"Dec\", \"precip\": 2.56}]}};\n",
       "const opt = {};\n",
       "const type = \"vega-lite\";\n",
       "const id = \"5ac44b0d-6486-4b1a-a825-c28facf4d67f\";\n",
       "\n",
       "const output_area = this;\n",
       "\n",
       "require([\"nbextensions/jupyter-vega/index\"], function(vega) {\n",
       "  const target = document.createElement(\"div\");\n",
       "  target.id = id;\n",
       "  target.className = \"vega-embed\";\n",
       "\n",
       "  const style = document.createElement(\"style\");\n",
       "  style.textContent = [\n",
       "    \".vega-embed .error p {\",\n",
       "    \"  color: firebrick;\",\n",
       "    \"  font-size: 14px;\",\n",
       "    \"}\",\n",
       "  ].join(\"\\\\n\");\n",
       "\n",
       "  // element is a jQuery wrapped DOM element inside the output area\n",
       "  // see http://ipython.readthedocs.io/en/stable/api/generated/\\\n",
       "  // IPython.display.html#IPython.display.Javascript.__init__\n",
       "  element[0].appendChild(target);\n",
       "  element[0].appendChild(style);\n",
       "\n",
       "  vega.render(\"#\" + id, spec, type, opt, output_area);\n",
       "}, function (err) {\n",
       "  if (err.requireType !== \"scripterror\") {\n",
       "    throw(err);\n",
       "  }\n",
       "});\n"
      ],
      "text/plain": [
       "<vega.vegalite.VegaLite at 0x7f90d886acf8>"
      ]
     },
     "metadata": {
      "jupyter-vega": "#5ac44b0d-6486-4b1a-a825-c28facf4d67f"
     },
     "output_type": "display_data"
    },
    {
     "data": {
      "text/plain": []
     },
     "execution_count": 5,
     "metadata": {},
     "output_type": "execute_result"
    },
    {
     "data": {
      "image/png": "[encoded data removed]"
     },
     "metadata": {
      "jupyter-vega": "#5ac44b0d-6486-4b1a-a825-c28facf4d67f"
     },
     "output_type": "display_data"
    }
   ],
   "source": [
    "alt.Chart(df).mark_point().encode(\n",
    "  y='city',\n",
    ")"
   ]
  },
  {
   "cell_type": "markdown",
   "metadata": {
    "colab_type": "text",
    "id": "wbHHAt-8czdt",
    "slideshow": {
     "slide_type": "slide"
    }
   },
   "source": [
    "The `encode()` method builds a key-value mapping between encoding channels (such as `x`, `y`, `color`, `shape`, `size`, *etc.*) to fields in the dataset, accessed by field name. For Pandas data frames, Altair automatically determines an appropriate data type for the mapped column, which in this case is the *nominal* type, indicating unordered, categorical values.\n",
    "\n",
    "Though we've now separated the data by one attribute, we still have multiple points overlapping within each category. Let's further separate these by adding an `x` encoding channel, mapped to the `'precip'` field:"
   ]
  },
  {
   "cell_type": "code",
   "execution_count": 6,
   "metadata": {
    "colab": {
     "base_uri": "https://localhost:8080/",
     "height": 129
    },
    "colab_type": "code",
    "id": "gVbE3h7zdDsL",
    "outputId": "ec3f1aa3-b6e0-41c1-ee00-06f3a587613a",
    "slideshow": {
     "slide_type": "slide"
    }
   },
   "outputs": [
    {
     "data": {
      "application/javascript": [
       "const spec = {\"config\": {\"view\": {\"width\": 400, \"height\": 300}, \"mark\": {\"tooltip\": null}}, \"data\": {\"name\": \"data-fdfbb22e8e0e89f6556d8a3b434b0c97\"}, \"mark\": \"point\", \"encoding\": {\"x\": {\"type\": \"quantitative\", \"field\": \"precip\"}, \"y\": {\"type\": \"nominal\", \"field\": \"city\"}}, \"$schema\": \"https://vega.github.io/schema/vega-lite/v3.4.0.json\", \"datasets\": {\"data-fdfbb22e8e0e89f6556d8a3b434b0c97\": [{\"city\": \"Seattle\", \"month\": \"Apr\", \"precip\": 2.68}, {\"city\": \"Seattle\", \"month\": \"Aug\", \"precip\": 0.87}, {\"city\": \"Seattle\", \"month\": \"Dec\", \"precip\": 5.31}, {\"city\": \"New York\", \"month\": \"Apr\", \"precip\": 3.94}, {\"city\": \"New York\", \"month\": \"Aug\", \"precip\": 4.13}, {\"city\": \"New York\", \"month\": \"Dec\", \"precip\": 3.58}, {\"city\": \"Chicago\", \"month\": \"Apr\", \"precip\": 3.62}, {\"city\": \"Chicago\", \"month\": \"Aug\", \"precip\": 3.98}, {\"city\": \"Chicago\", \"month\": \"Dec\", \"precip\": 2.56}]}};\n",
       "const opt = {};\n",
       "const type = \"vega-lite\";\n",
       "const id = \"435ada76-5a96-4719-bceb-c233aa6b6526\";\n",
       "\n",
       "const output_area = this;\n",
       "\n",
       "require([\"nbextensions/jupyter-vega/index\"], function(vega) {\n",
       "  const target = document.createElement(\"div\");\n",
       "  target.id = id;\n",
       "  target.className = \"vega-embed\";\n",
       "\n",
       "  const style = document.createElement(\"style\");\n",
       "  style.textContent = [\n",
       "    \".vega-embed .error p {\",\n",
       "    \"  color: firebrick;\",\n",
       "    \"  font-size: 14px;\",\n",
       "    \"}\",\n",
       "  ].join(\"\\\\n\");\n",
       "\n",
       "  // element is a jQuery wrapped DOM element inside the output area\n",
       "  // see http://ipython.readthedocs.io/en/stable/api/generated/\\\n",
       "  // IPython.display.html#IPython.display.Javascript.__init__\n",
       "  element[0].appendChild(target);\n",
       "  element[0].appendChild(style);\n",
       "\n",
       "  vega.render(\"#\" + id, spec, type, opt, output_area);\n",
       "}, function (err) {\n",
       "  if (err.requireType !== \"scripterror\") {\n",
       "    throw(err);\n",
       "  }\n",
       "});\n"
      ],
      "text/plain": [
       "<vega.vegalite.VegaLite at 0x7f90e8c69f98>"
      ]
     },
     "metadata": {
      "jupyter-vega": "#435ada76-5a96-4719-bceb-c233aa6b6526"
     },
     "output_type": "display_data"
    },
    {
     "data": {
      "text/plain": []
     },
     "execution_count": 6,
     "metadata": {},
     "output_type": "execute_result"
    },
    {
     "data": {
      "image/png": "[encoded data removed]"
     },
     "metadata": {
      "jupyter-vega": "#435ada76-5a96-4719-bceb-c233aa6b6526"
     },
     "output_type": "display_data"
    }
   ],
   "source": [
    "alt.Chart(df).mark_point().encode(\n",
    "    x='precip',\n",
    "    y='city'\n",
    ")"
   ]
  },
  {
   "cell_type": "code",
   "execution_count": 7,
   "metadata": {
    "colab": {
     "base_uri": "https://localhost:8080/",
     "height": 129
    },
    "colab_type": "code",
    "id": "vBCCcBMxnfHW",
    "outputId": "691ce8df-1978-4b2f-eeb0-7d79a7d77db3",
    "slideshow": {
     "slide_type": "slide"
    }
   },
   "outputs": [
    {
     "data": {
      "application/javascript": [
       "const spec = {\"config\": {\"view\": {\"width\": 400, \"height\": 300}, \"mark\": {\"tooltip\": null}}, \"data\": {\"name\": \"data-fdfbb22e8e0e89f6556d8a3b434b0c97\"}, \"mark\": \"point\", \"encoding\": {\"x\": {\"type\": \"quantitative\", \"field\": \"precip\"}, \"y\": {\"type\": \"nominal\", \"field\": \"city\"}}, \"$schema\": \"https://vega.github.io/schema/vega-lite/v3.4.0.json\", \"datasets\": {\"data-fdfbb22e8e0e89f6556d8a3b434b0c97\": [{\"city\": \"Seattle\", \"month\": \"Apr\", \"precip\": 2.68}, {\"city\": \"Seattle\", \"month\": \"Aug\", \"precip\": 0.87}, {\"city\": \"Seattle\", \"month\": \"Dec\", \"precip\": 5.31}, {\"city\": \"New York\", \"month\": \"Apr\", \"precip\": 3.94}, {\"city\": \"New York\", \"month\": \"Aug\", \"precip\": 4.13}, {\"city\": \"New York\", \"month\": \"Dec\", \"precip\": 3.58}, {\"city\": \"Chicago\", \"month\": \"Apr\", \"precip\": 3.62}, {\"city\": \"Chicago\", \"month\": \"Aug\", \"precip\": 3.98}, {\"city\": \"Chicago\", \"month\": \"Dec\", \"precip\": 2.56}]}};\n",
       "const opt = {};\n",
       "const type = \"vega-lite\";\n",
       "const id = \"ba4b554b-1274-4dab-a6ed-690bd561dd64\";\n",
       "\n",
       "const output_area = this;\n",
       "\n",
       "require([\"nbextensions/jupyter-vega/index\"], function(vega) {\n",
       "  const target = document.createElement(\"div\");\n",
       "  target.id = id;\n",
       "  target.className = \"vega-embed\";\n",
       "\n",
       "  const style = document.createElement(\"style\");\n",
       "  style.textContent = [\n",
       "    \".vega-embed .error p {\",\n",
       "    \"  color: firebrick;\",\n",
       "    \"  font-size: 14px;\",\n",
       "    \"}\",\n",
       "  ].join(\"\\\\n\");\n",
       "\n",
       "  // element is a jQuery wrapped DOM element inside the output area\n",
       "  // see http://ipython.readthedocs.io/en/stable/api/generated/\\\n",
       "  // IPython.display.html#IPython.display.Javascript.__init__\n",
       "  element[0].appendChild(target);\n",
       "  element[0].appendChild(style);\n",
       "\n",
       "  vega.render(\"#\" + id, spec, type, opt, output_area);\n",
       "}, function (err) {\n",
       "  if (err.requireType !== \"scripterror\") {\n",
       "    throw(err);\n",
       "  }\n",
       "});\n"
      ],
      "text/plain": [
       "<vega.vegalite.VegaLite at 0x7f90d886ab70>"
      ]
     },
     "metadata": {
      "jupyter-vega": "#ba4b554b-1274-4dab-a6ed-690bd561dd64"
     },
     "output_type": "display_data"
    },
    {
     "data": {
      "text/plain": []
     },
     "execution_count": 7,
     "metadata": {},
     "output_type": "execute_result"
    },
    {
     "data": {
      "image/png": "[encoded data removed]"
     },
     "metadata": {
      "jupyter-vega": "#ba4b554b-1274-4dab-a6ed-690bd561dd64"
     },
     "output_type": "display_data"
    }
   ],
   "source": [
    "alt.Chart(df).mark_point().encode(\n",
    "    alt.X('precip'),\n",
    "    alt.Y('city')\n",
    ")"
   ]
  },
  {
   "cell_type": "markdown",
   "metadata": {
    "colab_type": "text",
    "id": "-HeJcwblnl10",
    "slideshow": {
     "slide_type": "slide"
    }
   },
   "source": [
    "The two styles of specifying encodings can be interleaved: `x='precip', alt.Y('city')` is also a valid input to the `encode` function.\n",
    "\n",
    "In the examples above, the data type for each field is inferred automatically based on its type within the Pandas data frame. We can also explicitly indicate the data type to Altair by annotating the field name:\n",
    "\n",
    "- `'b:N'` indicates a *nominal* type (unordered, categorical data),\n",
    "- `'b:O'` indicates an *ordinal* type (rank-ordered data),\n",
    "- `'b:Q'` indicates a *quantitative* type (numerical data with meaningful magnitudes), and\n",
    "- `'b:T'` indicates a *temporal* type (date/time data)\n",
    "\n",
    "Explicit annotation of data types is necessary when data is loaded from an external URL directly by Vega-Lite (skipping Pandas entirely), or when we wish to use a type that differs from the type that was automatically inferred.\n",
    "\n",
    "What do you think will happen to our chart above if we treat `precip` as a nominal or ordinal variable, rather than a quantitative variable? _Modify the code above and find out!_\n",
    "\n",
    "We will take a closer look at data types and encoding channels in the next notebook."
   ]
  },
  {
   "cell_type": "markdown",
   "metadata": {
    "colab_type": "text",
    "id": "RvSRRA64pY9_",
    "slideshow": {
     "slide_type": "slide"
    }
   },
   "source": [
    "## Data Transformation: Aggregation\n",
    "\n",
    "To allow for more flexibility in how data are visualized, Altair has a built-in syntax for *aggregation* of data. For example, we can compute the average of all values by specifying an aggregation function along with the field name:"
   ]
  },
  {
   "cell_type": "code",
   "execution_count": 8,
   "metadata": {
    "colab": {
     "base_uri": "https://localhost:8080/",
     "height": 129
    },
    "colab_type": "code",
    "id": "trTABsxDpgKT",
    "outputId": "82847271-8dc6-4a2f-9496-de1d4ba4a58b",
    "slideshow": {
     "slide_type": "slide"
    }
   },
   "outputs": [
    {
     "data": {
      "application/javascript": [
       "const spec = {\"config\": {\"view\": {\"width\": 400, \"height\": 300}, \"mark\": {\"tooltip\": null}}, \"data\": {\"name\": \"data-fdfbb22e8e0e89f6556d8a3b434b0c97\"}, \"mark\": \"point\", \"encoding\": {\"x\": {\"type\": \"quantitative\", \"aggregate\": \"average\", \"field\": \"precip\"}, \"y\": {\"type\": \"nominal\", \"field\": \"city\"}}, \"$schema\": \"https://vega.github.io/schema/vega-lite/v3.4.0.json\", \"datasets\": {\"data-fdfbb22e8e0e89f6556d8a3b434b0c97\": [{\"city\": \"Seattle\", \"month\": \"Apr\", \"precip\": 2.68}, {\"city\": \"Seattle\", \"month\": \"Aug\", \"precip\": 0.87}, {\"city\": \"Seattle\", \"month\": \"Dec\", \"precip\": 5.31}, {\"city\": \"New York\", \"month\": \"Apr\", \"precip\": 3.94}, {\"city\": \"New York\", \"month\": \"Aug\", \"precip\": 4.13}, {\"city\": \"New York\", \"month\": \"Dec\", \"precip\": 3.58}, {\"city\": \"Chicago\", \"month\": \"Apr\", \"precip\": 3.62}, {\"city\": \"Chicago\", \"month\": \"Aug\", \"precip\": 3.98}, {\"city\": \"Chicago\", \"month\": \"Dec\", \"precip\": 2.56}]}};\n",
       "const opt = {};\n",
       "const type = \"vega-lite\";\n",
       "const id = \"db7fe216-9809-437f-b2fe-c4330861aaea\";\n",
       "\n",
       "const output_area = this;\n",
       "\n",
       "require([\"nbextensions/jupyter-vega/index\"], function(vega) {\n",
       "  const target = document.createElement(\"div\");\n",
       "  target.id = id;\n",
       "  target.className = \"vega-embed\";\n",
       "\n",
       "  const style = document.createElement(\"style\");\n",
       "  style.textContent = [\n",
       "    \".vega-embed .error p {\",\n",
       "    \"  color: firebrick;\",\n",
       "    \"  font-size: 14px;\",\n",
       "    \"}\",\n",
       "  ].join(\"\\\\n\");\n",
       "\n",
       "  // element is a jQuery wrapped DOM element inside the output area\n",
       "  // see http://ipython.readthedocs.io/en/stable/api/generated/\\\n",
       "  // IPython.display.html#IPython.display.Javascript.__init__\n",
       "  element[0].appendChild(target);\n",
       "  element[0].appendChild(style);\n",
       "\n",
       "  vega.render(\"#\" + id, spec, type, opt, output_area);\n",
       "}, function (err) {\n",
       "  if (err.requireType !== \"scripterror\") {\n",
       "    throw(err);\n",
       "  }\n",
       "});\n"
      ],
      "text/plain": [
       "<vega.vegalite.VegaLite at 0x7f90c8c47ba8>"
      ]
     },
     "metadata": {
      "jupyter-vega": "#db7fe216-9809-437f-b2fe-c4330861aaea"
     },
     "output_type": "display_data"
    },
    {
     "data": {
      "text/plain": []
     },
     "execution_count": 8,
     "metadata": {},
     "output_type": "execute_result"
    },
    {
     "data": {
      "image/png": "[encoded data removed]"
     },
     "metadata": {
      "jupyter-vega": "#db7fe216-9809-437f-b2fe-c4330861aaea"
     },
     "output_type": "display_data"
    }
   ],
   "source": [
    "alt.Chart(df).mark_point().encode(\n",
    "    x='average(precip)',\n",
    "    y='city'\n",
    ")"
   ]
  },
  {
   "cell_type": "markdown",
   "metadata": {
    "colab_type": "text",
    "id": "za5tU5qRpqkF",
    "slideshow": {
     "slide_type": "slide"
    }
   },
   "source": [
    "Now within each x-axis category, we see a single point reflecting the *average* of the values within that category.\n",
    "\n",
    "_Does Seattle really have the lowest average precipitation of these cities? (It does!) Still, how might this plot mislead? Which months are included? What counts as precipitation?_\n",
    "\n",
    "Altair supports a variety of aggregation functions, including `count`, `min` (minimum), `max` (maximum), `average`, `median`, and `stdev` (standard deviation). In a later notebook, we will take a tour of data transformations, including aggregation, sorting, filtering, and creation of new derived fields using calculation formulas."
   ]
  },
  {
   "cell_type": "markdown",
   "metadata": {
    "colab_type": "text",
    "id": "_qt-r1YsqbjG",
    "slideshow": {
     "slide_type": "slide"
    }
   },
   "source": [
    "## Changing the Mark Type\n",
    "\n",
    "Let's say we want to represent our aggregated values using rectangular bars rather than circular points. We can do this by replacing `Chart.mark_point` with `Chart.mark_bar`:"
   ]
  },
  {
   "cell_type": "code",
   "execution_count": 9,
   "metadata": {
    "colab": {
     "base_uri": "https://localhost:8080/",
     "height": 129
    },
    "colab_type": "code",
    "id": "oPyDGea7p6XR",
    "outputId": "6e1c1a06-d0ad-4b82-c964-60b211b4f714",
    "slideshow": {
     "slide_type": "slide"
    }
   },
   "outputs": [
    {
     "data": {
      "application/javascript": [
       "const spec = {\"config\": {\"view\": {\"width\": 400, \"height\": 300}, \"mark\": {\"tooltip\": null}}, \"data\": {\"name\": \"data-fdfbb22e8e0e89f6556d8a3b434b0c97\"}, \"mark\": \"bar\", \"encoding\": {\"x\": {\"type\": \"quantitative\", \"aggregate\": \"average\", \"field\": \"precip\"}, \"y\": {\"type\": \"nominal\", \"field\": \"city\"}}, \"$schema\": \"https://vega.github.io/schema/vega-lite/v3.4.0.json\", \"datasets\": {\"data-fdfbb22e8e0e89f6556d8a3b434b0c97\": [{\"city\": \"Seattle\", \"month\": \"Apr\", \"precip\": 2.68}, {\"city\": \"Seattle\", \"month\": \"Aug\", \"precip\": 0.87}, {\"city\": \"Seattle\", \"month\": \"Dec\", \"precip\": 5.31}, {\"city\": \"New York\", \"month\": \"Apr\", \"precip\": 3.94}, {\"city\": \"New York\", \"month\": \"Aug\", \"precip\": 4.13}, {\"city\": \"New York\", \"month\": \"Dec\", \"precip\": 3.58}, {\"city\": \"Chicago\", \"month\": \"Apr\", \"precip\": 3.62}, {\"city\": \"Chicago\", \"month\": \"Aug\", \"precip\": 3.98}, {\"city\": \"Chicago\", \"month\": \"Dec\", \"precip\": 2.56}]}};\n",
       "const opt = {};\n",
       "const type = \"vega-lite\";\n",
       "const id = \"c7aee6fa-12be-4efe-a7d8-91e933708e57\";\n",
       "\n",
       "const output_area = this;\n",
       "\n",
       "require([\"nbextensions/jupyter-vega/index\"], function(vega) {\n",
       "  const target = document.createElement(\"div\");\n",
       "  target.id = id;\n",
       "  target.className = \"vega-embed\";\n",
       "\n",
       "  const style = document.createElement(\"style\");\n",
       "  style.textContent = [\n",
       "    \".vega-embed .error p {\",\n",
       "    \"  color: firebrick;\",\n",
       "    \"  font-size: 14px;\",\n",
       "    \"}\",\n",
       "  ].join(\"\\\\n\");\n",
       "\n",
       "  // element is a jQuery wrapped DOM element inside the output area\n",
       "  // see http://ipython.readthedocs.io/en/stable/api/generated/\\\n",
       "  // IPython.display.html#IPython.display.Javascript.__init__\n",
       "  element[0].appendChild(target);\n",
       "  element[0].appendChild(style);\n",
       "\n",
       "  vega.render(\"#\" + id, spec, type, opt, output_area);\n",
       "}, function (err) {\n",
       "  if (err.requireType !== \"scripterror\") {\n",
       "    throw(err);\n",
       "  }\n",
       "});\n"
      ],
      "text/plain": [
       "<vega.vegalite.VegaLite at 0x7f90c8c526a0>"
      ]
     },
     "metadata": {
      "jupyter-vega": "#c7aee6fa-12be-4efe-a7d8-91e933708e57"
     },
     "output_type": "display_data"
    },
    {
     "data": {
      "text/plain": []
     },
     "execution_count": 9,
     "metadata": {},
     "output_type": "execute_result"
    },
    {
     "data": {
      "image/png": "[encoded data removed]"
     },
     "metadata": {
      "jupyter-vega": "#c7aee6fa-12be-4efe-a7d8-91e933708e57"
     },
     "output_type": "display_data"
    }
   ],
   "source": [
    "alt.Chart(df).mark_bar().encode(\n",
    "    x='average(precip)',\n",
    "    y='city'\n",
    ")"
   ]
  },
  {
   "cell_type": "markdown",
   "metadata": {
    "colab_type": "text",
    "id": "i0ETgOZZp60k",
    "slideshow": {
     "slide_type": "slide"
    }
   },
   "source": [
    "Because the nominal field `a` is mapped to the `y`-axis, the result is a horizontal bar chart. To get a vertical bar chart, we can simply swap the `x` and `y` keywords:"
   ]
  },
  {
   "cell_type": "code",
   "execution_count": 10,
   "metadata": {
    "colab": {
     "base_uri": "https://localhost:8080/",
     "height": 405
    },
    "colab_type": "code",
    "id": "h5CALzADqPIT",
    "outputId": "0d5d2a07-76d9-45a2-ea2f-a469730f802f",
    "slideshow": {
     "slide_type": "slide"
    }
   },
   "outputs": [
    {
     "data": {
      "application/javascript": [
       "const spec = {\"config\": {\"view\": {\"width\": 400, \"height\": 300}, \"mark\": {\"tooltip\": null}}, \"data\": {\"name\": \"data-fdfbb22e8e0e89f6556d8a3b434b0c97\"}, \"mark\": \"bar\", \"encoding\": {\"x\": {\"type\": \"nominal\", \"field\": \"city\"}, \"y\": {\"type\": \"quantitative\", \"aggregate\": \"average\", \"field\": \"precip\"}}, \"$schema\": \"https://vega.github.io/schema/vega-lite/v3.4.0.json\", \"datasets\": {\"data-fdfbb22e8e0e89f6556d8a3b434b0c97\": [{\"city\": \"Seattle\", \"month\": \"Apr\", \"precip\": 2.68}, {\"city\": \"Seattle\", \"month\": \"Aug\", \"precip\": 0.87}, {\"city\": \"Seattle\", \"month\": \"Dec\", \"precip\": 5.31}, {\"city\": \"New York\", \"month\": \"Apr\", \"precip\": 3.94}, {\"city\": \"New York\", \"month\": \"Aug\", \"precip\": 4.13}, {\"city\": \"New York\", \"month\": \"Dec\", \"precip\": 3.58}, {\"city\": \"Chicago\", \"month\": \"Apr\", \"precip\": 3.62}, {\"city\": \"Chicago\", \"month\": \"Aug\", \"precip\": 3.98}, {\"city\": \"Chicago\", \"month\": \"Dec\", \"precip\": 2.56}]}};\n",
       "const opt = {};\n",
       "const type = \"vega-lite\";\n",
       "const id = \"5f93b23c-ada3-4303-9b55-fe1d298c47aa\";\n",
       "\n",
       "const output_area = this;\n",
       "\n",
       "require([\"nbextensions/jupyter-vega/index\"], function(vega) {\n",
       "  const target = document.createElement(\"div\");\n",
       "  target.id = id;\n",
       "  target.className = \"vega-embed\";\n",
       "\n",
       "  const style = document.createElement(\"style\");\n",
       "  style.textContent = [\n",
       "    \".vega-embed .error p {\",\n",
       "    \"  color: firebrick;\",\n",
       "    \"  font-size: 14px;\",\n",
       "    \"}\",\n",
       "  ].join(\"\\\\n\");\n",
       "\n",
       "  // element is a jQuery wrapped DOM element inside the output area\n",
       "  // see http://ipython.readthedocs.io/en/stable/api/generated/\\\n",
       "  // IPython.display.html#IPython.display.Javascript.__init__\n",
       "  element[0].appendChild(target);\n",
       "  element[0].appendChild(style);\n",
       "\n",
       "  vega.render(\"#\" + id, spec, type, opt, output_area);\n",
       "}, function (err) {\n",
       "  if (err.requireType !== \"scripterror\") {\n",
       "    throw(err);\n",
       "  }\n",
       "});\n"
      ],
      "text/plain": [
       "<vega.vegalite.VegaLite at 0x7f90c8c34ac8>"
      ]
     },
     "metadata": {
      "jupyter-vega": "#5f93b23c-ada3-4303-9b55-fe1d298c47aa"
     },
     "output_type": "display_data"
    },
    {
     "data": {
      "text/plain": []
     },
     "execution_count": 10,
     "metadata": {},
     "output_type": "execute_result"
    },
    {
     "data": {
      "image/png": "[encoded data removed]"
     },
     "metadata": {
      "jupyter-vega": "#5f93b23c-ada3-4303-9b55-fe1d298c47aa"
     },
     "output_type": "display_data"
    }
   ],
   "source": [
    "alt.Chart(df).mark_bar().encode(\n",
    "    x='city',\n",
    "    y='average(precip)'\n",
    ")"
   ]
  },
  {
   "cell_type": "markdown",
   "metadata": {},
   "source": [
    "# Combining charts\n"
   ]
  },
  {
   "cell_type": "code",
   "execution_count": 28,
   "metadata": {},
   "outputs": [
    {
     "data": {
      "application/javascript": [
       "const spec = {\"config\": {\"view\": {\"width\": 400, \"height\": 300}, \"mark\": {\"tooltip\": null}}, \"data\": {\"name\": \"data-fdfbb22e8e0e89f6556d8a3b434b0c97\"}, \"mark\": \"line\", \"encoding\": {\"color\": {\"type\": \"nominal\", \"field\": \"city\"}, \"x\": {\"type\": \"nominal\", \"field\": \"month\"}, \"y\": {\"type\": \"quantitative\", \"aggregate\": \"average\", \"field\": \"precip\"}}, \"$schema\": \"https://vega.github.io/schema/vega-lite/v3.4.0.json\", \"datasets\": {\"data-fdfbb22e8e0e89f6556d8a3b434b0c97\": [{\"city\": \"Seattle\", \"month\": \"Apr\", \"precip\": 2.68}, {\"city\": \"Seattle\", \"month\": \"Aug\", \"precip\": 0.87}, {\"city\": \"Seattle\", \"month\": \"Dec\", \"precip\": 5.31}, {\"city\": \"New York\", \"month\": \"Apr\", \"precip\": 3.94}, {\"city\": \"New York\", \"month\": \"Aug\", \"precip\": 4.13}, {\"city\": \"New York\", \"month\": \"Dec\", \"precip\": 3.58}, {\"city\": \"Chicago\", \"month\": \"Apr\", \"precip\": 3.62}, {\"city\": \"Chicago\", \"month\": \"Aug\", \"precip\": 3.98}, {\"city\": \"Chicago\", \"month\": \"Dec\", \"precip\": 2.56}]}};\n",
       "const opt = {};\n",
       "const type = \"vega-lite\";\n",
       "const id = \"116f7a1f-2496-4077-9c0a-396d51cb90fb\";\n",
       "\n",
       "const output_area = this;\n",
       "\n",
       "require([\"nbextensions/jupyter-vega/index\"], function(vega) {\n",
       "  const target = document.createElement(\"div\");\n",
       "  target.id = id;\n",
       "  target.className = \"vega-embed\";\n",
       "\n",
       "  const style = document.createElement(\"style\");\n",
       "  style.textContent = [\n",
       "    \".vega-embed .error p {\",\n",
       "    \"  color: firebrick;\",\n",
       "    \"  font-size: 14px;\",\n",
       "    \"}\",\n",
       "  ].join(\"\\\\n\");\n",
       "\n",
       "  // element is a jQuery wrapped DOM element inside the output area\n",
       "  // see http://ipython.readthedocs.io/en/stable/api/generated/\\\n",
       "  // IPython.display.html#IPython.display.Javascript.__init__\n",
       "  element[0].appendChild(target);\n",
       "  element[0].appendChild(style);\n",
       "\n",
       "  vega.render(\"#\" + id, spec, type, opt, output_area);\n",
       "}, function (err) {\n",
       "  if (err.requireType !== \"scripterror\") {\n",
       "    throw(err);\n",
       "  }\n",
       "});\n"
      ],
      "text/plain": [
       "<vega.vegalite.VegaLite at 0x7f90e989b208>"
      ]
     },
     "metadata": {
      "jupyter-vega": "#116f7a1f-2496-4077-9c0a-396d51cb90fb"
     },
     "output_type": "display_data"
    },
    {
     "data": {
      "text/plain": []
     },
     "execution_count": 28,
     "metadata": {},
     "output_type": "execute_result"
    },
    {
     "data": {
      "image/png": "[encoded data removed]"
     },
     "metadata": {
      "jupyter-vega": "#116f7a1f-2496-4077-9c0a-396d51cb90fb"
     },
     "output_type": "display_data"
    }
   ],
   "source": [
    "chart1 = alt.Chart(df).mark_line().encode(\n",
    "    x='month',\n",
    "    y='average(precip)',\n",
    "    color='city'\n",
    ")\n",
    "chart1"
   ]
  },
  {
   "cell_type": "code",
   "execution_count": 16,
   "metadata": {},
   "outputs": [
    {
     "data": {
      "application/javascript": [
       "const spec = {\"config\": {\"view\": {\"width\": 400, \"height\": 300}, \"mark\": {\"tooltip\": null}}, \"data\": {\"name\": \"data-fdfbb22e8e0e89f6556d8a3b434b0c97\"}, \"mark\": \"point\", \"encoding\": {\"color\": {\"type\": \"nominal\", \"field\": \"city\"}, \"x\": {\"type\": \"nominal\", \"field\": \"month\"}, \"y\": {\"type\": \"quantitative\", \"aggregate\": \"average\", \"field\": \"precip\"}}, \"$schema\": \"https://vega.github.io/schema/vega-lite/v3.4.0.json\", \"datasets\": {\"data-fdfbb22e8e0e89f6556d8a3b434b0c97\": [{\"city\": \"Seattle\", \"month\": \"Apr\", \"precip\": 2.68}, {\"city\": \"Seattle\", \"month\": \"Aug\", \"precip\": 0.87}, {\"city\": \"Seattle\", \"month\": \"Dec\", \"precip\": 5.31}, {\"city\": \"New York\", \"month\": \"Apr\", \"precip\": 3.94}, {\"city\": \"New York\", \"month\": \"Aug\", \"precip\": 4.13}, {\"city\": \"New York\", \"month\": \"Dec\", \"precip\": 3.58}, {\"city\": \"Chicago\", \"month\": \"Apr\", \"precip\": 3.62}, {\"city\": \"Chicago\", \"month\": \"Aug\", \"precip\": 3.98}, {\"city\": \"Chicago\", \"month\": \"Dec\", \"precip\": 2.56}]}};\n",
       "const opt = {};\n",
       "const type = \"vega-lite\";\n",
       "const id = \"ce070c72-beab-4ee5-bca7-ac8679dada77\";\n",
       "\n",
       "const output_area = this;\n",
       "\n",
       "require([\"nbextensions/jupyter-vega/index\"], function(vega) {\n",
       "  const target = document.createElement(\"div\");\n",
       "  target.id = id;\n",
       "  target.className = \"vega-embed\";\n",
       "\n",
       "  const style = document.createElement(\"style\");\n",
       "  style.textContent = [\n",
       "    \".vega-embed .error p {\",\n",
       "    \"  color: firebrick;\",\n",
       "    \"  font-size: 14px;\",\n",
       "    \"}\",\n",
       "  ].join(\"\\\\n\");\n",
       "\n",
       "  // element is a jQuery wrapped DOM element inside the output area\n",
       "  // see http://ipython.readthedocs.io/en/stable/api/generated/\\\n",
       "  // IPython.display.html#IPython.display.Javascript.__init__\n",
       "  element[0].appendChild(target);\n",
       "  element[0].appendChild(style);\n",
       "\n",
       "  vega.render(\"#\" + id, spec, type, opt, output_area);\n",
       "}, function (err) {\n",
       "  if (err.requireType !== \"scripterror\") {\n",
       "    throw(err);\n",
       "  }\n",
       "});\n"
      ],
      "text/plain": [
       "<vega.vegalite.VegaLite at 0x7f90c8c57f60>"
      ]
     },
     "metadata": {
      "jupyter-vega": "#ce070c72-beab-4ee5-bca7-ac8679dada77"
     },
     "output_type": "display_data"
    },
    {
     "data": {
      "text/plain": []
     },
     "execution_count": 16,
     "metadata": {},
     "output_type": "execute_result"
    },
    {
     "data": {
      "image/png": "[encoded data removed]"
     },
     "metadata": {
      "jupyter-vega": "#ce070c72-beab-4ee5-bca7-ac8679dada77"
     },
     "output_type": "display_data"
    }
   ],
   "source": [
    "chart2 = alt.Chart(df).mark_point().encode(\n",
    "    x='month',\n",
    "    y='average(precip)',\n",
    "    color='city'\n",
    ")\n",
    "chart2"
   ]
  },
  {
   "cell_type": "code",
   "execution_count": 17,
   "metadata": {},
   "outputs": [
    {
     "data": {
      "application/javascript": [
       "const spec = {\"config\": {\"view\": {\"width\": 400, \"height\": 300}, \"mark\": {\"tooltip\": null}}, \"hconcat\": [{\"mark\": \"line\", \"encoding\": {\"color\": {\"type\": \"nominal\", \"field\": \"city\"}, \"x\": {\"type\": \"nominal\", \"field\": \"month\"}, \"y\": {\"type\": \"quantitative\", \"aggregate\": \"average\", \"field\": \"precip\"}}}, {\"mark\": \"point\", \"encoding\": {\"color\": {\"type\": \"nominal\", \"field\": \"city\"}, \"x\": {\"type\": \"nominal\", \"field\": \"month\"}, \"y\": {\"type\": \"quantitative\", \"aggregate\": \"average\", \"field\": \"precip\"}}}], \"data\": {\"name\": \"data-fdfbb22e8e0e89f6556d8a3b434b0c97\"}, \"$schema\": \"https://vega.github.io/schema/vega-lite/v3.4.0.json\", \"datasets\": {\"data-fdfbb22e8e0e89f6556d8a3b434b0c97\": [{\"city\": \"Seattle\", \"month\": \"Apr\", \"precip\": 2.68}, {\"city\": \"Seattle\", \"month\": \"Aug\", \"precip\": 0.87}, {\"city\": \"Seattle\", \"month\": \"Dec\", \"precip\": 5.31}, {\"city\": \"New York\", \"month\": \"Apr\", \"precip\": 3.94}, {\"city\": \"New York\", \"month\": \"Aug\", \"precip\": 4.13}, {\"city\": \"New York\", \"month\": \"Dec\", \"precip\": 3.58}, {\"city\": \"Chicago\", \"month\": \"Apr\", \"precip\": 3.62}, {\"city\": \"Chicago\", \"month\": \"Aug\", \"precip\": 3.98}, {\"city\": \"Chicago\", \"month\": \"Dec\", \"precip\": 2.56}]}};\n",
       "const opt = {};\n",
       "const type = \"vega-lite\";\n",
       "const id = \"4cea2ad0-cb26-4846-afd0-cd77fb195bd1\";\n",
       "\n",
       "const output_area = this;\n",
       "\n",
       "require([\"nbextensions/jupyter-vega/index\"], function(vega) {\n",
       "  const target = document.createElement(\"div\");\n",
       "  target.id = id;\n",
       "  target.className = \"vega-embed\";\n",
       "\n",
       "  const style = document.createElement(\"style\");\n",
       "  style.textContent = [\n",
       "    \".vega-embed .error p {\",\n",
       "    \"  color: firebrick;\",\n",
       "    \"  font-size: 14px;\",\n",
       "    \"}\",\n",
       "  ].join(\"\\\\n\");\n",
       "\n",
       "  // element is a jQuery wrapped DOM element inside the output area\n",
       "  // see http://ipython.readthedocs.io/en/stable/api/generated/\\\n",
       "  // IPython.display.html#IPython.display.Javascript.__init__\n",
       "  element[0].appendChild(target);\n",
       "  element[0].appendChild(style);\n",
       "\n",
       "  vega.render(\"#\" + id, spec, type, opt, output_area);\n",
       "}, function (err) {\n",
       "  if (err.requireType !== \"scripterror\") {\n",
       "    throw(err);\n",
       "  }\n",
       "});\n"
      ],
      "text/plain": [
       "<vega.vegalite.VegaLite at 0x7f90c8c52438>"
      ]
     },
     "metadata": {
      "jupyter-vega": "#4cea2ad0-cb26-4846-afd0-cd77fb195bd1"
     },
     "output_type": "display_data"
    },
    {
     "data": {
      "text/plain": []
     },
     "execution_count": 17,
     "metadata": {},
     "output_type": "execute_result"
    },
    {
     "data": {
      "image/png": "[encoded data removed]"
     },
     "metadata": {
      "jupyter-vega": "#4cea2ad0-cb26-4846-afd0-cd77fb195bd1"
     },
     "output_type": "display_data"
    }
   ],
   "source": [
    "chart3 = chart1 | chart2\n",
    "chart3"
   ]
  },
  {
   "cell_type": "code",
   "execution_count": 20,
   "metadata": {},
   "outputs": [
    {
     "data": {
      "application/javascript": [
       "const spec = {\"config\": {\"view\": {\"width\": 400, \"height\": 300}, \"mark\": {\"tooltip\": null}}, \"vconcat\": [{\"mark\": \"line\", \"encoding\": {\"color\": {\"type\": \"nominal\", \"field\": \"city\"}, \"x\": {\"type\": \"nominal\", \"field\": \"month\"}, \"y\": {\"type\": \"quantitative\", \"aggregate\": \"average\", \"field\": \"precip\"}}}, {\"mark\": \"point\", \"encoding\": {\"color\": {\"type\": \"nominal\", \"field\": \"city\"}, \"x\": {\"type\": \"nominal\", \"field\": \"month\"}, \"y\": {\"type\": \"quantitative\", \"aggregate\": \"average\", \"field\": \"precip\"}}}], \"data\": {\"name\": \"data-fdfbb22e8e0e89f6556d8a3b434b0c97\"}, \"$schema\": \"https://vega.github.io/schema/vega-lite/v3.4.0.json\", \"datasets\": {\"data-fdfbb22e8e0e89f6556d8a3b434b0c97\": [{\"city\": \"Seattle\", \"month\": \"Apr\", \"precip\": 2.68}, {\"city\": \"Seattle\", \"month\": \"Aug\", \"precip\": 0.87}, {\"city\": \"Seattle\", \"month\": \"Dec\", \"precip\": 5.31}, {\"city\": \"New York\", \"month\": \"Apr\", \"precip\": 3.94}, {\"city\": \"New York\", \"month\": \"Aug\", \"precip\": 4.13}, {\"city\": \"New York\", \"month\": \"Dec\", \"precip\": 3.58}, {\"city\": \"Chicago\", \"month\": \"Apr\", \"precip\": 3.62}, {\"city\": \"Chicago\", \"month\": \"Aug\", \"precip\": 3.98}, {\"city\": \"Chicago\", \"month\": \"Dec\", \"precip\": 2.56}]}};\n",
       "const opt = {};\n",
       "const type = \"vega-lite\";\n",
       "const id = \"abde447b-ae8d-4220-86bd-c115470f50e4\";\n",
       "\n",
       "const output_area = this;\n",
       "\n",
       "require([\"nbextensions/jupyter-vega/index\"], function(vega) {\n",
       "  const target = document.createElement(\"div\");\n",
       "  target.id = id;\n",
       "  target.className = \"vega-embed\";\n",
       "\n",
       "  const style = document.createElement(\"style\");\n",
       "  style.textContent = [\n",
       "    \".vega-embed .error p {\",\n",
       "    \"  color: firebrick;\",\n",
       "    \"  font-size: 14px;\",\n",
       "    \"}\",\n",
       "  ].join(\"\\\\n\");\n",
       "\n",
       "  // element is a jQuery wrapped DOM element inside the output area\n",
       "  // see http://ipython.readthedocs.io/en/stable/api/generated/\\\n",
       "  // IPython.display.html#IPython.display.Javascript.__init__\n",
       "  element[0].appendChild(target);\n",
       "  element[0].appendChild(style);\n",
       "\n",
       "  vega.render(\"#\" + id, spec, type, opt, output_area);\n",
       "}, function (err) {\n",
       "  if (err.requireType !== \"scripterror\") {\n",
       "    throw(err);\n",
       "  }\n",
       "});\n"
      ],
      "text/plain": [
       "<vega.vegalite.VegaLite at 0x7f90f9101128>"
      ]
     },
     "metadata": {
      "jupyter-vega": "#abde447b-ae8d-4220-86bd-c115470f50e4"
     },
     "output_type": "display_data"
    },
    {
     "data": {
      "text/plain": []
     },
     "execution_count": 20,
     "metadata": {},
     "output_type": "execute_result"
    },
    {
     "data": {
      "image/png": "[encoded data removed]"
     },
     "metadata": {
      "jupyter-vega": "#abde447b-ae8d-4220-86bd-c115470f50e4"
     },
     "output_type": "display_data"
    }
   ],
   "source": [
    "chart4 = chart1 & chart2\n",
    "chart4"
   ]
  },
  {
   "cell_type": "code",
   "execution_count": 21,
   "metadata": {},
   "outputs": [
    {
     "data": {
      "application/javascript": [
       "const spec = {\"config\": {\"view\": {\"width\": 400, \"height\": 300}, \"mark\": {\"tooltip\": null}}, \"layer\": [{\"mark\": \"line\", \"encoding\": {\"color\": {\"type\": \"nominal\", \"field\": \"city\"}, \"x\": {\"type\": \"nominal\", \"field\": \"month\"}, \"y\": {\"type\": \"quantitative\", \"aggregate\": \"average\", \"field\": \"precip\"}}}, {\"mark\": \"point\", \"encoding\": {\"color\": {\"type\": \"nominal\", \"field\": \"city\"}, \"x\": {\"type\": \"nominal\", \"field\": \"month\"}, \"y\": {\"type\": \"quantitative\", \"aggregate\": \"average\", \"field\": \"precip\"}}}], \"data\": {\"name\": \"data-fdfbb22e8e0e89f6556d8a3b434b0c97\"}, \"$schema\": \"https://vega.github.io/schema/vega-lite/v3.4.0.json\", \"datasets\": {\"data-fdfbb22e8e0e89f6556d8a3b434b0c97\": [{\"city\": \"Seattle\", \"month\": \"Apr\", \"precip\": 2.68}, {\"city\": \"Seattle\", \"month\": \"Aug\", \"precip\": 0.87}, {\"city\": \"Seattle\", \"month\": \"Dec\", \"precip\": 5.31}, {\"city\": \"New York\", \"month\": \"Apr\", \"precip\": 3.94}, {\"city\": \"New York\", \"month\": \"Aug\", \"precip\": 4.13}, {\"city\": \"New York\", \"month\": \"Dec\", \"precip\": 3.58}, {\"city\": \"Chicago\", \"month\": \"Apr\", \"precip\": 3.62}, {\"city\": \"Chicago\", \"month\": \"Aug\", \"precip\": 3.98}, {\"city\": \"Chicago\", \"month\": \"Dec\", \"precip\": 2.56}]}};\n",
       "const opt = {};\n",
       "const type = \"vega-lite\";\n",
       "const id = \"8c2cfd9e-a110-4ec3-a6b9-fc9f7b04d78d\";\n",
       "\n",
       "const output_area = this;\n",
       "\n",
       "require([\"nbextensions/jupyter-vega/index\"], function(vega) {\n",
       "  const target = document.createElement(\"div\");\n",
       "  target.id = id;\n",
       "  target.className = \"vega-embed\";\n",
       "\n",
       "  const style = document.createElement(\"style\");\n",
       "  style.textContent = [\n",
       "    \".vega-embed .error p {\",\n",
       "    \"  color: firebrick;\",\n",
       "    \"  font-size: 14px;\",\n",
       "    \"}\",\n",
       "  ].join(\"\\\\n\");\n",
       "\n",
       "  // element is a jQuery wrapped DOM element inside the output area\n",
       "  // see http://ipython.readthedocs.io/en/stable/api/generated/\\\n",
       "  // IPython.display.html#IPython.display.Javascript.__init__\n",
       "  element[0].appendChild(target);\n",
       "  element[0].appendChild(style);\n",
       "\n",
       "  vega.render(\"#\" + id, spec, type, opt, output_area);\n",
       "}, function (err) {\n",
       "  if (err.requireType !== \"scripterror\") {\n",
       "    throw(err);\n",
       "  }\n",
       "});\n"
      ],
      "text/plain": [
       "<vega.vegalite.VegaLite at 0x7f90c8c52e10>"
      ]
     },
     "metadata": {
      "jupyter-vega": "#8c2cfd9e-a110-4ec3-a6b9-fc9f7b04d78d"
     },
     "output_type": "display_data"
    },
    {
     "data": {
      "text/plain": []
     },
     "execution_count": 21,
     "metadata": {},
     "output_type": "execute_result"
    },
    {
     "data": {
      "image/png": "[encoded data removed]"
     },
     "metadata": {
      "jupyter-vega": "#8c2cfd9e-a110-4ec3-a6b9-fc9f7b04d78d"
     },
     "output_type": "display_data"
    }
   ],
   "source": [
    "chart5 = chart1 + chart2\n",
    "chart5"
   ]
  },
  {
   "cell_type": "code",
   "execution_count": 22,
   "metadata": {},
   "outputs": [
    {
     "data": {
      "application/javascript": [
       "const spec = {\"config\": {\"view\": {\"width\": 400, \"height\": 300}, \"mark\": {\"tooltip\": null}}, \"layer\": [{\"mark\": \"line\", \"encoding\": {\"color\": {\"type\": \"nominal\", \"field\": \"city\"}, \"x\": {\"type\": \"nominal\", \"field\": \"month\"}, \"y\": {\"type\": \"quantitative\", \"aggregate\": \"average\", \"field\": \"precip\"}}, \"selection\": {\"selector001\": {\"type\": \"interval\", \"bind\": \"scales\", \"encodings\": [\"x\", \"y\"]}}}, {\"mark\": \"point\", \"encoding\": {\"color\": {\"type\": \"nominal\", \"field\": \"city\"}, \"x\": {\"type\": \"nominal\", \"field\": \"month\"}, \"y\": {\"type\": \"quantitative\", \"aggregate\": \"average\", \"field\": \"precip\"}}}], \"data\": {\"name\": \"data-fdfbb22e8e0e89f6556d8a3b434b0c97\"}, \"$schema\": \"https://vega.github.io/schema/vega-lite/v3.4.0.json\", \"datasets\": {\"data-fdfbb22e8e0e89f6556d8a3b434b0c97\": [{\"city\": \"Seattle\", \"month\": \"Apr\", \"precip\": 2.68}, {\"city\": \"Seattle\", \"month\": \"Aug\", \"precip\": 0.87}, {\"city\": \"Seattle\", \"month\": \"Dec\", \"precip\": 5.31}, {\"city\": \"New York\", \"month\": \"Apr\", \"precip\": 3.94}, {\"city\": \"New York\", \"month\": \"Aug\", \"precip\": 4.13}, {\"city\": \"New York\", \"month\": \"Dec\", \"precip\": 3.58}, {\"city\": \"Chicago\", \"month\": \"Apr\", \"precip\": 3.62}, {\"city\": \"Chicago\", \"month\": \"Aug\", \"precip\": 3.98}, {\"city\": \"Chicago\", \"month\": \"Dec\", \"precip\": 2.56}]}};\n",
       "const opt = {};\n",
       "const type = \"vega-lite\";\n",
       "const id = \"bc54b035-f41e-4888-9c68-6f09737f1f1a\";\n",
       "\n",
       "const output_area = this;\n",
       "\n",
       "require([\"nbextensions/jupyter-vega/index\"], function(vega) {\n",
       "  const target = document.createElement(\"div\");\n",
       "  target.id = id;\n",
       "  target.className = \"vega-embed\";\n",
       "\n",
       "  const style = document.createElement(\"style\");\n",
       "  style.textContent = [\n",
       "    \".vega-embed .error p {\",\n",
       "    \"  color: firebrick;\",\n",
       "    \"  font-size: 14px;\",\n",
       "    \"}\",\n",
       "  ].join(\"\\\\n\");\n",
       "\n",
       "  // element is a jQuery wrapped DOM element inside the output area\n",
       "  // see http://ipython.readthedocs.io/en/stable/api/generated/\\\n",
       "  // IPython.display.html#IPython.display.Javascript.__init__\n",
       "  element[0].appendChild(target);\n",
       "  element[0].appendChild(style);\n",
       "\n",
       "  vega.render(\"#\" + id, spec, type, opt, output_area);\n",
       "}, function (err) {\n",
       "  if (err.requireType !== \"scripterror\") {\n",
       "    throw(err);\n",
       "  }\n",
       "});\n"
      ],
      "text/plain": [
       "<vega.vegalite.VegaLite at 0x7f90c8c6aef0>"
      ]
     },
     "metadata": {
      "jupyter-vega": "#bc54b035-f41e-4888-9c68-6f09737f1f1a"
     },
     "output_type": "display_data"
    },
    {
     "data": {
      "text/plain": []
     },
     "execution_count": 22,
     "metadata": {},
     "output_type": "execute_result"
    },
    {
     "data": {
      "image/png": "[encoded data removed]"
     },
     "metadata": {
      "jupyter-vega": "#bc54b035-f41e-4888-9c68-6f09737f1f1a"
     },
     "output_type": "display_data"
    }
   ],
   "source": [
    "chart5.interactive()"
   ]
  },
  {
   "cell_type": "code",
   "execution_count": 26,
   "metadata": {},
   "outputs": [],
   "source": [
    "chart5.save('chart.html')"
   ]
  },
  {
   "cell_type": "code",
   "execution_count": null,
   "metadata": {},
   "outputs": [],
   "source": []
  }
 ],
 "metadata": {
  "kernelspec": {
   "display_name": "Python 3",
   "language": "python",
   "name": "python3"
  },
  "language_info": {
   "codemirror_mode": {
    "name": "ipython",
    "version": 3
   },
   "file_extension": ".py",
   "mimetype": "text/x-python",
   "name": "python",
   "nbconvert_exporter": "python",
   "pygments_lexer": "ipython3",
   "version": "3.7.1"
  }
 },
 "nbformat": 4,
 "nbformat_minor": 4
}
